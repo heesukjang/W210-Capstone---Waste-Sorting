{
  "nbformat": 4,
  "nbformat_minor": 0,
  "metadata": {
    "colab": {
      "provenance": [],
      "gpuType": "T4",
      "include_colab_link": true
    },
    "kernelspec": {
      "name": "python3",
      "display_name": "Python 3"
    },
    "language_info": {
      "name": "python"
    },
    "accelerator": "GPU"
  },
  "cells": [
    {
      "cell_type": "markdown",
      "metadata": {
        "id": "view-in-github",
        "colab_type": "text"
      },
      "source": [
        "<a href=\"https://colab.research.google.com/github/heesukjang/W210-Capstone---Waste-Sorting/blob/main/WasteSorting_FeatureExtraction_CNN_Heesuk.ipynb\" target=\"_parent\"><img src=\"https://colab.research.google.com/assets/colab-badge.svg\" alt=\"Open In Colab\"/></a>"
      ]
    },
    {
      "cell_type": "markdown",
      "source": [
        "## Import libraries"
      ],
      "metadata": {
        "id": "mF9VQ7DjnQD4"
      }
    },
    {
      "cell_type": "code",
      "source": [
        "# #@title\n",
        "# %%time\n",
        "# %%capture\n",
        "\n",
        "# ### Installing any uninstalled dependencies for the Python kernel\n",
        "# import sys\n",
        "# !{sys.executable} -m pip install numpy\n",
        "# !{sys.executable} -m pip install matplotlib\n",
        "# !{sys.executable} -m pip install opencv-python\n",
        "# !{sys.executable} -m pip install rembg\n",
        "# !{sys.executable} -m pip install scikit-image\n",
        "# !{sys.executable} -m pip install scikit-learn\n",
        "# !{sys.executable} -m pip install pandas\n",
        "# !{sys.executable} -m pip install seaborn"
      ],
      "metadata": {
        "id": "XDz9omdh-CwU"
      },
      "execution_count": null,
      "outputs": []
    },
    {
      "cell_type": "code",
      "source": [
        "# # write .py file with the print content\n",
        "# %%writefile test_heesuk.py\n",
        "# print('hello')"
      ],
      "metadata": {
        "id": "JexJr6XGD1GU"
      },
      "execution_count": null,
      "outputs": []
    },
    {
      "cell_type": "code",
      "source": [
        "# # read the same .py file in python3\n",
        "# !python3 test_heesuk.py"
      ],
      "metadata": {
        "id": "FoJeuGXjET7X"
      },
      "execution_count": null,
      "outputs": []
    },
    {
      "cell_type": "code",
      "source": [
        "!pip install pillow_heif rembg"
      ],
      "metadata": {
        "colab": {
          "base_uri": "https://localhost:8080/"
        },
        "id": "-MvY87KSAtds",
        "outputId": "1c9a57ba-164d-4966-9d3a-79c0d5eafaae"
      },
      "execution_count": null,
      "outputs": [
        {
          "output_type": "stream",
          "name": "stdout",
          "text": [
            "Collecting pillow_heif\n",
            "  Downloading pillow_heif-0.15.0-cp310-cp310-manylinux_2_17_x86_64.manylinux2014_x86_64.whl (7.5 MB)\n",
            "\u001b[?25l     \u001b[90m━━━━━━━━━━━━━━━━━━━━━━━━━━━━━━━━━━━━━━━━\u001b[0m \u001b[32m0.0/7.5 MB\u001b[0m \u001b[31m?\u001b[0m eta \u001b[36m-:--:--\u001b[0m\r\u001b[2K     \u001b[91m━\u001b[0m\u001b[91m╸\u001b[0m\u001b[90m━━━━━━━━━━━━━━━━━━━━━━━━━━━━━━━━━━━━━━\u001b[0m \u001b[32m0.3/7.5 MB\u001b[0m \u001b[31m10.4 MB/s\u001b[0m eta \u001b[36m0:00:01\u001b[0m\r\u001b[2K     \u001b[91m━━━━━━━━━━━━━━━━━\u001b[0m\u001b[90m╺\u001b[0m\u001b[90m━━━━━━━━━━━━━━━━━━━━━━\u001b[0m \u001b[32m3.3/7.5 MB\u001b[0m \u001b[31m48.1 MB/s\u001b[0m eta \u001b[36m0:00:01\u001b[0m\r\u001b[2K     \u001b[91m━━━━━━━━━━━━━━━━━━━━━━━━━━━━━━━━━━━━\u001b[0m\u001b[90m╺\u001b[0m\u001b[90m━━━\u001b[0m \u001b[32m6.8/7.5 MB\u001b[0m \u001b[31m65.8 MB/s\u001b[0m eta \u001b[36m0:00:01\u001b[0m\r\u001b[2K     \u001b[91m━━━━━━━━━━━━━━━━━━━━━━━━━━━━━━━━━━━━━━━\u001b[0m\u001b[91m╸\u001b[0m \u001b[32m7.5/7.5 MB\u001b[0m \u001b[31m67.4 MB/s\u001b[0m eta \u001b[36m0:00:01\u001b[0m\r\u001b[2K     \u001b[90m━━━━━━━━━━━━━━━━━━━━━━━━━━━━━━━━━━━━━━━━\u001b[0m \u001b[32m7.5/7.5 MB\u001b[0m \u001b[31m48.8 MB/s\u001b[0m eta \u001b[36m0:00:00\u001b[0m\n",
            "\u001b[?25hCollecting rembg\n",
            "  Downloading rembg-2.0.54-py3-none-any.whl (32 kB)\n",
            "Requirement already satisfied: pillow>=9.2.0 in /usr/local/lib/python3.10/dist-packages (from pillow_heif) (9.4.0)\n",
            "Requirement already satisfied: jsonschema in /usr/local/lib/python3.10/dist-packages (from rembg) (4.19.2)\n",
            "Requirement already satisfied: numpy in /usr/local/lib/python3.10/dist-packages (from rembg) (1.25.2)\n",
            "Collecting onnxruntime (from rembg)\n",
            "  Downloading onnxruntime-1.17.0-cp310-cp310-manylinux_2_27_x86_64.manylinux_2_28_x86_64.whl (6.8 MB)\n",
            "\u001b[2K     \u001b[90m━━━━━━━━━━━━━━━━━━━━━━━━━━━━━━━━━━━━━━━━\u001b[0m \u001b[32m6.8/6.8 MB\u001b[0m \u001b[31m67.3 MB/s\u001b[0m eta \u001b[36m0:00:00\u001b[0m\n",
            "\u001b[?25hRequirement already satisfied: opencv-python-headless in /usr/local/lib/python3.10/dist-packages (from rembg) (4.9.0.80)\n",
            "Requirement already satisfied: pooch in /usr/local/lib/python3.10/dist-packages (from rembg) (1.8.0)\n",
            "Collecting pymatting (from rembg)\n",
            "  Downloading PyMatting-1.1.12-py3-none-any.whl (52 kB)\n",
            "\u001b[2K     \u001b[90m━━━━━━━━━━━━━━━━━━━━━━━━━━━━━━━━━━━━━━━━\u001b[0m \u001b[32m53.0/53.0 kB\u001b[0m \u001b[31m7.2 MB/s\u001b[0m eta \u001b[36m0:00:00\u001b[0m\n",
            "\u001b[?25hRequirement already satisfied: scikit-image in /usr/local/lib/python3.10/dist-packages (from rembg) (0.19.3)\n",
            "Requirement already satisfied: scipy in /usr/local/lib/python3.10/dist-packages (from rembg) (1.11.4)\n",
            "Requirement already satisfied: tqdm in /usr/local/lib/python3.10/dist-packages (from rembg) (4.66.1)\n",
            "Requirement already satisfied: attrs>=22.2.0 in /usr/local/lib/python3.10/dist-packages (from jsonschema->rembg) (23.2.0)\n",
            "Requirement already satisfied: jsonschema-specifications>=2023.03.6 in /usr/local/lib/python3.10/dist-packages (from jsonschema->rembg) (2023.12.1)\n",
            "Requirement already satisfied: referencing>=0.28.4 in /usr/local/lib/python3.10/dist-packages (from jsonschema->rembg) (0.33.0)\n",
            "Requirement already satisfied: rpds-py>=0.7.1 in /usr/local/lib/python3.10/dist-packages (from jsonschema->rembg) (0.17.1)\n",
            "Collecting coloredlogs (from onnxruntime->rembg)\n",
            "  Downloading coloredlogs-15.0.1-py2.py3-none-any.whl (46 kB)\n",
            "\u001b[2K     \u001b[90m━━━━━━━━━━━━━━━━━━━━━━━━━━━━━━━━━━━━━━━━\u001b[0m \u001b[32m46.0/46.0 kB\u001b[0m \u001b[31m6.4 MB/s\u001b[0m eta \u001b[36m0:00:00\u001b[0m\n",
            "\u001b[?25hRequirement already satisfied: flatbuffers in /usr/local/lib/python3.10/dist-packages (from onnxruntime->rembg) (23.5.26)\n",
            "Requirement already satisfied: packaging in /usr/local/lib/python3.10/dist-packages (from onnxruntime->rembg) (23.2)\n",
            "Requirement already satisfied: protobuf in /usr/local/lib/python3.10/dist-packages (from onnxruntime->rembg) (3.20.3)\n",
            "Requirement already satisfied: sympy in /usr/local/lib/python3.10/dist-packages (from onnxruntime->rembg) (1.12)\n",
            "Requirement already satisfied: platformdirs>=2.5.0 in /usr/local/lib/python3.10/dist-packages (from pooch->rembg) (4.2.0)\n",
            "Requirement already satisfied: requests>=2.19.0 in /usr/local/lib/python3.10/dist-packages (from pooch->rembg) (2.31.0)\n",
            "Requirement already satisfied: numba!=0.49.0 in /usr/local/lib/python3.10/dist-packages (from pymatting->rembg) (0.58.1)\n",
            "Requirement already satisfied: networkx>=2.2 in /usr/local/lib/python3.10/dist-packages (from scikit-image->rembg) (3.2.1)\n",
            "Requirement already satisfied: imageio>=2.4.1 in /usr/local/lib/python3.10/dist-packages (from scikit-image->rembg) (2.31.6)\n",
            "Requirement already satisfied: tifffile>=2019.7.26 in /usr/local/lib/python3.10/dist-packages (from scikit-image->rembg) (2024.1.30)\n",
            "Requirement already satisfied: PyWavelets>=1.1.1 in /usr/local/lib/python3.10/dist-packages (from scikit-image->rembg) (1.5.0)\n",
            "Requirement already satisfied: llvmlite<0.42,>=0.41.0dev0 in /usr/local/lib/python3.10/dist-packages (from numba!=0.49.0->pymatting->rembg) (0.41.1)\n",
            "Requirement already satisfied: charset-normalizer<4,>=2 in /usr/local/lib/python3.10/dist-packages (from requests>=2.19.0->pooch->rembg) (3.3.2)\n",
            "Requirement already satisfied: idna<4,>=2.5 in /usr/local/lib/python3.10/dist-packages (from requests>=2.19.0->pooch->rembg) (3.6)\n",
            "Requirement already satisfied: urllib3<3,>=1.21.1 in /usr/local/lib/python3.10/dist-packages (from requests>=2.19.0->pooch->rembg) (2.0.7)\n",
            "Requirement already satisfied: certifi>=2017.4.17 in /usr/local/lib/python3.10/dist-packages (from requests>=2.19.0->pooch->rembg) (2024.2.2)\n",
            "Collecting humanfriendly>=9.1 (from coloredlogs->onnxruntime->rembg)\n",
            "  Downloading humanfriendly-10.0-py2.py3-none-any.whl (86 kB)\n",
            "\u001b[2K     \u001b[90m━━━━━━━━━━━━━━━━━━━━━━━━━━━━━━━━━━━━━━━━\u001b[0m \u001b[32m86.8/86.8 kB\u001b[0m \u001b[31m12.1 MB/s\u001b[0m eta \u001b[36m0:00:00\u001b[0m\n",
            "\u001b[?25hRequirement already satisfied: mpmath>=0.19 in /usr/local/lib/python3.10/dist-packages (from sympy->onnxruntime->rembg) (1.3.0)\n",
            "Installing collected packages: pillow_heif, humanfriendly, pymatting, coloredlogs, onnxruntime, rembg\n",
            "Successfully installed coloredlogs-15.0.1 humanfriendly-10.0 onnxruntime-1.17.0 pillow_heif-0.15.0 pymatting-1.1.12 rembg-2.0.54\n"
          ]
        }
      ]
    },
    {
      "cell_type": "code",
      "source": [
        "#@title\n",
        "%%time\n",
        "### Imports\n",
        "\n",
        "import numpy as np\n",
        "import matplotlib.pyplot as plt\n",
        "import skimage.feature as feature\n",
        "import cv2\n",
        "import os\n",
        "import matplotlib.image as mpimg\n",
        "from skimage.util import img_as_ubyte\n",
        "from rembg import remove\n",
        "from sklearn.decomposition import PCA\n",
        "from sklearn.decomposition import KernelPCA\n",
        "from sklearn.decomposition import IncrementalPCA\n",
        "from skimage.feature import hog\n",
        "from scipy.ndimage import convolve\n",
        "from scipy import signal\n",
        "import pandas as pd\n",
        "from sklearn.cluster import DBSCAN\n",
        "import copy\n",
        "import seaborn as sns\n",
        "\n",
        "from skimage.feature import hog\n",
        "from scipy.ndimage import convolve\n",
        "from scipy import signal\n",
        "\n",
        "from sklearn.manifold import TSNE\n",
        "from skimage.filters import prewitt_h, prewitt_v\n",
        "from skimage import filters\n",
        "from skimage.feature import haar_like_feature_coord\n",
        "from skimage.feature import draw_haar_like_feature\n",
        "from sklearn.preprocessing import StandardScaler\n",
        "from sklearn.linear_model import LogisticRegression\n",
        "from sklearn.pipeline import Pipeline\n",
        "from sklearn.model_selection import GridSearchCV\n",
        "from PIL import Image\n",
        "from PIL import ImageEnhance\n",
        "from PIL import ImageFilter\n",
        "from scipy.cluster.vq import kmeans\n",
        "from scipy.cluster.vq import vq\n",
        "from scipy.cluster.vq import whiten\n",
        "import joblib\n",
        "from sklearn.dummy import DummyClassifier\n",
        "from sklearn.model_selection import RepeatedStratifiedKFold\n",
        "from sklearn.model_selection import cross_val_score\n",
        "from IPython.display import display\n",
        "from sklearn.model_selection import StratifiedKFold\n",
        "from sklearn.dummy import DummyClassifier\n",
        "from sklearn.metrics import accuracy_score\n",
        "from sklearn.metrics import balanced_accuracy_score\n",
        "from sklearn.metrics import f1_score, recall_score, precision_score\n",
        "\n",
        "from sklearn.metrics import confusion_matrix\n",
        "from sklearn.metrics import ConfusionMatrixDisplay\n",
        "from sklearn.metrics import classification_report\n",
        "from sklearn.model_selection import train_test_split\n",
        "from sklearn.svm import SVC\n",
        "import ast\n",
        "import glob"
      ],
      "metadata": {
        "colab": {
          "base_uri": "https://localhost:8080/"
        },
        "id": "dmXvE8C-Bd-n",
        "outputId": "372e862b-28e2-4610-849a-ed86d7ccafbf"
      },
      "execution_count": null,
      "outputs": [
        {
          "output_type": "stream",
          "name": "stdout",
          "text": [
            "CPU times: user 50 s, sys: 760 ms, total: 50.7 s\n",
            "Wall time: 59.7 s\n"
          ]
        }
      ]
    },
    {
      "cell_type": "code",
      "source": [
        "import tensorflow as tf\n",
        "print(tf.__version__)"
      ],
      "metadata": {
        "id": "PUSRQjxeFEId",
        "outputId": "f5be058f-1515-4126-8acf-d675deac31ae",
        "colab": {
          "base_uri": "https://localhost:8080/"
        }
      },
      "execution_count": null,
      "outputs": [
        {
          "output_type": "stream",
          "name": "stdout",
          "text": [
            "2.15.0\n"
          ]
        }
      ]
    },
    {
      "cell_type": "code",
      "source": [
        "# !pip install --upgrade tensorflow\n",
        "# !pip install --upgrade tensorflow-gpu"
      ],
      "metadata": {
        "id": "NnGyuU7_FW-W"
      },
      "execution_count": null,
      "outputs": []
    },
    {
      "cell_type": "code",
      "source": [
        "#@title\n",
        "%%time\n",
        "import tensorflow as tf\n",
        "from tensorflow import keras\n",
        "from tensorflow.keras import layers\n",
        "from tensorflow.keras.preprocessing.image import ImageDataGenerator\n",
        "# from tensorflow.keras.utils import layer_utils\n",
        "# from keras.utils.layer_utils import count_params\n",
        "# from tensorflow.keras.utils import count_params\n",
        "from tensorflow.keras.layers import RandomFlip\n",
        "from tensorflow.keras.layers import RandomZoom\n",
        "from tensorflow.keras.layers import RandomRotation\n",
        "from tensorflow.keras.layers import Conv1D\n",
        "from tensorflow.keras.layers import Conv2D\n",
        "from tensorflow.keras.layers import Concatenate\n",
        "from tensorflow.keras.layers import MaxPooling1D\n",
        "from tensorflow.keras.layers import MaxPooling2D\n",
        "from tensorflow.keras.layers import AveragePooling2D\n",
        "from tensorflow.keras.layers import Input\n",
        "from tensorflow.keras.layers import Dense\n",
        "from tensorflow.keras.layers import Flatten\n",
        "from tensorflow.keras.layers import Dropout\n",
        "from tensorflow.keras.models import Sequential\n",
        "from tensorflow.keras.layers import BatchNormalization\n",
        "from tensorflow.keras.layers import GlobalMaxPooling2D\n",
        "from tensorflow.keras.layers import GlobalAveragePooling1D\n",
        "from tensorflow.keras.layers import GlobalAveragePooling2D\n",
        "from tensorflow.keras.layers import Lambda\n",
        "from tensorflow.keras.layers import Multiply\n",
        "from tensorflow.keras.layers import LSTM\n",
        "from tensorflow.keras.layers import Bidirectional\n",
        "from tensorflow.keras.layers import PReLU\n",
        "from tensorflow.keras.layers import Activation\n",
        "from tensorflow.keras.layers import SeparableConv1D\n",
        "from tensorflow.keras.layers import SeparableConv2D\n",
        "from tensorflow.keras.optimizers import Adam\n",
        "from tensorflow.keras.optimizers import SGD\n",
        "from tensorflow.keras.preprocessing.image import ImageDataGenerator\n",
        "from tensorflow.keras.preprocessing.image import array_to_img\n",
        "from tensorflow.keras.preprocessing.image import img_to_array\n",
        "from tensorflow.keras.preprocessing.image import load_img"
      ],
      "metadata": {
        "id": "gO3eC5XvEwLg",
        "outputId": "7139e27c-dacb-4040-c467-1b75a2b27f4c",
        "colab": {
          "base_uri": "https://localhost:8080/"
        }
      },
      "execution_count": null,
      "outputs": [
        {
          "output_type": "stream",
          "name": "stdout",
          "text": [
            "CPU times: user 24.1 ms, sys: 8.11 ms, total: 32.2 ms\n",
            "Wall time: 60.8 ms\n"
          ]
        }
      ]
    },
    {
      "cell_type": "code",
      "execution_count": null,
      "metadata": {
        "id": "NeWd5hVw7q8I",
        "colab": {
          "base_uri": "https://localhost:8080/"
        },
        "outputId": "71d3d54b-db30-40b3-e6db-dc278bba7b9e"
      },
      "outputs": [
        {
          "output_type": "stream",
          "name": "stdout",
          "text": [
            "Mounted at /content/drive\n"
          ]
        }
      ],
      "source": [
        "import numpy as np\n",
        "import matplotlib.pyplot as plt\n",
        "import os\n",
        "import pandas as pd\n",
        "from tensorflow.keras.preprocessing import image\n",
        "from PIL import Image\n",
        "from collections import Counter\n",
        "\n",
        "# !pip install pillow_heif\n",
        "from pillow_heif import register_heif_opener\n",
        "\n",
        "# Register the HEIF opener\n",
        "register_heif_opener()\n",
        "\n",
        "# #@title\n",
        "# %%time\n",
        "# Hide warnings for final output\n",
        "import warnings\n",
        "\n",
        "warnings.filterwarnings('ignore')\n",
        "\n",
        "from google.colab import drive\n",
        "drive.mount('/content/drive', force_remount=True)"
      ]
    },
    {
      "cell_type": "markdown",
      "source": [
        "## Ensure to Add Shortcut of \"MIDS_Capstone\" folder to MyDrive from \"Shared with me\" first to be able to load images to your Colab notebook:\n",
        "1. Right click on the \"MIDS_Capstone\" folder\n",
        "2. Select \"Organize\" => \"Add Shortcut\" => Select \"MyDrive\""
      ],
      "metadata": {
        "id": "UE3vZjgp7-M0"
      }
    },
    {
      "cell_type": "code",
      "source": [
        "# # # find # of files\n",
        "\n",
        "# drinkingwaste_path = '/content/drive/MyDrive/MIDS_Capstone/Datasets/rawimgs/'\n",
        "# drinkingwaste_folders = os.listdir(drinkingwaste_path)\n",
        "# print(f'drinkingwaste_folders = {drinkingwaste_folders}')\n",
        "\n",
        "# if '.DS_Store' in drinkingwaste_folders:\n",
        "#     drinkingwaste_folders.remove('.DS_Store')\n",
        "\n",
        "# df_dw = pd.DataFrame(columns = drinkingwaste_folders)\n",
        "\n",
        "# for f in drinkingwaste_folders:\n",
        "#   folder_path = os.path.join(drinkingwaste_path, f)\n",
        "\n",
        "#   if os.path.isdir(folder_path):\n",
        "#     print(f'folder_path = {folder_path}')\n",
        "#     print(f'f = {f}')\n",
        "#     files_in_folder = os.listdir(folder_path)\n",
        "#     print(f'files_in_folder = {files_in_folder}')\n",
        "#     num_files = len(files_in_folder)\n",
        "\n",
        "#     df_dw.loc[0, f] = num_files\n",
        "\n",
        "\n",
        "# print(df_dw)\n",
        "\n",
        "\n",
        "# # dringkingwaste_pet_images = img2np(path = drinkingwaste_pet_path, list_of_filename = os.listdir(drinkingwaste_pet_path))"
      ],
      "metadata": {
        "id": "OjrVYnYSYZkM"
      },
      "execution_count": null,
      "outputs": []
    },
    {
      "cell_type": "code",
      "source": [
        "\n",
        "# def count_imgs_in_each_class(folder_name):\n",
        "#   trashbox_train_path = '/content/drive/MyDrive/MIDS_Capstone/Datasets/TrashBox_train_dataset_subfolders/'\n",
        "#   # drinkingwaste_path = '/content/drive/MyDrive/MIDS Capstone/Datasets/rawimgs/'\n",
        "#   trashbox_train_subfolders = os.listdir(trashbox_train_path + folder_name)\n",
        "#   # print(f'trashbox_train_subfolders = {trashbox_train_subfolders}')\n",
        "\n",
        "#   df_dw = pd.DataFrame(columns = trashbox_train_subfolders)\n",
        "\n",
        "#   # if '.DS_Store' in trashbox_train_path:\n",
        "#   #     trashbox_train_path.remove('.DS_Store')\n",
        "#   # if '.DS_Store' in trashbox_train_subfolders:\n",
        "#   #     trashbox_train_subfolders.remove('.DS_Store')\n",
        "\n",
        "#   if folder_name == 'glass' or folder_name == 'cardboard':\n",
        "#     print(f'Count of \"{folder_name}\" images = {len(trashbox_train_subfolders)}')\n",
        "#     print('==========================================')\n",
        "#     # df_dw.loc[0, folder_name] = num_files\n",
        "#   # if 'glass' not in trashbox_train_subfolders and 'cardboard' not in trashbox_train_subfolders:\n",
        "\n",
        "#   else:\n",
        "#     # if '.DS_Store' in trashbox_train_subfolders:\n",
        "#     #   trashbox_train_subfolders.remove('.DS_Store')\n",
        "\n",
        "#     print(f'Count of \"{folder_name}\" images:\\n')\n",
        "#     for f in trashbox_train_subfolders:\n",
        "#       print(f'f = {f}')\n",
        "\n",
        "#       folder_path = os.path.join(trashbox_train_path, f)\n",
        "#       print(f'folder_path = {folder_path}')\n",
        "\n",
        "#       if os.path.isdir(folder_path):\n",
        "#         # print(f)\n",
        "#         files_in_folder = os.listdir(folder_path)\n",
        "#         num_files = len(files_in_folder)\n",
        "#         # print(f'Count of {f} images:\\n')\n",
        "#         df_dw.loc[0, f] = num_files\n",
        "\n",
        "\n",
        "#     print(df_dw)\n",
        "#     print('==========================================')\n",
        "\n",
        "# count_imgs_in_each_class('plastic')\n",
        "# count_imgs_in_each_class('paper')\n",
        "# count_imgs_in_each_class('metal')\n",
        "# count_imgs_in_each_class('medical')\n",
        "# count_imgs_in_each_class('glass')\n",
        "# count_imgs_in_each_class('e-waste')\n",
        "# count_imgs_in_each_class('cardboard')"
      ],
      "metadata": {
        "id": "Fqsj_GlF4DbC"
      },
      "execution_count": null,
      "outputs": []
    },
    {
      "cell_type": "code",
      "source": [
        "#@title\n",
        "%%time\n",
        "\n",
        "trashbox_train_path = '/content/drive/MyDrive/MIDS_Capstone/Datasets/TrashBox_train_set/'\n",
        "label_dict = {0: \"plastic\",\n",
        "              1: \"paper\",\n",
        "              2: \"metal\",\n",
        "              3: \"medical\",\n",
        "              4: \"glass\",\n",
        "              5: \"e_waste\",\n",
        "              6: \"cardboard\"\n",
        "             }\n",
        "\n",
        "label_list = [\"Plastic\", \"Paper\", \"Metal\", \"Medical\", \"Glass\", \"E-Waste\", \"Cardboard\"]\n",
        "\n",
        "plastic_image_dir_path = trashbox_train_path + 'plastic'\n",
        "paper_image_dir_path = trashbox_train_path + 'paper'\n",
        "metal_image_dir_path = trashbox_train_path + 'metal'\n",
        "medical_image_dir_path = trashbox_train_path + 'medical'\n",
        "glass_image_dir_path = trashbox_train_path + 'glass'\n",
        "e_waste_image_dir_path = trashbox_train_path + 'e_waste'\n",
        "cardboard_image_dir_path = trashbox_train_path + 'cardboard'\n",
        "\n",
        "processed_image_path_list = [plastic_image_dir_path,\n",
        "                              paper_image_dir_path,\n",
        "                              metal_image_dir_path,\n",
        "                              medical_image_dir_path,\n",
        "                              glass_image_dir_path,\n",
        "                              e_waste_image_dir_path,\n",
        "                              cardboard_image_dir_path\n",
        "                            ]\n",
        "\n"
      ],
      "metadata": {
        "id": "mlo-h5tUJY2G",
        "outputId": "0df217b8-6c6c-42f7-fe68-e59ec0b55617",
        "colab": {
          "base_uri": "https://localhost:8080/"
        }
      },
      "execution_count": null,
      "outputs": [
        {
          "output_type": "stream",
          "name": "stdout",
          "text": [
            "CPU times: user 8 µs, sys: 0 ns, total: 8 µs\n",
            "Wall time: 13.1 µs\n"
          ]
        }
      ]
    },
    {
      "cell_type": "code",
      "source": [
        "%%time\n",
        "folder_list = [\"plastic\",\n",
        "              \"paper\",\n",
        "              \"metal\",\n",
        "              \"medical\",\n",
        "              \"glass\",\n",
        "              \"e_waste\",\n",
        "              \"cardboard\"\n",
        "              ]\n",
        "current_path = os.getcwd()\n",
        "for folder in folder_list:\n",
        "    if not os.path.exists(os.path.join(current_path, folder)):\n",
        "        os.makedirs(os.path.join(current_path, folder))\n",
        "\n",
        "# %%time\n",
        "# folder_list = [\"plastic cups\",\n",
        "#                \"plastic containers\",\n",
        "#                \"plastic bottles\",\n",
        "#                \"plastic bags\",\n",
        "#                \"cigarette butt\",\n",
        "#                \"tetra pak\",\n",
        "#                \"paper_cups\",\n",
        "#                \"paper\",\n",
        "#                \"news paper\",\n",
        "#                \"spray cans\",\n",
        "#                \"other metal objects\",\n",
        "#                \"metal containers\",\n",
        "#                \"construction scrap\",\n",
        "#                \"beverage cans\",\n",
        "#                \"syringe\",\n",
        "#                \"medicines\",\n",
        "#                \"masks\",\n",
        "#                \"gloves\",\n",
        "#                \"glass\",\n",
        "#                \"smartphones\",\n",
        "#                \"small appliances\",\n",
        "#                \"laptops\",\n",
        "#                \"electronic chips\",\n",
        "#                \"electrical cables\",\n",
        "#                \"cardboard\"\n",
        "#               ]\n",
        "# current_path = os.getcwd()\n",
        "# print(f'current_path = {current_path}')\n",
        "# for folder in folder_list:\n",
        "#     if not os.path.exists(os.path.join(current_path, folder)):\n",
        "#         os.makedirs(os.path.join(current_path, folder))"
      ],
      "metadata": {
        "id": "Z8Zd5UiCLWTp",
        "outputId": "92330dc5-2f79-4673-83ce-025c720294ae",
        "colab": {
          "base_uri": "https://localhost:8080/"
        }
      },
      "execution_count": null,
      "outputs": [
        {
          "output_type": "stream",
          "name": "stdout",
          "text": [
            "CPU times: user 79 µs, sys: 3 µs, total: 82 µs\n",
            "Wall time: 86.8 µs\n"
          ]
        }
      ]
    },
    {
      "cell_type": "code",
      "source": [
        "# !mv *.jpg /content/paper/"
      ],
      "metadata": {
        "id": "aBhSWK7QM04W"
      },
      "execution_count": null,
      "outputs": []
    },
    {
      "cell_type": "code",
      "source": [
        "\n",
        "!echo \"Count of plastic images\"\n",
        "!ls -ltr /content/drive/MyDrive/MIDS_Capstone/Datasets/TrashBox_train_set/plastic/*.jpg|wc -l\n",
        "\n",
        "!echo \"Count of paper images\"\n",
        "!ls -ltr /content/drive/MyDrive/MIDS_Capstone/Datasets/TrashBox_train_set/paper/*.jpg|wc -l\n",
        "\n",
        "!echo \"Count of metal images\"\n",
        "!ls -ltr /content/drive/MyDrive/MIDS_Capstone/Datasets/TrashBox_train_set/metal/*.jpg|wc -l\n",
        "\n",
        "!echo \"Count of medical images\"\n",
        "!ls -ltr /content/drive/MyDrive/MIDS_Capstone/Datasets/TrashBox_train_set/medical/*.jpg|wc -l\n",
        "\n",
        "!echo \"Count of glass images\"\n",
        "!ls -ltr /content/drive/MyDrive/MIDS_Capstone/Datasets/TrashBox_train_set/glass/*.jpg|wc -l\n",
        "\n",
        "!echo \"Count of e_waste images\"\n",
        "!ls -ltr /content/drive/MyDrive/MIDS_Capstone/Datasets/TrashBox_train_set/e-waste/*.jpg|wc -l\n",
        "\n",
        "!echo \"Count of cardboard images\"\n",
        "!ls -ltr /content/drive/MyDrive/MIDS_Capstone/Datasets/TrashBox_train_set/cardboard/*.jpg|wc -l\n"
      ],
      "metadata": {
        "id": "lBt9N0DsLk4c",
        "outputId": "ddcca846-c22c-4b8f-b5c6-6d9b56df440f",
        "colab": {
          "base_uri": "https://localhost:8080/"
        }
      },
      "execution_count": null,
      "outputs": [
        {
          "output_type": "stream",
          "name": "stdout",
          "text": [
            "Count of plastic images\n",
            "2135\n",
            "Count of paper images\n",
            "2156\n",
            "Count of metal images\n",
            "2068\n",
            "Count of medical images\n",
            "1585\n",
            "Count of glass images\n",
            "2022\n",
            "Count of e_waste images\n",
            "2405\n",
            "Count of cardboard images\n",
            "1930\n"
          ]
        }
      ]
    },
    {
      "cell_type": "markdown",
      "source": [
        "### **Preprocessing**\n",
        "\n",
        "As mentioned in the EDA section, we wanted to preprocess our images to get them into a consistent state. To do this, we applied the following preprocessing steps:\n",
        "\n",
        "<li> We read the input color image from directory as background-removed resized gray scale images.</li>\n",
        "<li>We normalize the images to 64 x 64 pixels.</li>\n",
        "<li>We remove duplicate images using DBSCAN.</li>\n",
        "\n",
        "Our image counts after applying the preprocessing steps are printed below. We also have printed the average pixel value/standard deviation per category, and have also visualized the \"average image\" per category as a part of our EDA."
      ],
      "metadata": {
        "id": "QNX-gNeUnHMm"
      }
    },
    {
      "cell_type": "code",
      "source": [
        "#@title\n",
        "%%time\n",
        "### Preprocessing\n",
        "\n",
        "def load_resized_images_as_grayscale_from_folder(folder):\n",
        "    images = []\n",
        "    file_names = []\n",
        "    for filename in os.listdir(folder):\n",
        "        img = cv2.imread(os.path.join(folder,filename)) # Read image\n",
        "        img = cv2.resize(img, (64, 64)) # Resize to 64 x 64\n",
        "        img = remove(img) # Remove background\n",
        "        img = cv2.cvtColor(img, cv2.COLOR_BGR2GRAY) # Convert to grayscale\n",
        "        if img is not None:\n",
        "            images.append(img)\n",
        "            file_names.append(os.path.join(folder,filename))\n",
        "    return images, file_names\n",
        "# load_resized_images_as_grayscale_from_folder(plastic_image_dir_path)\n",
        "\n",
        "def preprocessing(image_dir):\n",
        "    # Remove duplicates, convert to grayscale, resize to 64 x 64, remove background, normalize pixel values to 0 - 255\n",
        "    image_set, file_names = load_resized_images_as_grayscale_from_folder(image_dir)\n",
        "    scaled_image_set = [np.ravel((image / 255)) for image in image_set] # Scaled because DBSCAN calculates distance\n",
        "    dbs_cluster = DBSCAN(eps=.5, min_samples=2).fit(scaled_image_set)\n",
        "    clean_image_index = []\n",
        "    dupl_image_index = []\n",
        "    deduped_images = []\n",
        "    duplicate_image_names = []\n",
        "    for idx, label in enumerate(dbs_cluster.labels_):\n",
        "         if label == -1:\n",
        "             clean_image_index.append(idx)\n",
        "         else: # Duplicates\n",
        "             index_list = np.where(dbs_cluster.labels_ == label)\n",
        "             clean_image_index.extend(index_list[0])\n",
        "             dupl_image_index.extend(index_list[0][1:])\n",
        "\n",
        "    clean_image_index = list(dict.fromkeys(clean_image_index))\n",
        "    dupl_image_index = dict.fromkeys(dupl_image_index)\n",
        "\n",
        "    for i in clean_image_index:\n",
        "        if i not in dupl_image_index:\n",
        "            deduped_images.append(scaled_image_set[i].reshape((64, 64)))\n",
        "\n",
        "    for i in list(dupl_image_index):\n",
        "         duplicate_image_names.append(file_names[i])\n",
        "\n",
        "    print(duplicate_image_names)\n",
        "    print(len(duplicate_image_names))\n",
        "    return [img_as_ubyte(im) for im in deduped_images]"
      ],
      "metadata": {
        "id": "VVzDu9LbnYDs",
        "outputId": "44aa4aed-f9a7-4613-885e-f91e4b1e7402",
        "colab": {
          "base_uri": "https://localhost:8080/"
        }
      },
      "execution_count": null,
      "outputs": [
        {
          "output_type": "stream",
          "name": "stdout",
          "text": [
            "CPU times: user 6 µs, sys: 0 ns, total: 6 µs\n",
            "Wall time: 8.58 µs\n"
          ]
        }
      ]
    },
    {
      "cell_type": "code",
      "source": [
        "#@title\n",
        "%%time\n",
        "### Loading data\n",
        "plastic_data = preprocessing(plastic_image_dir_path)\n",
        "paper_data = preprocessing(paper_image_dir_path)\n",
        "metal_data = preprocessing(metal_image_dir_path)\n",
        "medical_data = preprocessing(medical_image_dir_path)\n",
        "glass_data = preprocessing(glass_image_dir_path)\n",
        "e_waste_data = preprocessing(e_waste_image_dir_path)\n",
        "cardboard_data = preprocessing(cardboard_image_dir_path)\n",
        "\n",
        "label_plastic = np.zeros(len(plastic_data))\n",
        "label_paper = np.ones(len(paper_data))\n",
        "label_metal = np.ones(len(metal_data)) * 2\n",
        "label_medical = np.ones(len(medical_data)) * 3\n",
        "label_glass = np.ones(len(glass_data)) * 4\n",
        "label_e_waste = np.ones(len(e_waste_data)) * 5\n",
        "label_cardboard = np.ones(len(cardboard_data)) * 6\n",
        "\n",
        "label = np.concatenate((label_plastic,\n",
        "                        label_paper,\n",
        "                        label_metal,\n",
        "                        label_medical,\n",
        "                        label_glass,\n",
        "                        label_e_waste,\n",
        "                        label_cardboard\n",
        "                       ))"
      ],
      "metadata": {
        "id": "pVdR-4dOm1j8",
        "outputId": "c3c63ed9-3891-4d2b-d507-6515c330298f",
        "colab": {
          "base_uri": "https://localhost:8080/"
        }
      },
      "execution_count": null,
      "outputs": [
        {
          "output_type": "stream",
          "name": "stderr",
          "text": [
            "Downloading data from 'https://github.com/danielgatis/rembg/releases/download/v0.0.0/u2net.onnx' to file '/root/.u2net/u2net.onnx'.\n",
            "100%|████████████████████████████████████████| 176M/176M [00:00<00:00, 130GB/s]\n"
          ]
        }
      ]
    },
    {
      "cell_type": "code",
      "source": [
        "#@title\n",
        "%%time\n",
        "\n",
        "print(f\"Count of plastic data : {len(plastic_data)}\")\n",
        "print(f\"Count of paper data : {len(paper_data)}\")\n",
        "print(f\"Count of metal data : {len(metal_data)}\")\n",
        "print(f\"Count of medical data : {len(medical_data)}\")\n",
        "print(f\"Count of glass data : {len(glass_data)}\")\n",
        "print(f\"Count of e_waste data : {len(e_waste_data)}\")\n",
        "print(f\"Count of cardboard data : {len(cardboard_data)}\")"
      ],
      "metadata": {
        "id": "N3Elxiyeo9yO"
      },
      "execution_count": null,
      "outputs": []
    },
    {
      "cell_type": "code",
      "source": [
        "# def get_category_mean_std(plastic_data, paper_data, metal_data, medical_data, glass_data, e_waste_data, cardboard_data):\n",
        "def get_category_mean_std(subclass_data):\n",
        "    \"\"\"\n",
        "    This function calculates category wise mean and standard deviation.\n",
        "    \"\"\"\n",
        "    ctg_chnl_stats = []\n",
        "\n",
        "    subclass_avg, subclass_std = np.mean(subclass_data), np.std(subclass_data)\n",
        "    ctg_chnl_stats.append(('plastic', subclass_avg, subclass_std))\n",
        "\n",
        "    # cardboard_avg, cardboard_std = np.mean(cardboard_data), np.std(cardboard_data)\n",
        "    # ctg_chnl_stats.append(('cardboard', cardboard_avg, cardboard_std))\n",
        "\n",
        "    # plates_avg, plates_std = np.mean(plates_data), np.std(plates_data)\n",
        "    # ctg_chnl_stats.append(('plates', plates_avg, plates_std))\n",
        "\n",
        "    # paper_avg, paper_std = np.mean(paper_data), np.std(paper_data)\n",
        "    # ctg_chnl_stats.append(('paper', paper_avg, paper_std))\n",
        "\n",
        "    # paper_towel_avg, paper_towel_std = np.mean(paper_towel_data), np.std(paper_towel_data)\n",
        "    # ctg_chnl_stats.append(('paper_towel', paper_towel_avg, paper_towel_std))\n",
        "\n",
        "    return pd.DataFrame(ctg_chnl_stats, columns = ['category', 'category_avg', 'category_std'])\n",
        "get_category_mean_std(plastic_data)"
      ],
      "metadata": {
        "id": "0ySIBJ0tp0gW"
      },
      "execution_count": null,
      "outputs": []
    },
    {
      "cell_type": "code",
      "source": [
        "def get_category_mean_std(plastic_data, paper_data, metal_data, medical_data, glass_data, e_waste_data, cardboard_data):\n",
        "# def get_category_mean_std(subclass_data):\n",
        "    \"\"\"\n",
        "    This function calculates category wise mean and standard deviation.\n",
        "    \"\"\"\n",
        "    ctg_chnl_stats = []\n",
        "\n",
        "    plastic_avg, plastic_std = np.mean(plastic_data), np.std(plastic_data)\n",
        "    ctg_chnl_stats.append(('plastic', plastic_avg, plastic_std))\n",
        "\n",
        "    paper_avg, paper_std = np.mean(paper_data), np.std(paper_data)\n",
        "    ctg_chnl_stats.append(('paper', paper_avg, paper_std))\n",
        "\n",
        "    metal_avg, metal_std = np.mean(metal_data), np.std(metal_data)\n",
        "    ctg_chnl_stats.append(('metal', metal_avg, metal_std))\n",
        "\n",
        "    medical_avg, medical_std = np.mean(medical_data), np.std(medical_data)\n",
        "    ctg_chnl_stats.append(('medical', medical_avg, medical_std))\n",
        "\n",
        "    glass_avg, glass_std = np.mean(glass_data), np.std(glass_data)\n",
        "    ctg_chnl_stats.append(('glass', glass_avg, glass_std))\n",
        "\n",
        "    e_waste_avg, e_waste_std = np.mean(e_waste_data), np.std(e_waste_data)\n",
        "    ctg_chnl_stats.append(('e_waste', e_waste_avg, e_waste_std))\n",
        "\n",
        "    cardboard_avg, cardboard_std = np.mean(cardboard_data), np.std(cardboard_data)\n",
        "    ctg_chnl_stats.append(('cardboard', cardboard_avg, cardboard_std))\n",
        "\n",
        "    return pd.DataFrame(ctg_chnl_stats, columns = ['category', 'category_avg', 'category_std'])\n"
      ],
      "metadata": {
        "id": "s1JngZ6yrFW2"
      },
      "execution_count": null,
      "outputs": []
    },
    {
      "cell_type": "code",
      "source": [
        "#@title\n",
        "%%time\n",
        "df_ctg_stats = get_category_mean_std(plastic_data,\n",
        "                                     paper_data,\n",
        "                                     metal_data,\n",
        "                                     medical_data,\n",
        "                                     glass_data,\n",
        "                                     e_waste_data,\n",
        "                                     cardboard_data\n",
        "                                    )\n",
        "df_ctg_stats"
      ],
      "metadata": {
        "id": "LK0KzPqrppCk"
      },
      "execution_count": null,
      "outputs": []
    },
    {
      "cell_type": "code",
      "source": [
        "def get_average_image(data):\n",
        "    return np.average(np.array([np.array(im) for im in data]), axis=0)     # convert images to np.array\n",
        "\n",
        "def show_all_average_images(plastic_data,\n",
        "                            paper_data,\n",
        "                            metal_data,\n",
        "                            medical_data,\n",
        "                            glass_data,\n",
        "                            e_waste_data,\n",
        "                            cardboard_data):\n",
        "    plt.figure(figsize = (16,8))\n",
        "    plt.suptitle(\"Average Images per Category\")\n",
        "\n",
        "    ax1 = plt.subplot(1, 4, 1)\n",
        "    ax1.set_title(\"Plastic\")\n",
        "    ax1.set_axis_off()\n",
        "    ax1.imshow(get_average_image(plastic_data), cmap=\"gray\")\n",
        "\n",
        "    ax2 = plt.subplot(1, 4, 2)\n",
        "    ax2.set_title(\"Paper\")\n",
        "    ax2.set_axis_off()\n",
        "    ax2.imshow(get_average_image(paper_data), cmap=\"gray\")\n",
        "\n",
        "    ax3 = plt.subplot(1, 4, 3)\n",
        "    ax3.set_title(\"Metal\")\n",
        "    ax3.set_axis_off()\n",
        "    ax3.imshow(get_average_image(metal_data), cmap=\"gray\")\n",
        "\n",
        "    ax4 = plt.subplot(1, 4, 4)\n",
        "    ax4.set_title(\"Medical\")\n",
        "    ax4.set_axis_off()\n",
        "    ax4.imshow(get_average_image(medical_data), cmap=\"gray\")\n",
        "\n",
        "    ax5 = plt.subplot(2, 4, 1)\n",
        "    ax5.set_title(\"Glass\")\n",
        "    ax5.set_axis_off()\n",
        "    ax5.imshow(get_average_image(glass_data), cmap=\"gray\")\n",
        "\n",
        "    ax5 = plt.subplot(2, 4, 2)\n",
        "    ax5.set_title(\"E-Waste\")\n",
        "    ax5.set_axis_off()\n",
        "    ax5.imshow(get_average_image(e_waste_data), cmap=\"gray\")\n",
        "\n",
        "    ax5 = plt.subplot(2, 4, 3)\n",
        "    ax5.set_title(\"Cardboard\")\n",
        "    ax5.set_axis_off()\n",
        "    ax5.imshow(get_average_image(cardboard_data), cmap=\"gray\")"
      ],
      "metadata": {
        "id": "K4St5INcpo6Y"
      },
      "execution_count": null,
      "outputs": []
    },
    {
      "cell_type": "code",
      "source": [
        "%%time\n",
        "show_all_average_images(plastic_data,\n",
        "                        paper_data,\n",
        "                        metal_data,\n",
        "                        medical_data,\n",
        "                        glass_data,\n",
        "                        e_waste_data,\n",
        "                        cardboard_data)"
      ],
      "metadata": {
        "id": "h3DWrGSwpowj"
      },
      "execution_count": null,
      "outputs": []
    },
    {
      "cell_type": "code",
      "source": [],
      "metadata": {
        "id": "XPNGYD-uponV"
      },
      "execution_count": null,
      "outputs": []
    },
    {
      "cell_type": "code",
      "source": [],
      "metadata": {
        "id": "ELMylVQUuLoI"
      },
      "execution_count": null,
      "outputs": []
    },
    {
      "cell_type": "code",
      "source": [
        "\n",
        "# making n X m matrix\n",
        "def img2np(path, list_of_filename, size = (300, 300)):\n",
        "    # iterating through each file\n",
        "    for fn in list_of_filename:\n",
        "        fp = path + fn\n",
        "        im = Image.open(fp, 'r')\n",
        "        # covert image to a matrix\n",
        "        img_ts = np.array(im)\n",
        "        img_ts = img_ts.astype(np.float32) / 255\n",
        "        try:\n",
        "            # concatenate different images\n",
        "            full_mat = full_mat + [img_ts]\n",
        "        except UnboundLocalError:\n",
        "            # if not assigned yet, assign one\n",
        "            full_mat = [img_ts]\n",
        "    return full_mat"
      ],
      "metadata": {
        "id": "TRnqEk14nwNZ"
      },
      "execution_count": null,
      "outputs": []
    },
    {
      "cell_type": "markdown",
      "source": [
        "## TrashBox"
      ],
      "metadata": {
        "id": "73JDQJ-Enj0i"
      }
    },
    {
      "cell_type": "code",
      "source": [
        "# # run it on our folders\n",
        "# trashbox_cardboard_path = '/content/drive/MyDrive/MIDS_Capstone/Datasets/TrashBox_train_dataset_subfolders/cardboard/'\n",
        "# trashbox_cardboard_images = img2np(path = trashbox_cardboard_path, list_of_filename = os.listdir(trashbox_cardboard_path[:21]))"
      ],
      "metadata": {
        "colab": {
          "base_uri": "https://localhost:8080/",
          "height": 176
        },
        "id": "Pd5_tVa1_6zf",
        "outputId": "24e7b20e-4aa5-4b5e-d0dc-c4a2a379dd50"
      },
      "execution_count": null,
      "outputs": [
        {
          "output_type": "error",
          "ename": "FileNotFoundError",
          "evalue": "[Errno 2] No such file or directory: '/content/drive/MyDriv'",
          "traceback": [
            "\u001b[0;31m---------------------------------------------------------------------------\u001b[0m",
            "\u001b[0;31mFileNotFoundError\u001b[0m                         Traceback (most recent call last)",
            "\u001b[0;32m<ipython-input-113-76da480a40e9>\u001b[0m in \u001b[0;36m<cell line: 3>\u001b[0;34m()\u001b[0m\n\u001b[1;32m      1\u001b[0m \u001b[0;31m# run it on our folders\u001b[0m\u001b[0;34m\u001b[0m\u001b[0;34m\u001b[0m\u001b[0m\n\u001b[1;32m      2\u001b[0m \u001b[0mtrashbox_cardboard_path\u001b[0m \u001b[0;34m=\u001b[0m \u001b[0;34m'/content/drive/MyDrive/MIDS_Capstone/Datasets/TrashBox_train_dataset_subfolders/cardboard/'\u001b[0m\u001b[0;34m\u001b[0m\u001b[0;34m\u001b[0m\u001b[0m\n\u001b[0;32m----> 3\u001b[0;31m \u001b[0mtrashbox_cardboard_images\u001b[0m \u001b[0;34m=\u001b[0m \u001b[0mimg2np\u001b[0m\u001b[0;34m(\u001b[0m\u001b[0mpath\u001b[0m \u001b[0;34m=\u001b[0m \u001b[0mtrashbox_cardboard_path\u001b[0m\u001b[0;34m,\u001b[0m \u001b[0mlist_of_filename\u001b[0m \u001b[0;34m=\u001b[0m \u001b[0mos\u001b[0m\u001b[0;34m.\u001b[0m\u001b[0mlistdir\u001b[0m\u001b[0;34m(\u001b[0m\u001b[0mtrashbox_cardboard_path\u001b[0m\u001b[0;34m[\u001b[0m\u001b[0;34m:\u001b[0m\u001b[0;36m21\u001b[0m\u001b[0;34m]\u001b[0m\u001b[0;34m)\u001b[0m\u001b[0;34m)\u001b[0m\u001b[0;34m\u001b[0m\u001b[0;34m\u001b[0m\u001b[0m\n\u001b[0m",
            "\u001b[0;31mFileNotFoundError\u001b[0m: [Errno 2] No such file or directory: '/content/drive/MyDriv'"
          ]
        }
      ]
    },
    {
      "cell_type": "code",
      "source": [
        "print('Number of Cardboard Images: ', len(os.listdir(trashbox_cardboard_path)))"
      ],
      "metadata": {
        "id": "LTxNIHi9p8ET"
      },
      "execution_count": null,
      "outputs": []
    },
    {
      "cell_type": "code",
      "source": [
        "# for i in range(len(trashbox_cardboard_path)):\n",
        "#   fig0 = plt.figure()\n",
        "#   plt.imshow(trashbox_cardboard_images[i], interpolation='nearest', aspect='auto')\n",
        "#   plt.xticks(ticks=[])\n",
        "#   plt.yticks(ticks=[])\n",
        "#   plt.show()\n",
        "\n",
        "_, axs = plt.subplots(np.ceil(len(trashbox_cardboard_images)/10), 10, figsize=(12, 12))\n",
        "axs = axs.flatten()\n",
        "for img, ax in zip(trashbox_cardboard_images, axs):\n",
        "  ax.imshow(img)\n",
        "  plt.show()"
      ],
      "metadata": {
        "colab": {
          "base_uri": "https://localhost:8080/",
          "height": 408
        },
        "id": "5cOLiUhq8miN",
        "outputId": "5029fc60-6e22-4357-8de4-d0278d01da18"
      },
      "execution_count": null,
      "outputs": [
        {
          "output_type": "error",
          "ename": "ValueError",
          "evalue": "Number of rows must be a positive integer, not 1.0",
          "traceback": [
            "\u001b[0;31m---------------------------------------------------------------------------\u001b[0m",
            "\u001b[0;31mValueError\u001b[0m                                Traceback (most recent call last)",
            "\u001b[0;32m<ipython-input-31-3d68f39c1d57>\u001b[0m in \u001b[0;36m<cell line: 8>\u001b[0;34m()\u001b[0m\n\u001b[1;32m      6\u001b[0m \u001b[0;31m#   plt.show()\u001b[0m\u001b[0;34m\u001b[0m\u001b[0;34m\u001b[0m\u001b[0m\n\u001b[1;32m      7\u001b[0m \u001b[0;34m\u001b[0m\u001b[0m\n\u001b[0;32m----> 8\u001b[0;31m \u001b[0m_\u001b[0m\u001b[0;34m,\u001b[0m \u001b[0maxs\u001b[0m \u001b[0;34m=\u001b[0m \u001b[0mplt\u001b[0m\u001b[0;34m.\u001b[0m\u001b[0msubplots\u001b[0m\u001b[0;34m(\u001b[0m\u001b[0mnp\u001b[0m\u001b[0;34m.\u001b[0m\u001b[0mceil\u001b[0m\u001b[0;34m(\u001b[0m\u001b[0mlen\u001b[0m\u001b[0;34m(\u001b[0m\u001b[0mtrashbox_cardboard_images\u001b[0m\u001b[0;34m)\u001b[0m\u001b[0;34m/\u001b[0m\u001b[0;36m10\u001b[0m\u001b[0;34m)\u001b[0m\u001b[0;34m,\u001b[0m \u001b[0;36m10\u001b[0m\u001b[0;34m,\u001b[0m \u001b[0mfigsize\u001b[0m\u001b[0;34m=\u001b[0m\u001b[0;34m(\u001b[0m\u001b[0;36m12\u001b[0m\u001b[0;34m,\u001b[0m \u001b[0;36m12\u001b[0m\u001b[0;34m)\u001b[0m\u001b[0;34m)\u001b[0m\u001b[0;34m\u001b[0m\u001b[0;34m\u001b[0m\u001b[0m\n\u001b[0m\u001b[1;32m      9\u001b[0m \u001b[0maxs\u001b[0m \u001b[0;34m=\u001b[0m \u001b[0maxs\u001b[0m\u001b[0;34m.\u001b[0m\u001b[0mflatten\u001b[0m\u001b[0;34m(\u001b[0m\u001b[0;34m)\u001b[0m\u001b[0;34m\u001b[0m\u001b[0;34m\u001b[0m\u001b[0m\n\u001b[1;32m     10\u001b[0m \u001b[0;32mfor\u001b[0m \u001b[0mimg\u001b[0m\u001b[0;34m,\u001b[0m \u001b[0max\u001b[0m \u001b[0;32min\u001b[0m \u001b[0mzip\u001b[0m\u001b[0;34m(\u001b[0m\u001b[0mtrashbox_cardboard_images\u001b[0m\u001b[0;34m,\u001b[0m \u001b[0maxs\u001b[0m\u001b[0;34m)\u001b[0m\u001b[0;34m:\u001b[0m\u001b[0;34m\u001b[0m\u001b[0;34m\u001b[0m\u001b[0m\n",
            "\u001b[0;32m/usr/local/lib/python3.10/dist-packages/matplotlib/pyplot.py\u001b[0m in \u001b[0;36msubplots\u001b[0;34m(nrows, ncols, sharex, sharey, squeeze, width_ratios, height_ratios, subplot_kw, gridspec_kw, **fig_kw)\u001b[0m\n\u001b[1;32m   1500\u001b[0m     \"\"\"\n\u001b[1;32m   1501\u001b[0m     \u001b[0mfig\u001b[0m \u001b[0;34m=\u001b[0m \u001b[0mfigure\u001b[0m\u001b[0;34m(\u001b[0m\u001b[0;34m**\u001b[0m\u001b[0mfig_kw\u001b[0m\u001b[0;34m)\u001b[0m\u001b[0;34m\u001b[0m\u001b[0;34m\u001b[0m\u001b[0m\n\u001b[0;32m-> 1502\u001b[0;31m     axs = fig.subplots(nrows=nrows, ncols=ncols, sharex=sharex, sharey=sharey,\n\u001b[0m\u001b[1;32m   1503\u001b[0m                        \u001b[0msqueeze\u001b[0m\u001b[0;34m=\u001b[0m\u001b[0msqueeze\u001b[0m\u001b[0;34m,\u001b[0m \u001b[0msubplot_kw\u001b[0m\u001b[0;34m=\u001b[0m\u001b[0msubplot_kw\u001b[0m\u001b[0;34m,\u001b[0m\u001b[0;34m\u001b[0m\u001b[0;34m\u001b[0m\u001b[0m\n\u001b[1;32m   1504\u001b[0m                        \u001b[0mgridspec_kw\u001b[0m\u001b[0;34m=\u001b[0m\u001b[0mgridspec_kw\u001b[0m\u001b[0;34m,\u001b[0m \u001b[0mheight_ratios\u001b[0m\u001b[0;34m=\u001b[0m\u001b[0mheight_ratios\u001b[0m\u001b[0;34m,\u001b[0m\u001b[0;34m\u001b[0m\u001b[0;34m\u001b[0m\u001b[0m\n",
            "\u001b[0;32m/usr/local/lib/python3.10/dist-packages/matplotlib/figure.py\u001b[0m in \u001b[0;36msubplots\u001b[0;34m(self, nrows, ncols, sharex, sharey, squeeze, width_ratios, height_ratios, subplot_kw, gridspec_kw)\u001b[0m\n\u001b[1;32m    903\u001b[0m             \u001b[0mgridspec_kw\u001b[0m\u001b[0;34m[\u001b[0m\u001b[0;34m'width_ratios'\u001b[0m\u001b[0;34m]\u001b[0m \u001b[0;34m=\u001b[0m \u001b[0mwidth_ratios\u001b[0m\u001b[0;34m\u001b[0m\u001b[0;34m\u001b[0m\u001b[0m\n\u001b[1;32m    904\u001b[0m \u001b[0;34m\u001b[0m\u001b[0m\n\u001b[0;32m--> 905\u001b[0;31m         \u001b[0mgs\u001b[0m \u001b[0;34m=\u001b[0m \u001b[0mself\u001b[0m\u001b[0;34m.\u001b[0m\u001b[0madd_gridspec\u001b[0m\u001b[0;34m(\u001b[0m\u001b[0mnrows\u001b[0m\u001b[0;34m,\u001b[0m \u001b[0mncols\u001b[0m\u001b[0;34m,\u001b[0m \u001b[0mfigure\u001b[0m\u001b[0;34m=\u001b[0m\u001b[0mself\u001b[0m\u001b[0;34m,\u001b[0m \u001b[0;34m**\u001b[0m\u001b[0mgridspec_kw\u001b[0m\u001b[0;34m)\u001b[0m\u001b[0;34m\u001b[0m\u001b[0;34m\u001b[0m\u001b[0m\n\u001b[0m\u001b[1;32m    906\u001b[0m         axs = gs.subplots(sharex=sharex, sharey=sharey, squeeze=squeeze,\n\u001b[1;32m    907\u001b[0m                           subplot_kw=subplot_kw)\n",
            "\u001b[0;32m/usr/local/lib/python3.10/dist-packages/matplotlib/figure.py\u001b[0m in \u001b[0;36madd_gridspec\u001b[0;34m(self, nrows, ncols, **kwargs)\u001b[0m\n\u001b[1;32m   1525\u001b[0m \u001b[0;34m\u001b[0m\u001b[0m\n\u001b[1;32m   1526\u001b[0m         \u001b[0m_\u001b[0m \u001b[0;34m=\u001b[0m \u001b[0mkwargs\u001b[0m\u001b[0;34m.\u001b[0m\u001b[0mpop\u001b[0m\u001b[0;34m(\u001b[0m\u001b[0;34m'figure'\u001b[0m\u001b[0;34m,\u001b[0m \u001b[0;32mNone\u001b[0m\u001b[0;34m)\u001b[0m  \u001b[0;31m# pop in case user has added this...\u001b[0m\u001b[0;34m\u001b[0m\u001b[0;34m\u001b[0m\u001b[0m\n\u001b[0;32m-> 1527\u001b[0;31m         \u001b[0mgs\u001b[0m \u001b[0;34m=\u001b[0m \u001b[0mGridSpec\u001b[0m\u001b[0;34m(\u001b[0m\u001b[0mnrows\u001b[0m\u001b[0;34m=\u001b[0m\u001b[0mnrows\u001b[0m\u001b[0;34m,\u001b[0m \u001b[0mncols\u001b[0m\u001b[0;34m=\u001b[0m\u001b[0mncols\u001b[0m\u001b[0;34m,\u001b[0m \u001b[0mfigure\u001b[0m\u001b[0;34m=\u001b[0m\u001b[0mself\u001b[0m\u001b[0;34m,\u001b[0m \u001b[0;34m**\u001b[0m\u001b[0mkwargs\u001b[0m\u001b[0;34m)\u001b[0m\u001b[0;34m\u001b[0m\u001b[0;34m\u001b[0m\u001b[0m\n\u001b[0m\u001b[1;32m   1528\u001b[0m         \u001b[0;32mreturn\u001b[0m \u001b[0mgs\u001b[0m\u001b[0;34m\u001b[0m\u001b[0;34m\u001b[0m\u001b[0m\n\u001b[1;32m   1529\u001b[0m \u001b[0;34m\u001b[0m\u001b[0m\n",
            "\u001b[0;32m/usr/local/lib/python3.10/dist-packages/matplotlib/gridspec.py\u001b[0m in \u001b[0;36m__init__\u001b[0;34m(self, nrows, ncols, figure, left, bottom, right, top, wspace, hspace, width_ratios, height_ratios)\u001b[0m\n\u001b[1;32m    377\u001b[0m         \u001b[0mself\u001b[0m\u001b[0;34m.\u001b[0m\u001b[0mfigure\u001b[0m \u001b[0;34m=\u001b[0m \u001b[0mfigure\u001b[0m\u001b[0;34m\u001b[0m\u001b[0;34m\u001b[0m\u001b[0m\n\u001b[1;32m    378\u001b[0m \u001b[0;34m\u001b[0m\u001b[0m\n\u001b[0;32m--> 379\u001b[0;31m         super().__init__(nrows, ncols,\n\u001b[0m\u001b[1;32m    380\u001b[0m                          \u001b[0mwidth_ratios\u001b[0m\u001b[0;34m=\u001b[0m\u001b[0mwidth_ratios\u001b[0m\u001b[0;34m,\u001b[0m\u001b[0;34m\u001b[0m\u001b[0;34m\u001b[0m\u001b[0m\n\u001b[1;32m    381\u001b[0m                          height_ratios=height_ratios)\n",
            "\u001b[0;32m/usr/local/lib/python3.10/dist-packages/matplotlib/gridspec.py\u001b[0m in \u001b[0;36m__init__\u001b[0;34m(self, nrows, ncols, height_ratios, width_ratios)\u001b[0m\n\u001b[1;32m     47\u001b[0m         \"\"\"\n\u001b[1;32m     48\u001b[0m         \u001b[0;32mif\u001b[0m \u001b[0;32mnot\u001b[0m \u001b[0misinstance\u001b[0m\u001b[0;34m(\u001b[0m\u001b[0mnrows\u001b[0m\u001b[0;34m,\u001b[0m \u001b[0mIntegral\u001b[0m\u001b[0;34m)\u001b[0m \u001b[0;32mor\u001b[0m \u001b[0mnrows\u001b[0m \u001b[0;34m<=\u001b[0m \u001b[0;36m0\u001b[0m\u001b[0;34m:\u001b[0m\u001b[0;34m\u001b[0m\u001b[0;34m\u001b[0m\u001b[0m\n\u001b[0;32m---> 49\u001b[0;31m             raise ValueError(\n\u001b[0m\u001b[1;32m     50\u001b[0m                 f\"Number of rows must be a positive integer, not {nrows!r}\")\n\u001b[1;32m     51\u001b[0m         \u001b[0;32mif\u001b[0m \u001b[0;32mnot\u001b[0m \u001b[0misinstance\u001b[0m\u001b[0;34m(\u001b[0m\u001b[0mncols\u001b[0m\u001b[0;34m,\u001b[0m \u001b[0mIntegral\u001b[0m\u001b[0;34m)\u001b[0m \u001b[0;32mor\u001b[0m \u001b[0mncols\u001b[0m \u001b[0;34m<=\u001b[0m \u001b[0;36m0\u001b[0m\u001b[0;34m:\u001b[0m\u001b[0;34m\u001b[0m\u001b[0;34m\u001b[0m\u001b[0m\n",
            "\u001b[0;31mValueError\u001b[0m: Number of rows must be a positive integer, not 1.0"
          ]
        },
        {
          "output_type": "display_data",
          "data": {
            "text/plain": [
              "<Figure size 1200x1200 with 0 Axes>"
            ]
          },
          "metadata": {}
        }
      ]
    },
    {
      "cell_type": "code",
      "source": [
        "# EDA ideas\n",
        "# Count how many images in each category of each dataset (Class imbalances)\n",
        "# Size of different images (do we need to resize in cleaning)\n",
        "# Aspect ratio of different images (proportional ratio of width to height)"
      ],
      "metadata": {
        "id": "dVGnB4vy90VS"
      },
      "execution_count": null,
      "outputs": []
    },
    {
      "cell_type": "markdown",
      "source": [
        "## Drinking Waste Classification"
      ],
      "metadata": {
        "id": "AWQBRZq1noqP"
      }
    },
    {
      "cell_type": "code",
      "source": [
        "# find # of files\n",
        "\n",
        "drinkingwaste_path = '/content/drive/MyDrive/MIDS_Capstone/Datasets/rawimgs/'\n",
        "drinkingwaste_folders = os.listdir(drinkingwaste_path)\n",
        "if '.DS_Store' in drinkingwaste_folders:\n",
        "    drinkingwaste_folders.remove('.DS_Store')\n",
        "\n",
        "df_dw = pd.DataFrame(columns = drinkingwaste_folders)\n",
        "\n",
        "for f in drinkingwaste_folders:\n",
        "  folder_path = os.path.join(drinkingwaste_path, f)\n",
        "\n",
        "  if os.path.isdir(folder_path):\n",
        "    print(f'folder_path = {folder_path}')\n",
        "    print(f)\n",
        "    files_in_folder = os.listdir(folder_path)\n",
        "    print(f'files_in_folder = {files_in_folder}')\n",
        "    num_files = len(files_in_folder)\n",
        "\n",
        "    df_dw.loc[0, f] = num_files\n",
        "\n",
        "\n",
        "print(df_dw)\n",
        "\n",
        "\n",
        "#dringkingwaste_pet_images = img2np(path = drinkingwaste_pet_path, list_of_filename = os.listdir(drinkingwaste_pet_path))"
      ],
      "metadata": {
        "id": "_fLZQmwynuLW",
        "colab": {
          "base_uri": "https://localhost:8080/"
        },
        "outputId": "e435f865-2032-4885-e87e-b19bef94dff9"
      },
      "execution_count": null,
      "outputs": [
        {
          "output_type": "stream",
          "name": "stdout",
          "text": [
            "folder_path = /content/drive/MyDrive/MIDS_Capstone/Datasets/rawimgs/PET\n",
            "PET\n",
            "files_in_folder = ['PET1,625.jpg', 'PET1,478.jpg', 'PET1,760.jpg', 'PET1,754.jpg', 'PET1,578.jpg', 'PET1,672.jpg', 'PET1,662.jpg', 'PET283.jpg', 'PET1,649.jpg', 'PET1,650.jpg', 'PET1,671.jpg', 'PET1,666.jpg', 'PET1,620.jpg', 'PET1,498.jpg', 'PET286.jpg', 'PET1,600.jpg', 'PET1,669.jpg', 'PET280.jpg', 'PET1,579.jpg', 'PET1,516.jpg', 'PET1,618.jpg', 'PET287.jpg', 'PET294.jpg', 'PET1,724.jpg', 'PET1,586.jpg', 'PET1,640.jpg', 'PET1,598.jpg', 'PET1,717.jpg', 'PET1,635.jpg', 'PET324.jpg', 'PET1,505.jpg', 'PET1,609.jpg', 'PET1,479.jpg', 'PET1,525.jpg', 'PET1,580.jpg', 'PET1,549.jpg', 'PET1,568.jpg', 'PET1,764.jpg', 'PET1,770.jpg', 'PET1,709.jpg', 'PET316.jpg', 'PET1,655.jpg', 'PET1,517.jpg', 'PET315.jpg', 'PET1,715.jpg', 'PET1,711.jpg', 'PET1,553.jpg', 'PET1,621.jpg', 'PET1,495.jpg', 'PET1,712.jpg', 'PET1,546.jpg', 'PET303.jpg', 'PET309.jpg', 'PET1,594.jpg', 'PET1,630.jpg', 'PET1,645.jpg', 'PET1,730.jpg', 'PET1,629.jpg', 'PET296.jpg', 'PET1,564.jpg', 'PET1,491.jpg', 'PET293.jpg', 'PET1,685.jpg', 'PET1,575.jpg', 'PET1,488.jpg', 'PET1,667.jpg', 'PET1,693.jpg', 'PET1,534.jpg', 'PET278.jpg', 'PET1,475.jpg', 'PET1,718.jpg', 'PET1,487.jpg', 'PET1,496.jpg', 'PET1,605.jpg', 'PET1,689.jpg', 'PET312.jpg', 'PET1,613.jpg', 'PET1,737.jpg', 'PET1,506.jpg', 'PET1,683.jpg', 'PET1,571.jpg', 'PET1,591.jpg', 'PET1,628.jpg', 'PET1,782.jpg', 'PET1,777.jpg', 'PET311.jpg', 'PET1,623.jpg', 'PET290.jpg', 'PET1,601.jpg', 'PET1,474.jpg', 'PET1,590.jpg', 'PET1,703.jpg', 'PET1,530.jpg', 'PET1,524.jpg', 'PET288.jpg', 'PET321.jpg', 'PET1,489.jpg', 'PET1,774.jpg', 'PET1,654.jpg', 'PET1,668.jpg', 'PET1,722.jpg', 'PET1,721.jpg', 'PET282.jpg', 'PET1,692.jpg', 'PET1,540.jpg', 'PET1,657.jpg', 'PET1,577.jpg', 'PET1,661.jpg', 'PET1,547.jpg', 'PET308.jpg', 'PET1,639.jpg', 'PET319.jpg', 'PET322.jpg', 'PET1,493.jpg', 'PET1,732.jpg', 'PET1,648.jpg', 'PET1,617.jpg', 'PET1,720.jpg', 'PET1,747.jpg', 'PET1,483.jpg', 'PET314.jpg', 'PET1,727.jpg', 'PET1,632.jpg', 'PET310.jpg', 'PET1,585.jpg', 'PET1,776.jpg', 'PET1,714.jpg', 'PET1,697.jpg', 'PET1,753.jpg', 'PET313.jpg', 'PET1,749.jpg', 'PET1,552.jpg', 'PET305.jpg', 'PET1,781.jpg', 'PET1,751.jpg', 'PET1,569.jpg', 'PET1,566.jpg', 'PET1,748.jpg', 'PET1,691.jpg', 'PET1,512.jpg', 'PET1,665.jpg', 'PET1,570.jpg', 'PET1,509.jpg', 'PET1,702.jpg', 'PET1,510.jpg', 'PET1,631.jpg', 'PET1,548.jpg', 'PET1,545.jpg', 'PET1,643.jpg', 'PET320.jpg', 'PET1,678.jpg', 'PET1,728.jpg', 'PET1,536.jpg', 'PET1,562.jpg', 'PET1,675.jpg', 'PET1,494.jpg', 'PET1,656.jpg', 'PET1,690.jpg', 'PET1,492.jpg', 'PET1,592.jpg', 'PET1,619.jpg', 'PET1,526.jpg', 'PET1,679.jpg', 'PET1,761.jpg', 'PET318.jpg', 'PET1,705.jpg', 'PET1,663.jpg', 'PET1,688.jpg', 'PET1,673.jpg', 'PET1,741.jpg', 'PET1,614.jpg', 'PET1,744.jpg', 'PET1,658.jpg', 'PET1,638.jpg', 'PET1,646.jpg', 'PET1,676.jpg', 'PET1,499.jpg', 'PET289.jpg', 'PET1,484.jpg', 'PET1,615.jpg', 'PET1,607.jpg', 'PET1,515.jpg', 'PET1,573.jpg', 'PET302.jpg', 'PET1,481.jpg', 'PET1,511.jpg', 'PET1,757.jpg', 'PET291.jpg', 'PET1,771.jpg', 'PET1,567.jpg', 'PET1,785.jpg', 'PET1,783.jpg', 'PET1,477.jpg', 'PET1,559.jpg', 'PET1,563.jpg', 'PET1,739.jpg', 'PET1,699.jpg', 'PET1,485.jpg', 'PET1,773.jpg', 'PET1,557.jpg', 'PET1,775.jpg', 'PET1,581.jpg', 'PET1,513.jpg', 'PET1,533.jpg', 'PET1,778.jpg', 'PET1,765.jpg', 'PET307.jpg', 'PET1,576.jpg', 'PET1,554.jpg', 'PET1,700.jpg', 'PET1,558.jpg', 'PET1,584.jpg', 'PET1,633.jpg', 'PET1,529.jpg', 'PET1,755.jpg', 'PET1,752.jpg', 'PET1,743.jpg', 'PET1,541.jpg', 'PET1,742.jpg', 'PET306.jpg', 'PET1,608.jpg', 'PET1,647.jpg', 'PET1,587.jpg', 'PET1,641.jpg', 'PET1,682.jpg', 'PET299.jpg', 'PET298.jpg', 'PET1,772.jpg', 'PET1,476.jpg', 'PET1,698.jpg', 'PET1,503.jpg', 'PET304.jpg', 'PET1,612.jpg', 'PET1,758.jpg', 'PET1,572.jpg', 'PET1,589.jpg', 'PET1,527.jpg', 'PET1,716.jpg', 'PET1,532.jpg', 'PET1,729.jpg', 'PET1,574.jpg', 'PET1,670.jpg', 'PET1,539.jpg', 'PET1,616.jpg', 'PET1,653.jpg', 'PET1,701.jpg', 'PET1,611.jpg', 'PET1,603.jpg', 'PET1,723.jpg', 'PET1,735.jpg', 'PET1,707.jpg', 'PET1,543.jpg', 'PET1,582.jpg', 'PET295.jpg', 'PET1,734.jpg', 'PET1,687.jpg', 'PET292.jpg', 'PET1,767.jpg', 'PET1,542.jpg', 'PET1,637.jpg', 'PET1,725.jpg', 'PET1,537.jpg', 'PET1,726.jpg', 'PET1,626.jpg', 'PET1,544.jpg', 'PET1,769.jpg', 'PET1,535.jpg', 'PET1,565.jpg', 'PET1,708.jpg', 'PET1,500.jpg', 'PET1,719.jpg', 'PET1,736.jpg', 'PET1,523.jpg', 'PET1,518.jpg', 'PET1,627.jpg', 'PET1,756.jpg', 'PET1,674.jpg', 'PET1,684.jpg', 'PET1,583.jpg', 'PET1,593.jpg', 'PET1,664.jpg', 'PET1,508.jpg', 'PET1,750.jpg', 'PET1,610.jpg', 'PET1,606.jpg', 'PET1,490.jpg', 'PET1,597.jpg', 'PET1,680.jpg', 'PET1,651.jpg', 'PET1,531.jpg', 'PET323.jpg', 'PET1,514.jpg', 'PET301.jpg', 'PET1,762.jpg', 'PET1,624.jpg', 'PET1,738.jpg', 'PET1,501.jpg', 'PET1,704.jpg', 'PET1,706.jpg', 'PET1,636.jpg', 'PET279.jpg', 'PET1,710.jpg', 'PET1,644.jpg', 'PET1,731.jpg', 'PET1,642.jpg', 'PET1,504.jpg', 'PET1,596.jpg', 'PET1,595.jpg', 'PET284.jpg', 'PET1,660.jpg', 'PET1,652.jpg', 'PET1,763.jpg', 'PET1,759.jpg', 'PET1,604.jpg', 'PET281.jpg', 'PET1,551.jpg', 'PET1,602.jpg', 'PET1,480.jpg', 'PET1,634.jpg', 'PET1,713.jpg', 'PET1,555.jpg', 'PET1,768.jpg', 'PET1,740.jpg', 'PET1,507.jpg', 'PET1,695.jpg', 'PET391.jpg', 'PET422.jpg', 'PET482.jpg', 'PET506.jpg', 'PET429.jpg', 'PET417.jpg', 'PET345.jpg', 'PET408.jpg', 'PET487.jpg', 'PET474.jpg', 'PET458.jpg', 'PET348.jpg', 'PET461.jpg', 'PET352.jpg', 'PET396.jpg', 'PET394.jpg', 'PET435.jpg', 'PET367.jpg', 'PET377.jpg', 'PET432.jpg', 'PET420.jpg', 'PET497.jpg', 'PET494.jpg', 'PET502.jpg', 'PET403.jpg', 'PET450.jpg', 'PET335.jpg', 'PET472.jpg', 'PET334.jpg', 'PET443.jpg', 'PET407.jpg', 'PET469.jpg', 'PET439.jpg', 'PET455.jpg', 'PET470.jpg', 'PET486.jpg', 'PET372.jpg', 'PET505.jpg', 'PET388.jpg', 'PET351.jpg', 'PET433.jpg', 'PET325.jpg', 'PET462.jpg', 'PET427.jpg', 'PET459.jpg', 'PET359.jpg', 'PET440.jpg', 'PET510.jpg', 'PET477.jpg', 'PET467.jpg', 'PET395.jpg', 'PET463.jpg', 'PET336.jpg', 'PET412.jpg', 'PET416.jpg', 'PET464.jpg', 'PET384.jpg', 'PET480.jpg', 'PET406.jpg', 'PET518.jpg', 'PET498.jpg', 'PET376.jpg', 'PET419.jpg', 'PET425.jpg', 'PET327.jpg', 'PET411.jpg', 'PET445.jpg', 'PET390.jpg', 'PET453.jpg', 'PET423.jpg', 'PET344.jpg', 'PET338.jpg', 'PET509.jpg', 'PET438.jpg', 'PET383.jpg', 'PET381.jpg', 'PET339.jpg', 'PET471.jpg', 'PET389.jpg', 'PET369.jpg', 'PET332.jpg', 'PET456.jpg', 'PET493.jpg', 'PET517.jpg', 'PET364.jpg', 'PET492.jpg', 'PET430.jpg', 'PET418.jpg', 'PET343.jpg', 'PET500.jpg', 'PET371.jpg', 'PET342.jpg', 'PET495.jpg', 'PET415.jpg', 'PET511.jpg', 'PET484.jpg', 'PET379.jpg', 'PET378.jpg', 'PET410.jpg', 'PET503.jpg', 'PET382.jpg', 'PET353.jpg', 'PET404.jpg', 'PET454.jpg', 'PET366.jpg', 'PET421.jpg', 'PET489.jpg', 'PET516.jpg', 'PET409.jpg', 'PET491.jpg', 'PET507.jpg', 'PET496.jpg', 'PET499.jpg', 'PET341.jpg', 'PET444.jpg', 'PET468.jpg', 'PET457.jpg', 'PET508.jpg', 'PET519.jpg', 'PET387.jpg', 'PET331.jpg', 'PET436.jpg', 'PET434.jpg', 'PET358.jpg', 'PET340.jpg', 'PET363.jpg', 'PET483.jpg', 'PET355.jpg', 'PET347.jpg', 'PET475.jpg', 'PET370.jpg', 'PET354.jpg', 'PET380.jpg', 'PET465.jpg', 'PET476.jpg', 'PET337.jpg', 'PET488.jpg', 'PET466.jpg', 'PET424.jpg', 'PET374.jpg', 'PET447.jpg', 'PET501.jpg', 'PET385.jpg', 'PET426.jpg', 'PET485.jpg', 'PET398.jpg', 'PET448.jpg', 'PET361.jpg', 'PET514.jpg', 'PET346.jpg', 'PET441.jpg', 'PET360.jpg', 'PET515.jpg', 'PET399.jpg', 'PET442.jpg', 'PET414.jpg', 'PET460.jpg', 'PET357.jpg', 'PET397.jpg', 'PET393.jpg', 'PET490.jpg', 'PET350.jpg', 'PET481.jpg', 'PET428.jpg', 'PET326.jpg', 'PET437.jpg', 'PET392.jpg', 'PET329.jpg', 'PET449.jpg', 'PET513.jpg', 'PET520.jpg', 'PET328.jpg', 'PET452.jpg', 'PET473.jpg', 'PET401.jpg', 'PET400.jpg', 'PET386.jpg', 'PET405.jpg', 'PET349.jpg', 'PET362.jpg', 'PET451.jpg', 'PET365.jpg', 'PET446.jpg', 'PET431.jpg', 'PET333.jpg', 'PET375.jpg', 'PET512.jpg', 'PET402.jpg', 'PET330.jpg', 'PET479.jpg', 'PET413.jpg', 'PET478.jpg', 'PET504.jpg', 'PET356.jpg', 'PET368.jpg', 'PET373.jpg', 'PET563.jpg', 'PET580.jpg', 'PET531.jpg', 'PET570.jpg', 'PET559.jpg', 'PET573.jpg', 'PET544.jpg', 'PET549.jpg', 'PET568.jpg', 'PET585.jpg', 'PET566.jpg', 'PET536.jpg', 'PET569.jpg', 'PET582.jpg', 'PET575.jpg', 'PET584.jpg', 'PET526.jpg', 'PET533.jpg', 'PET598.jpg', 'PET561.jpg', 'PET528.jpg', 'PET595.jpg', 'PET543.jpg', 'PET545.jpg', 'PET579.jpg', 'PET596.jpg', 'PET574.jpg', 'PET541.jpg', 'PET572.jpg', 'PET542.jpg', 'PET567.jpg', 'PET589.jpg', 'PET560.jpg', 'PET547.jpg', 'PET594.jpg', 'PET586.jpg', 'PET532.jpg', 'PET590.jpg', 'PET593.jpg', 'PET576.jpg', 'PET551.jpg', 'PET571.jpg', 'PET583.jpg', 'PET538.jpg', 'PET527.jpg', 'PET530.jpg', 'PET565.jpg', 'PET553.jpg', 'PET550.jpg', 'PET597.jpg', 'PET523.jpg', 'PET529.jpg', 'PET555.jpg', 'PET600.jpg', 'PET534.jpg', 'PET587.jpg', 'PET524.jpg', 'PET591.jpg', 'PET578.jpg', 'PET521.jpg', 'PET537.jpg', 'PET540.jpg', 'PET535.jpg', 'PET556.jpg', 'PET588.jpg', 'PET525.jpg', 'PET554.jpg', 'PET557.jpg', 'PET581.jpg', 'PET548.jpg', 'PET577.jpg', 'PET539.jpg', 'PET599.jpg', 'PET546.jpg', 'PET564.jpg', 'PET552.jpg', 'PET562.jpg', 'PET592.jpg', 'PET522.jpg', 'PET558.jpg', 'PET637.jpg', 'PET675.jpg', 'PET614.jpg', 'PET621.jpg', 'PET633.jpg', 'PET683.jpg', 'PET640.jpg', 'PET617.jpg', 'PET679.jpg', 'PET677.jpg', 'PET656.jpg', 'PET699.jpg', 'PET701.jpg', 'PET707.jpg', 'PET666.jpg', 'PET659.jpg', 'PET692.jpg', 'PET709.jpg', 'PET628.jpg', 'PET613.jpg', 'PET697.jpg', 'PET673.jpg', 'PET665.jpg', 'PET609.jpg', 'PET603.jpg', 'PET703.jpg', 'PET680.jpg', 'PET662.jpg', 'PET643.jpg', 'PET671.jpg', 'PET698.jpg', 'PET657.jpg', 'PET693.jpg', 'PET624.jpg', 'PET704.jpg', 'PET631.jpg', 'PET708.jpg', 'PET712.jpg', 'PET632.jpg', 'PET667.jpg', 'PET605.jpg', 'PET651.jpg', 'PET623.jpg', 'PET638.jpg', 'PET653.jpg', 'PET636.jpg', 'PET668.jpg', 'PET622.jpg', 'PET672.jpg', 'PET690.jpg', 'PET681.jpg', 'PET654.jpg', 'PET686.jpg', 'PET629.jpg', 'PET634.jpg', 'PET649.jpg', 'PET684.jpg', 'PET645.jpg', 'PET627.jpg', 'PET616.jpg', 'PET689.jpg', 'PET625.jpg', 'PET688.jpg', 'PET711.jpg', 'PET696.jpg', 'PET611.jpg', 'PET702.jpg', 'PET626.jpg', 'PET663.jpg', 'PET644.jpg', 'PET606.jpg', 'PET678.jpg', 'PET694.jpg', 'PET610.jpg', 'PET669.jpg', 'PET691.jpg', 'PET655.jpg', 'PET647.jpg', 'PET695.jpg', 'PET639.jpg', 'PET607.jpg', 'PET618.jpg', 'PET710.jpg', 'PET700.jpg', 'PET650.jpg', 'PET648.jpg', 'PET608.jpg', 'PET602.jpg', 'PET706.jpg', 'PET652.jpg', 'PET612.jpg', 'PET682.jpg', 'PET660.jpg', 'PET676.jpg', 'PET646.jpg', 'PET658.jpg', 'PET661.jpg', 'PET670.jpg', 'PET620.jpg', 'PET635.jpg', 'PET619.jpg', 'PET601.jpg', 'PET615.jpg', 'PET685.jpg', 'PET642.jpg', 'PET604.jpg', 'PET641.jpg', 'PET664.jpg', 'PET705.jpg', 'PET674.jpg', 'PET687.jpg', 'PET630.jpg', 'PET716.jpg', 'PET791.jpg', 'PET719.jpg', 'PET737.jpg', 'PET757.jpg', 'PET785.jpg', 'PET720.jpg', 'PET747.jpg', 'PET779.jpg', 'PET777.jpg', 'PET729.jpg', 'PET793.jpg', 'PET733.jpg', 'PET780.jpg', 'PET754.jpg', 'PET792.jpg', 'PET758.jpg', 'PET713.jpg', 'PET752.jpg', 'PET748.jpg', 'PET788.jpg', 'PET769.jpg', 'PET721.jpg', 'PET784.jpg', 'PET768.jpg', 'PET732.jpg', 'PET802.jpg', 'PET745.jpg', 'PET795.jpg', 'PET749.jpg', 'PET759.jpg', 'PET743.jpg', 'PET723.jpg', 'PET730.jpg', 'PET724.jpg', 'PET781.jpg', 'PET767.jpg', 'PET801.jpg', 'PET775.jpg', 'PET776.jpg', 'PET735.jpg', 'PET744.jpg', 'PET771.jpg', 'PET727.jpg', 'PET800.jpg', 'PET770.jpg', 'PET741.jpg', 'PET782.jpg', 'PET714.jpg', 'PET736.jpg', 'PET725.jpg', 'PET761.jpg', 'PET789.jpg', 'PET762.jpg', 'PET773.jpg', 'PET756.jpg', 'PET787.jpg', 'PET731.jpg', 'PET790.jpg', 'PET751.jpg', 'PET799.jpg', 'PET764.jpg', 'PET796.jpg', 'PET746.jpg', 'PET726.jpg', 'PET797.jpg', 'PET755.jpg', 'PET783.jpg', 'PET760.jpg', 'PET734.jpg', 'PET728.jpg', 'PET750.jpg', 'PET763.jpg', 'PET753.jpg', 'PET766.jpg', 'PET742.jpg', 'PET738.jpg', 'PET740.jpg', 'PET794.jpg', 'PET739.jpg', 'PET718.jpg', 'PET765.jpg', 'PET774.jpg', 'PET772.jpg', 'PET778.jpg', 'PET786.jpg', 'PET798.jpg', 'PET722.jpg', 'PET715.jpg', 'PET717.jpg', 'PET854.jpg', 'PET828.jpg', 'PET913.jpg', 'PET883.jpg', 'PET894.jpg', 'PET838.jpg', 'PET848.jpg', 'PET865.jpg', 'PET936.jpg', 'PET891.jpg', 'PET877.jpg', 'PET876.jpg', 'PET934.jpg', 'PET866.jpg', 'PET814.jpg', 'PET928.jpg', 'PET807.jpg', 'PET862.jpg', 'PET811.jpg', 'PET935.jpg', 'PET873.jpg', 'PET822.jpg', 'PET833.jpg', 'PET847.jpg', 'PET940.jpg', 'PET825.jpg', 'PET915.jpg', 'PET937.jpg', 'PET941.jpg', 'PET914.jpg', 'PET885.jpg', 'PET841.jpg', 'PET852.jpg', 'PET939.jpg', 'PET846.jpg', 'PET844.jpg', 'PET902.jpg', 'PET830.jpg', 'PET930.jpg', 'PET857.jpg', 'PET950.jpg', 'PET880.jpg', 'PET886.jpg', 'PET821.jpg', 'PET925.jpg', 'PET931.jpg', 'PET829.jpg', 'PET842.jpg', 'PET817.jpg', 'PET917.jpg', 'PET929.jpg', 'PET901.jpg', 'PET871.jpg', 'PET859.jpg', 'PET834.jpg', 'PET869.jpg', 'PET851.jpg', 'PET827.jpg', 'PET908.jpg', 'PET920.jpg', 'PET820.jpg', 'PET881.jpg', 'PET813.jpg', 'PET874.jpg', 'PET889.jpg', 'PET843.jpg', 'PET949.jpg', 'PET919.jpg', 'PET849.jpg', 'PET861.jpg', 'PET933.jpg', 'PET896.jpg', 'PET943.jpg', 'PET824.jpg', 'PET867.jpg', 'PET898.jpg', 'PET909.jpg', 'PET948.jpg', 'PET875.jpg', 'PET895.jpg', 'PET904.jpg', 'PET918.jpg', 'PET906.jpg', 'PET884.jpg', 'PET878.jpg', 'PET858.jpg', 'PET926.jpg', 'PET812.jpg', 'PET932.jpg', 'PET835.jpg', 'PET864.jpg', 'PET905.jpg', 'PET907.jpg', 'PET946.jpg', 'PET826.jpg', 'PET853.jpg', 'PET839.jpg', 'PET882.jpg', 'PET922.jpg', 'PET892.jpg', 'PET804.jpg', 'PET923.jpg', 'PET819.jpg', 'PET942.jpg', 'PET856.jpg', 'PET836.jpg', 'PET910.jpg', 'PET900.jpg', 'PET845.jpg', 'PET872.jpg', 'PET916.jpg', 'PET803.jpg', 'PET924.jpg', 'PET850.jpg', 'PET860.jpg', 'PET815.jpg', 'PET945.jpg', 'PET911.jpg', 'PET837.jpg', 'PET927.jpg', 'PET808.jpg', 'PET897.jpg', 'PET890.jpg', 'PET947.jpg', 'PET806.jpg', 'PET818.jpg', 'PET810.jpg', 'PET863.jpg', 'PET868.jpg', 'PET879.jpg', 'PET831.jpg', 'PET816.jpg', 'PET903.jpg', 'PET855.jpg', 'PET870.jpg', 'PET887.jpg', 'PET899.jpg', 'PET944.jpg', 'PET823.jpg', 'PET893.jpg', 'PET888.jpg', 'PET840.jpg', 'PET921.jpg', 'PET912.jpg', 'PET805.jpg', 'PET832.jpg', 'PET938.jpg', 'PET809.jpg', 'PET977.jpg', 'PET986.jpg', 'PET972.jpg', 'PET958.jpg', 'PET996.jpg', 'PET991.jpg', 'PET994.jpg', 'PET959.jpg', 'PET960.jpg', 'PET957.jpg', 'PET984.jpg', 'PET997.jpg', 'PET953.jpg', 'PET951.jpg', 'PET952.jpg', 'PET980.jpg', 'PET971.jpg', 'PET982.jpg', 'PET981.jpg', 'PET967.jpg', 'PET973.jpg', 'PET969.jpg', 'PET992.jpg', 'PET988.jpg', 'PET963.jpg', 'PET990.jpg', 'PET954.jpg', 'PET999.jpg', 'PET962.jpg', 'PET968.jpg', 'PET987.jpg', 'PET965.jpg', 'PET955.jpg', 'PET976.jpg', 'PET966.jpg', 'PET983.jpg', 'PET978.jpg', 'PET961.jpg', 'PET974.jpg', 'PET989.jpg', 'PET995.jpg', 'PET998.jpg', 'PET964.jpg', 'PET970.jpg', 'PET975.jpg', 'PET985.jpg', 'PET979.jpg', 'PET956.jpg', 'PET993.jpg', 'PET1,042.jpg', 'PET1,031.jpg', 'PET1,032.jpg', 'PET1,017.jpg', 'PET1,038.jpg', 'PET1,015.jpg', 'PET1,014.jpg', 'PET1,030.jpg', 'PET1,003.jpg', 'PET1,006.jpg', 'PET1,005.jpg', 'PET1,001.jpg', 'PET1,039.jpg', 'PET1,041.jpg', 'PET1,040.jpg', 'PET1,044.jpg', 'PET1,018.jpg', 'PET1,007.jpg', 'PET1,043.jpg', 'PET1,026.jpg', 'PET1,008.jpg', 'PET1,024.jpg', 'PET1,011.jpg', 'PET1,004.jpg', 'PET1,029.jpg', 'PET1,045.jpg', 'PET1,012.jpg', 'PET1,033.jpg', 'PET1,019.jpg', 'PET1,023.jpg', 'PET1,034.jpg', 'PET1,028.jpg', 'PET1,020.jpg', 'PET1,025.jpg', 'PET1,013.jpg', 'PET1,036.jpg', 'PET1,037.jpg', 'PET1,010.jpg', 'PET1,002.jpg', 'PET1,027.jpg', 'PET1,021.jpg', 'PET1,016.jpg', 'PET1,000.jpg', 'PET1,022.jpg', 'PET1,009.jpg', 'PET1,035.jpg', 'PET1,054.jpg', 'PET1,055.jpg', 'PET1,047.jpg', 'PET1,048.jpg', 'PET1,140.jpg', 'PET1,080.jpg', 'PET1,164.jpg', 'PET1,066.jpg', 'PET1,099.jpg', 'PET1,128.jpg', 'PET1,135.jpg', 'PET1,102.jpg', 'PET1,077.jpg', 'PET1,104.jpg', 'PET1,060.jpg', 'PET1,083.jpg', 'PET1,130.jpg', 'PET1,115.jpg', 'PET1,086.jpg', 'PET1,098.jpg', 'PET1,114.jpg', 'PET1,065.jpg', 'PET1,151.jpg', 'PET1,059.jpg', 'PET1,110.jpg', 'PET1,133.jpg', 'PET1,082.jpg', 'PET1,085.jpg', 'PET1,162.jpg', 'PET1,156.jpg', 'PET1,049.jpg', 'PET1,158.jpg', 'PET1,126.jpg', 'PET1,147.jpg', 'PET1,096.jpg', 'PET1,169.jpg', 'PET1,074.jpg', 'PET1,078.jpg', 'PET1,137.jpg', 'PET1,113.jpg', 'PET1,053.jpg', 'PET1,092.jpg', 'PET1,073.jpg', 'PET1,118.jpg', 'PET1,117.jpg', 'PET1,070.jpg', 'PET1,109.jpg', 'PET1,061.jpg', 'PET1,088.jpg', 'PET1,168.jpg', 'PET1,167.jpg', 'PET1,111.jpg', 'PET1,146.jpg', 'PET1,124.jpg', 'PET1,161.jpg', 'PET1,068.jpg', 'PET1,171.jpg', 'PET1,144.jpg', 'PET1,145.jpg', 'PET1,127.jpg', 'PET1,152.jpg', 'PET1,057.jpg', 'PET1,148.jpg', 'PET1,090.jpg', 'PET1,122.jpg', 'PET1,079.jpg', 'PET1,134.jpg', 'PET1,062.jpg', 'PET1,141.jpg', 'PET1,058.jpg', 'PET1,160.jpg', 'PET1,123.jpg', 'PET1,095.jpg', 'PET1,166.jpg', 'PET1,107.jpg', 'PET1,089.jpg', 'PET1,172.jpg', 'PET1,154.jpg', 'PET1,125.jpg', 'PET1,046.jpg', 'PET1,103.jpg', 'PET1,116.jpg', 'PET1,084.jpg', 'PET1,119.jpg', 'PET1,149.jpg', 'PET1,132.jpg', 'PET1,121.jpg', 'PET1,170.jpg', 'PET1,063.jpg', 'PET1,072.jpg', 'PET1,076.jpg', 'PET1,163.jpg', 'PET1,112.jpg', 'PET1,143.jpg', 'PET1,052.jpg', 'PET1,050.jpg', 'PET1,100.jpg', 'PET1,064.jpg', 'PET1,087.jpg', 'PET1,106.jpg', 'PET1,120.jpg', 'PET1,091.jpg', 'PET1,081.jpg', 'PET1,129.jpg', 'PET1,075.jpg', 'PET1,093.jpg', 'PET1,069.jpg', 'PET1,157.jpg', 'PET1,097.jpg', 'PET1,142.jpg', 'PET1,159.jpg', 'PET1,153.jpg', 'PET1,150.jpg', 'PET1,105.jpg', 'PET1,067.jpg', 'PET1,108.jpg', 'PET1,056.jpg', 'PET1,131.jpg', 'PET1,155.jpg', 'PET1,101.jpg', 'PET1,139.jpg', 'PET1,136.jpg', 'PET1,138.jpg', 'PET1,051.jpg', 'PET1,165.jpg', 'PET1,071.jpg', 'PET1,094.jpg', 'PET1,219.jpg', 'PET1,204.jpg', 'PET1,188.jpg', 'PET1,223.jpg', 'PET1,222.jpg', 'PET1,232.jpg', 'PET1,228.jpg', 'PET1,203.jpg', 'PET1,236.jpg', 'PET1,179.jpg', 'PET1,213.jpg', 'PET1,177.jpg', 'PET1,227.jpg', 'PET1,243.jpg', 'PET1,173.jpg', 'PET1,239.jpg', 'PET1,244.jpg', 'PET1,205.jpg', 'PET1,238.jpg', 'PET1,241.jpg', 'PET1,206.jpg', 'PET1,178.jpg', 'PET1,187.jpg', 'PET1,201.jpg', 'PET1,174.jpg', 'PET1,234.jpg', 'PET1,235.jpg', 'PET1,181.jpg', 'PET1,191.jpg', 'PET1,211.jpg', 'PET1,198.jpg', 'PET1,220.jpg', 'PET1,196.jpg', 'PET1,202.jpg', 'PET1,194.jpg', 'PET1,186.jpg', 'PET1,195.jpg', 'PET1,189.jpg', 'PET1,208.jpg', 'PET1,199.jpg', 'PET1,215.jpg', 'PET1,207.jpg', 'PET1,229.jpg', 'PET1,225.jpg', 'PET1,210.jpg', 'PET1,176.jpg', 'PET1,221.jpg', 'PET1,197.jpg', 'PET1,233.jpg', 'PET1,226.jpg', 'PET1,218.jpg', 'PET1,180.jpg', 'PET1,209.jpg', 'PET1,216.jpg', 'PET1,185.jpg', 'PET1,240.jpg', 'PET1,182.jpg', 'PET1,183.jpg', 'PET1,214.jpg', 'PET1,224.jpg', 'PET1,190.jpg', 'PET1,212.jpg', 'PET1,242.jpg', 'PET1,200.jpg', 'PET1,175.jpg', 'PET1,237.jpg', 'PET1,231.jpg', 'PET1,230.jpg', 'PET1,245.jpg', 'PET1,193.jpg', 'PET1,217.jpg', 'PET1,192.jpg', 'PET1,184.jpg', 'PET1,270.jpg', 'PET1,329.jpg', 'PET1,318.jpg', 'PET1,271.jpg', 'PET1,349.jpg', 'PET1,296.jpg', 'PET1,261.jpg', 'PET1,327.jpg', 'PET1,253.jpg', 'PET1,307.jpg', 'PET1,317.jpg', 'PET1,252.jpg', 'PET1,339.jpg', 'PET1,335.jpg', 'PET1,361.jpg', 'PET1,332.jpg', 'PET1,265.jpg', 'PET1,294.jpg', 'PET1,267.jpg', 'PET1,257.jpg', 'PET1,353.jpg', 'PET1,354.jpg', 'PET1,357.jpg', 'PET1,292.jpg', 'PET1,256.jpg', 'PET1,333.jpg', 'PET1,314.jpg', 'PET1,309.jpg', 'PET1,303.jpg', 'PET1,285.jpg', 'PET1,315.jpg', 'PET1,260.jpg', 'PET1,358.jpg', 'PET1,344.jpg', 'PET1,275.jpg', 'PET1,330.jpg', 'PET1,276.jpg', 'PET1,316.jpg', 'PET1,325.jpg', 'PET1,295.jpg', 'PET1,284.jpg', 'PET1,281.jpg', 'PET1,255.jpg', 'PET1,301.jpg', 'PET1,348.jpg', 'PET1,290.jpg', 'PET1,262.jpg', 'PET1,311.jpg', 'PET1,247.jpg', 'PET1,269.jpg', 'PET1,364.jpg', 'PET1,322.jpg', 'PET1,300.jpg', 'PET1,280.jpg', 'PET1,258.jpg', 'PET1,343.jpg', 'PET1,272.jpg', 'PET1,313.jpg', 'PET1,304.jpg', 'PET1,293.jpg', 'PET1,331.jpg', 'PET1,249.jpg', 'PET1,320.jpg', 'PET1,263.jpg', 'PET1,321.jpg', 'PET1,336.jpg', 'PET1,338.jpg', 'PET1,346.jpg', 'PET1,365.jpg', 'PET1,351.jpg', 'PET1,288.jpg', 'PET1,286.jpg', 'PET1,287.jpg', 'PET1,274.jpg', 'PET1,278.jpg', 'PET1,291.jpg', 'PET1,326.jpg', 'PET1,273.jpg', 'PET1,248.jpg', 'PET1,342.jpg', 'PET1,324.jpg', 'PET1,254.jpg', 'PET1,298.jpg', 'PET1,328.jpg', 'PET1,279.jpg', 'PET1,347.jpg', 'PET1,264.jpg', 'PET1,306.jpg', 'PET1,305.jpg', 'PET1,259.jpg', 'PET1,350.jpg', 'PET1,289.jpg', 'PET1,341.jpg', 'PET1,323.jpg', 'PET1,345.jpg', 'PET1,302.jpg', 'PET1,251.jpg', 'PET1,352.jpg', 'PET1,319.jpg', 'PET1,268.jpg', 'PET1,312.jpg', 'PET1,282.jpg', 'PET1,362.jpg', 'PET1,359.jpg', 'PET1,363.jpg', 'PET1,299.jpg', 'PET1,355.jpg', 'PET1,337.jpg', 'PET1,356.jpg', 'PET1,360.jpg', 'PET1,334.jpg', 'PET1,310.jpg', 'PET1,308.jpg', 'PET1,266.jpg', 'PET1,246.jpg', 'PET1,340.jpg', 'PET1,277.jpg', 'PET1,250.jpg', 'PET1,283.jpg', 'PET1,297.jpg', 'PET1,469.jpg', 'PET1,454.jpg', 'PET1,414.jpg', 'PET1,394.jpg', 'PET1,407.jpg', 'PET1,470.jpg', 'PET1,412.jpg', 'PET1,379.jpg', 'PET1,383.jpg', 'PET1,386.jpg', 'PET1,458.jpg', 'PET1,387.jpg', 'PET1,374.jpg', 'PET1,466.jpg', 'PET1,369.jpg', 'PET1,455.jpg', 'PET1,389.jpg', 'PET1,396.jpg', 'PET1,413.jpg', 'PET1,371.jpg', 'PET1,453.jpg', 'PET1,468.jpg', 'PET1,428.jpg', 'PET1,446.jpg', 'PET1,431.jpg', 'PET1,473.jpg', 'PET1,417.jpg', 'PET1,422.jpg', 'PET1,457.jpg', 'PET1,378.jpg', 'PET1,408.jpg', 'PET1,463.jpg', 'PET1,405.jpg', 'PET1,450.jpg', 'PET1,402.jpg', 'PET1,425.jpg', 'PET1,440.jpg', 'PET1,435.jpg', 'PET1,395.jpg', 'PET1,436.jpg', 'PET1,448.jpg', 'PET1,376.jpg', 'PET1,459.jpg', 'PET1,411.jpg', 'PET1,380.jpg', 'PET1,462.jpg', 'PET1,377.jpg', 'PET1,366.jpg', 'PET1,461.jpg', 'PET1,385.jpg', 'PET1,438.jpg', 'PET1,452.jpg', 'PET1,367.jpg', 'PET1,432.jpg', 'PET1,384.jpg', 'PET1,368.jpg', 'PET1,427.jpg', 'PET1,381.jpg', 'PET1,410.jpg', 'PET1,388.jpg', 'PET1,429.jpg', 'PET1,445.jpg', 'PET1,409.jpg', 'PET1,393.jpg', 'PET1,419.jpg', 'PET1,467.jpg', 'PET1,472.jpg', 'PET1,418.jpg', 'PET1,390.jpg', 'PET1,437.jpg', 'PET1,441.jpg', 'PET1,392.jpg', 'PET1,372.jpg', 'PET1,404.jpg', 'PET1,424.jpg', 'PET1,397.jpg', 'PET1,421.jpg', 'PET1,400.jpg', 'PET1,464.jpg', 'PET1,423.jpg', 'PET1,442.jpg', 'PET1,416.jpg', 'PET1,391.jpg', 'PET1,406.jpg', 'PET1,447.jpg', 'PET1,373.jpg', 'PET1,415.jpg', 'PET1,430.jpg', 'PET1,398.jpg', 'PET1,460.jpg', 'PET1,399.jpg', 'PET1,375.jpg', 'PET1,401.jpg', 'PET1,465.jpg', 'PET1,426.jpg', 'PET1,434.jpg', 'PET1,456.jpg', 'PET1,444.jpg', 'PET1,449.jpg', 'PET1,403.jpg', 'PET1,471.jpg', 'PET1,433.jpg', 'PET1,451.jpg', 'PET1,420.jpg', 'PET1,382.jpg', 'PET1,443.jpg', 'PET1,439.jpg', 'PET1,370.jpg', 'PET1,694.jpg', 'PET1,550.jpg', 'PET1,556.jpg', 'PET1,681.jpg', 'PET1,497.jpg', 'PET1,784.jpg', 'PET1,521.jpg', 'PET1,486.jpg', 'PET1,599.jpg', 'PET1,746.jpg', 'PET1,745.jpg', 'PET1,522.jpg', 'PET285.jpg', 'PET1,502.jpg', 'PET1,766.jpg', 'PET1,659.jpg', 'PET1,780.jpg', 'PET1,561.jpg', 'PET1,733.jpg', 'PET1,482.jpg', 'PET1,519.jpg', 'PET1,538.jpg', 'PET1,520.jpg', 'PET1,622.jpg', 'PET297.jpg', 'PET1,677.jpg', 'PET1,528.jpg', 'PET1,686.jpg', 'PET1,779.jpg', 'PET1,560.jpg', 'PET1,696.jpg', 'PET1,588.jpg', 'PET317.jpg', 'PET300.jpg']\n",
            "folder_path = /content/drive/MyDrive/MIDS_Capstone/Datasets/rawimgs/Glass\n",
            "Glass\n",
            "files_in_folder = ['Glass1,267.JPG', 'Glass1,224.JPG', 'Glass1,291.JPG', 'Glass1,285.JPG', 'Glass1,235.JPG', 'Glass1,268.JPG', 'Glass1,244.JPG', 'Glass1,252.JPG', 'Glass1,251.JPG', 'Glass1,270.JPG', 'Glass1,210.JPG', 'Glass1,237.JPG', 'Glass1,308.JPG', 'Glass1,222.JPG', 'Glass1,250.JPG', 'Glass1,272.JPG', 'Glass1,257.JPG', 'Glass1,276.JPG', 'Glass1,217.JPG', 'Glass1,300.JPG', 'Glass1,290.JPG', 'Glass1,265.JPG', 'Glass1,259.JPG', 'Glass1,245.JPG', 'Glass1,242.JPG', 'Glass1,229.JPG', 'Glass1,227.JPG', 'Glass1,264.JPG', 'Glass1,261.JPG', 'Glass1,302.JPG', 'Glass1,306.JPG', 'Glass1,287.JPG', 'Glass1,274.JPG', 'Glass1,284.JPG', 'Glass1,269.JPG', 'Glass1,247.JPG', 'Glass1,256.JPG', 'Glass1,288.JPG', 'Glass1,215.JPG', 'Glass1,263.JPG', 'Glass1,278.JPG', 'Glass1,218.JPG', 'Glass1,253.JPG', 'Glass1,214.JPG', 'Glass1,295.JPG', 'Glass1,221.JPG', 'Glass1,277.JPG', 'Glass1,228.JPG', 'Glass1,220.JPG', 'Glass1,232.JPG', 'Glass1,234.JPG', 'Glass1,260.JPG', 'Glass1,225.JPG', 'Glass1,216.JPG', 'Glass1,304.JPG', 'Glass1,299.JPG', 'Glass1,243.JPG', 'Glass1,240.JPG', 'Glass1,211.JPG', 'Glass1,279.JPG', 'Glass1,255.JPG', 'Glass1,294.JPG', 'Glass1,307.JPG', 'Glass1,239.JPG', 'Glass1,248.JPG', 'Glass1,293.JPG', 'Glass1,231.JPG', 'Glass1,238.JPG', 'Glass1,273.JPG', 'Glass1,212.JPG', 'Glass1,303.JPG', 'Glass1,286.JPG', 'Glass1,298.JPG', 'Glass1,241.JPG', 'Glass1,262.JPG', 'Glass1,233.JPG', 'Glass1,280.JPG', 'Glass440.jpg', 'Glass354.jpg', 'Glass446.jpg', 'Glass319.jpg', 'Glass131.jpg', 'Glass223.jpg', 'Glass178.jpg', 'Glass447.jpg', 'Glass572.jpg', 'Glass242.jpg', 'Glass179.jpg', 'Glass1,310.JPG', 'Glass393.jpg', 'Glass541.jpg', 'Glass1,311.JPG', 'Glass193.jpg', 'Glass433.jpg', 'Glass432.jpg', 'Glass510.jpg', 'Glass388.jpg', 'Glass532.jpg', 'Glass448.jpg', 'Glass209.jpg', 'Glass501.jpg', 'Glass418.jpg', 'Glass503.jpg', 'Glass472.jpg', 'Glass487.jpg', 'Glass155.jpg', 'Glass26.jpg', 'Glass364.jpg', 'Glass106.jpg', 'Glass396.jpg', 'Glass150.jpg', 'Glass300.jpg', 'Glass555.jpg', 'Glass23.jpg', 'Glass269.jpg', 'Glass282.jpg', 'Glass543.jpg', 'Glass451.jpg', 'Glass494.jpg', 'Glass249.jpg', 'Glass438.jpg', 'Glass147.jpg', 'Glass547.jpg', 'Glass15.jpg', 'Glass168.jpg', 'Glass537.jpg', 'Glass416.jpg', 'Glass189.jpg', 'Glass25.jpg', 'Glass183.jpg', 'Glass428.jpg', 'Glass54.jpg', 'Glass373.jpg', 'Glass142.jpg', 'Glass360.jpg', 'Glass406.jpg', 'Glass169.jpg', 'Glass561.jpg', 'Glass410.jpg', 'Glass307.jpg', 'Glass481.jpg', 'Glass564.jpg', 'Glass559.jpg', 'Glass580.jpg', 'Glass149.jpg', 'Glass327.jpg', 'Glass57.jpg', 'Glass237.jpg', 'Glass297.jpg', 'Glass370.jpg', 'Glass24.jpg', 'Glass523.jpg', 'Glass507.jpg', 'Glass299.jpg', 'Glass386.jpg', 'Glass336.jpg', 'Glass246.jpg', 'Glass323.jpg', 'Glass549.jpg', 'Glass402.jpg', 'Glass125.jpg', 'Glass292.jpg', 'Glass542.jpg', 'Glass367.jpg', 'Glass475.jpg', 'Glass417.jpg', 'Glass101.jpg', 'Glass306.jpg', 'Glass375.jpg', 'Glass201.jpg', 'Glass527.jpg', 'Glass493.jpg', 'Glass347.jpg', 'Glass258.jpg', 'Glass583.jpg', 'Glass516.jpg', 'Glass545.jpg', 'Glass188.jpg', 'Glass108.jpg', 'Glass162.jpg', 'Glass467.jpg', 'Glass466.jpg', 'Glass273.jpg', 'Glass390.jpg', 'Glass105.jpg', 'Glass214.jpg', 'Glass338.jpg', 'Glass430.jpg', 'Glass5.jpg', 'Glass352.jpg', 'Glass458.jpg', 'Glass453.jpg', 'Glass100.jpg', 'Glass382.jpg', 'Glass1,314.JPG', 'Glass314.jpg', 'Glass408.jpg', 'Glass173.jpg', 'Glass267.jpg', 'Glass159.jpg', 'Glass114.jpg', 'Glass170.jpg', 'Glass337.jpg', 'Glass502.jpg', 'Glass575.jpg', 'Glass185.jpg', 'Glass3.jpg', 'Glass235.jpg', 'Glass1,309.JPG', 'Glass326.jpg', 'Glass571.jpg', 'Glass301.jpg', 'Glass520.jpg', 'Glass135.jpg', 'Glass140.jpg', 'Glass56.jpg', 'Glass351.jpg', 'Glass137.jpg', 'Glass146.jpg', 'Glass276.jpg', 'Glass397.jpg', 'Glass271.jpg', 'Glass213.jpg', 'Glass522.jpg', 'Glass455.jpg', 'Glass285.jpg', 'Glass328.jpg', 'Glass412.jpg', 'Glass477.jpg', 'Glass376.jpg', 'Glass36.jpg', 'Glass357.jpg', 'Glass127.jpg', 'Glass263.jpg', 'Glass48.jpg', 'Glass281.jpg', 'Glass427.jpg', 'Glass332.jpg', 'Glass519.jpg', 'Glass557.jpg', 'Glass167.jpg', 'Glass145.jpg', 'Glass454.jpg', 'Glass508.jpg', 'Glass322.jpg', 'Glass505.jpg', 'Glass278.jpg', 'Glass50.jpg', 'Glass293.jpg', 'Glass107.jpg', 'Glass321.jpg', 'Glass290.jpg', 'Glass422.jpg', 'Glass480.jpg', 'Glass44.jpg', 'Glass499.jpg', 'Glass371.jpg', 'Glass404.jpg', 'Glass400.jpg', 'Glass291.jpg', 'Glass556.jpg', 'Glass144.jpg', 'Glass102.jpg', 'Glass202.jpg', 'Glass540.jpg', 'Glass379.jpg', 'Glass335.jpg', 'Glass165.jpg', 'Glass517.jpg', 'Glass349.jpg', 'Glass465.jpg', 'Glass148.jpg', 'Glass316.jpg', 'Glass128.jpg', 'Glass530.jpg', 'Glass13.jpg', 'Glass414.jpg', 'Glass261.jpg', 'Glass586.jpg', 'Glass243.jpg', 'Glass302.jpg', 'Glass548.jpg', 'Glass514.jpg', 'Glass198.jpg', 'Glass535.jpg', 'Glass381.jpg', 'Glass230.jpg', 'Glass305.jpg', 'Glass342.jpg', 'Glass1,312.JPG', 'Glass123.jpg', 'Glass551.jpg', 'Glass113.jpg', 'Glass330.jpg', 'Glass389.jpg', 'Glass329.jpg', 'Glass280.jpg', 'Glass262.jpg', 'Glass470.jpg', 'Glass118.jpg', 'Glass312.jpg', 'Glass121.jpg', 'Glass208.jpg', 'Glass474.jpg', 'Glass387.jpg', 'Glass552.jpg', 'Glass264.jpg', 'Glass250.jpg', 'Glass587.jpg', 'Glass486.jpg', 'Glass574.jpg', 'Glass420.jpg', 'Glass132.jpg', 'Glass47.jpg', 'Glass565.jpg', 'Glass348.jpg', 'Glass38.jpg', 'Glass313.jpg', 'Glass512.jpg', 'Glass449.jpg', 'Glass166.jpg', 'Glass270.jpg', 'Glass10.jpg', 'Glass421.jpg', 'Glass161.jpg', 'Glass151.jpg', 'Glass509.jpg', 'Glass58.jpg', 'Glass498.jpg', 'Glass495.jpg', 'Glass239.jpg', 'Glass1.jpg', 'Glass111.jpg', 'Glass419.jpg', 'Glass194.jpg', 'Glass109.jpg', 'Glass452.jpg', 'Glass216.jpg', 'Glass566.jpg', 'Glass569.jpg', 'Glass361.jpg', 'Glass550.jpg', 'Glass257.jpg', 'Glass525.jpg', 'Glass515.jpg', 'Glass363.jpg', 'Glass513.jpg', 'Glass378.jpg', 'Glass158.jpg', 'Glass409.jpg', 'Glass334.jpg', 'Glass356.jpg', 'Glass12.jpg', 'Glass274.jpg', 'Glass576.jpg', 'Glass405.jpg', 'Glass251.jpg', 'Glass195.jpg', 'Glass578.jpg', 'Glass538.jpg', 'Glass133.jpg', 'Glass212.jpg', 'Glass315.jpg', 'Glass317.jpg', 'Glass256.jpg', 'Glass46.jpg', 'Glass374.jpg', 'Glass536.jpg', 'Glass383.jpg', 'Glass210.jpg', 'Glass220.jpg', 'Glass443.jpg', 'Glass304.jpg', 'Glass585.jpg', 'Glass139.jpg', 'Glass372.jpg', 'Glass355.jpg', 'Glass318.jpg', 'Glass35.jpg', 'Glass255.jpg', 'Glass31.jpg', 'Glass439.jpg', 'Glass344.jpg', 'Glass141.jpg', 'Glass175.jpg', 'Glass562.jpg', 'Glass560.jpg', 'Glass424.jpg', 'Glass581.jpg', 'Glass353.jpg', 'Glass217.jpg', 'Glass437.jpg', 'Glass567.jpg', 'Glass554.jpg', 'Glass362.jpg', 'Glass491.jpg', 'Glass582.jpg', 'Glass399.jpg', 'Glass468.jpg', 'Glass259.jpg', 'Glass518.jpg', 'Glass163.jpg', 'Glass478.jpg', 'Glass49.jpg', 'Glass339.jpg', 'Glass473.jpg', 'Glass16.jpg', 'Glass425.jpg', 'Glass45.jpg', 'Glass272.jpg', 'Glass484.jpg', 'Glass311.jpg', 'Glass350.jpg', 'Glass403.jpg', 'Glass457.jpg', 'Glass152.jpg', 'Glass546.jpg', 'Glass444.jpg', 'Glass122.jpg', 'Glass211.jpg', 'Glass287.jpg', 'Glass119.jpg', 'Glass584.jpg', 'Glass40.jpg', 'Glass563.jpg', 'Glass164.jpg', 'Glass558.jpg', 'Glass479.jpg', 'Glass436.jpg', 'Glass577.jpg', 'Glass320.jpg', 'Glass138.jpg', 'Glass435.jpg', 'Glass191.jpg', 'Glass233.jpg', 'Glass22.jpg', 'Glass266.jpg', 'Glass485.jpg', 'Glass462.jpg', 'Glass130.jpg', 'Glass160.jpg', 'Glass573.jpg', 'Glass286.jpg', 'Glass476.jpg', 'Glass411.jpg', 'Glass441.jpg', 'Glass234.jpg', 'Glass289.jpg', 'Glass506.jpg', 'Glass431.jpg', 'Glass434.jpg', 'Glass180.jpg', 'Glass236.jpg', 'Glass469.jpg', 'Glass553.jpg', 'Glass369.jpg', 'Glass126.jpg', 'Glass55.jpg', 'Glass579.jpg', 'Glass504.jpg', 'Glass284.jpg', 'Glass254.jpg', 'Glass294.jpg', 'Glass528.jpg', 'Glass309.jpg', 'Glass459.jpg', 'Glass401.jpg', 'Glass529.jpg', 'Glass368.jpg', 'Glass295.jpg', 'Glass124.jpg', 'Glass186.jpg', 'Glass384.jpg', 'Glass244.jpg', 'Glass333.jpg', 'Glass456.jpg', 'Glass182.jpg', 'Glass156.jpg', 'Glass445.jpg', 'Glass413.jpg', 'Glass120.jpg', 'Glass526.jpg', 'Glass450.jpg', 'Glass14.jpg', 'Glass442.jpg', 'Glass544.jpg', 'Glass488.jpg', 'Glass407.jpg', 'Glass275.jpg', 'Glass268.jpg', 'Glass153.jpg', 'Glass511.jpg', 'Glass241.jpg', 'Glass112.jpg', 'Glass52.jpg', 'Glass42.jpg', 'Glass154.jpg', 'Glass531.jpg', 'Glass308.jpg', 'Glass377.jpg', 'Glass524.jpg', 'Glass39.jpg', 'Glass117.jpg', 'Glass490.jpg', 'Glass11.jpg', 'Glass283.jpg', 'Glass245.jpg', 'Glass331.jpg', 'Glass471.jpg', 'Glass1,313.JPG', 'Glass4.jpg', 'Glass539.jpg', 'Glass288.jpg', 'Glass248.jpg', 'Glass568.jpg', 'Glass415.jpg', 'Glass385.jpg', 'Glass398.jpg', 'Glass460.jpg', 'Glass228.jpg', 'Glass143.jpg', 'Glass110.jpg', 'Glass227.jpg', 'Glass521.jpg', 'Glass423.jpg', 'Glass37.jpg', 'Glass534.jpg', 'Glass51.jpg', 'Glass533.jpg', 'Glass394.jpg', 'Glass483.jpg', 'Glass171.jpg', 'Glass134.jpg', 'Glass103.jpg', 'Glass104.jpg', 'Glass429.jpg', 'Glass346.jpg', 'Glass265.jpg', 'Glass240.jpg', 'Glass588.jpg', 'Glass115.jpg', 'Glass41.jpg', 'Glass172.jpg', 'Glass157.jpg', 'Glass391.jpg', 'Glass136.jpg', 'Glass570.jpg', 'Glass461.jpg', 'Glass638.jpg', 'Glass629.jpg', 'Glass590.jpg', 'Glass606.jpg', 'Glass613.jpg', 'Glass621.jpg', 'Glass617.jpg', 'Glass592.jpg', 'Glass60.jpg', 'Glass59.jpg', 'Glass67.jpg', 'Glass665.JPG', 'Glass651.JPG', 'Glass636.jpg', 'Glass591.jpg', 'Glass66.jpg', 'Glass610.jpg', 'Glass641.jpg', 'Glass675.JPG', 'Glass661.JPG', 'Glass608.jpg', 'Glass622.jpg', 'Glass650.JPG', 'Glass63.jpg', 'Glass65.jpg', 'Glass595.jpg', 'Glass600.jpg', 'Glass664.JPG', 'Glass640.jpg', 'Glass62.jpg', 'Glass624.jpg', 'Glass639.jpg', 'Glass594.jpg', 'Glass657.JPG', 'Glass642.jpg', 'Glass668.JPG', 'Glass619.jpg', 'Glass616.jpg', 'Glass599.jpg', 'Glass672.JPG', 'Glass611.jpg', 'Glass597.jpg', 'Glass674.JPG', 'Glass604.jpg', 'Glass609.jpg', 'Glass602.jpg', 'Glass653.JPG', 'Glass64.jpg', 'Glass625.jpg', 'Glass637.jpg', 'Glass652.JPG', 'Glass618.jpg', 'Glass634.jpg', 'Glass643.jpg', 'Glass61.jpg', 'Glass601.jpg', 'Glass670.JPG', 'Glass635.jpg', 'Glass659.JPG', 'Glass620.jpg', 'Glass646.JPG', 'Glass671.JPG', 'Glass633.jpg', 'Glass662.JPG', 'Glass605.jpg', 'Glass669.JPG', 'Glass631.jpg', 'Glass615.jpg', 'Glass627.jpg', 'Glass626.jpg', 'Glass632.jpg', 'Glass612.jpg', 'Glass660.JPG', 'Glass667.JPG', 'Glass603.jpg', 'Glass623.jpg', 'Glass666.JPG', 'Glass654.JPG', 'Glass589.jpg', 'Glass645.JPG', 'Glass628.jpg', 'Glass656.JPG', 'Glass607.jpg', 'Glass663.JPG', 'Glass677.JPG', 'Glass6.jpg', 'Glass593.jpg', 'Glass673.JPG', 'Glass676.JPG', 'Glass596.jpg', 'Glass630.jpg', 'Glass614.jpg', 'Glass655.JPG', 'Glass658.JPG', 'Glass644.JPG', 'Glass649.JPG', 'Glass647.JPG', 'Glass598.jpg', 'Glass648.JPG', 'Glass770.JPG', 'Glass739.JPG', 'Glass755.JPG', 'Glass737.JPG', 'Glass747.JPG', 'Glass688.JPG', 'Glass683.JPG', 'Glass722.JPG', 'Glass717.JPG', 'Glass699.JPG', 'Glass68.jpg', 'Glass756.JPG', 'Glass730.JPG', 'Glass763.JPG', 'Glass740.JPG', 'Glass687.JPG', 'Glass706.JPG', 'Glass678.JPG', 'Glass749.JPG', 'Glass734.JPG', 'Glass75.jpg', 'Glass752.JPG', 'Glass746.JPG', 'Glass772.JPG', 'Glass691.JPG', 'Glass716.JPG', 'Glass72.jpg', 'Glass765.JPG', 'Glass705.JPG', 'Glass681.JPG', 'Glass77.jpg', 'Glass738.JPG', 'Glass7.jpg', 'Glass708.JPG', 'Glass762.JPG', 'Glass771.JPG', 'Glass679.JPG', 'Glass685.JPG', 'Glass760.JPG', 'Glass715.JPG', 'Glass776.JPG', 'Glass732.JPG', 'Glass754.JPG', 'Glass686.JPG', 'Glass697.JPG', 'Glass728.JPG', 'Glass693.JPG', 'Glass758.JPG', 'Glass745.JPG', 'Glass735.JPG', 'Glass768.JPG', 'Glass718.JPG', 'Glass719.JPG', 'Glass695.JPG', 'Glass769.JPG', 'Glass725.JPG', 'Glass726.JPG', 'Glass774.JPG', 'Glass713.JPG', 'Glass761.JPG', 'Glass710.JPG', 'Glass733.JPG', 'Glass704.JPG', 'Glass775.JPG', 'Glass692.JPG', 'Glass766.JPG', 'Glass696.JPG', 'Glass729.JPG', 'Glass71.jpg', 'Glass690.JPG', 'Glass694.JPG', 'Glass69.jpg', 'Glass727.JPG', 'Glass707.JPG', 'Glass720.JPG', 'Glass744.JPG', 'Glass698.JPG', 'Glass701.JPG', 'Glass741.JPG', 'Glass724.JPG', 'Glass714.JPG', 'Glass731.JPG', 'Glass682.JPG', 'Glass759.JPG', 'Glass711.JPG', 'Glass743.JPG', 'Glass736.JPG', 'Glass680.JPG', 'Glass703.JPG', 'Glass723.JPG', 'Glass750.JPG', 'Glass767.JPG', 'Glass74.jpg', 'Glass712.JPG', 'Glass702.JPG', 'Glass709.JPG', 'Glass748.JPG', 'Glass70.jpg', 'Glass700.JPG', 'Glass689.JPG', 'Glass684.JPG', 'Glass721.JPG', 'Glass757.JPG', 'Glass73.jpg', 'Glass751.JPG', 'Glass742.JPG', 'Glass764.JPG', 'Glass773.JPG', 'Glass753.JPG', 'Glass835.JPG', 'Glass867.JPG', 'Glass875.JPG', 'Glass811.JPG', 'Glass845.JPG', 'Glass827.JPG', 'Glass891.JPG', 'Glass822.JPG', 'Glass84.jpg', 'Glass883.JPG', 'Glass862.JPG', 'Glass871.JPG', 'Glass831.JPG', 'Glass846.JPG', 'Glass878.JPG', 'Glass783.JPG', 'Glass788.JPG', 'Glass859.JPG', 'Glass860.JPG', 'Glass888.JPG', 'Glass819.JPG', 'Glass86.jpg', 'Glass792.JPG', 'Glass805.JPG', 'Glass797.JPG', 'Glass866.JPG', 'Glass838.JPG', 'Glass877.JPG', 'Glass840.JPG', 'Glass802.JPG', 'Glass89.jpg', 'Glass8.jpg', 'Glass881.JPG', 'Glass810.JPG', 'Glass787.JPG', 'Glass791.JPG', 'Glass844.JPG', 'Glass852.JPG', 'Glass814.JPG', 'Glass82.jpg', 'Glass869.JPG', 'Glass851.JPG', 'Glass839.JPG', 'Glass861.JPG', 'Glass841.JPG', 'Glass885.JPG', 'Glass777.JPG', 'Glass882.JPG', 'Glass789.JPG', 'Glass864.JPG', 'Glass782.JPG', 'Glass796.JPG', 'Glass834.JPG', 'Glass893.JPG', 'Glass800.JPG', 'Glass895.JPG', 'Glass790.JPG', 'Glass793.JPG', 'Glass863.JPG', 'Glass886.JPG', 'Glass799.JPG', 'Glass809.JPG', 'Glass832.JPG', 'Glass824.JPG', 'Glass884.JPG', 'Glass821.JPG', 'Glass87.jpg', 'Glass794.JPG', 'Glass879.JPG', 'Glass826.JPG', 'Glass812.JPG', 'Glass813.JPG', 'Glass872.JPG', 'Glass795.JPG', 'Glass817.JPG', 'Glass887.JPG', 'Glass83.jpg', 'Glass842.JPG', 'Glass88.jpg', 'Glass798.JPG', 'Glass830.JPG', 'Glass818.JPG', 'Glass829.JPG', 'Glass894.JPG', 'Glass858.JPG', 'Glass850.JPG', 'Glass820.JPG', 'Glass780.JPG', 'Glass807.JPG', 'Glass828.JPG', 'Glass847.JPG', 'Glass806.JPG', 'Glass868.JPG', 'Glass837.JPG', 'Glass836.JPG', 'Glass876.JPG', 'Glass786.JPG', 'Glass778.JPG', 'Glass849.JPG', 'Glass803.JPG', 'Glass856.JPG', 'Glass853.JPG', 'Glass785.JPG', 'Glass81.jpg', 'Glass804.JPG', 'Glass880.JPG', 'Glass855.JPG', 'Glass816.JPG', 'Glass848.JPG', 'Glass865.JPG', 'Glass808.JPG', 'Glass825.JPG', 'Glass892.JPG', 'Glass870.JPG', 'Glass815.JPG', 'Glass854.JPG', 'Glass801.JPG', 'Glass843.JPG', 'Glass889.JPG', 'Glass873.JPG', 'Glass833.JPG', 'Glass857.JPG', 'Glass781.JPG', 'Glass784.JPG', 'Glass779.JPG', 'Glass80.jpg', 'Glass890.JPG', 'Glass823.JPG', 'Glass874.JPG', 'Glass996.JPG', 'Glass938.JPG', 'Glass943.JPG', 'Glass898.JPG', 'Glass896.JPG', 'Glass910.JPG', 'Glass931.JPG', 'Glass918.JPG', 'Glass909.JPG', 'Glass923.JPG', 'Glass959.JPG', 'Glass998.JPG', 'Glass906.JPG', 'Glass994.JPG', 'Glass902.JPG', 'Glass937.JPG', 'Glass9.jpg', 'Glass947.JPG', 'Glass897.JPG', 'Glass955.JPG', 'Glass981.JPG', 'Glass969.JPG', 'Glass941.JPG', 'Glass985.JPG', 'Glass926.JPG', 'Glass951.JPG', 'Glass905.JPG', 'Glass929.JPG', 'Glass934.JPG', 'Glass936.JPG', 'Glass973.JPG', 'Glass956.JPG', 'Glass983.JPG', 'Glass927.JPG', 'Glass990.JPG', 'Glass911.JPG', 'Glass939.JPG', 'Glass961.JPG', 'Glass995.JPG', 'Glass979.JPG', 'Glass901.JPG', 'Glass989.JPG', 'Glass940.JPG', 'Glass988.JPG', 'Glass98.jpg', 'Glass946.JPG', 'Glass944.JPG', 'Glass993.JPG', 'Glass908.JPG', 'Glass99.jpg', 'Glass984.JPG', 'Glass95.jpg', 'Glass900.JPG', 'Glass92.jpg', 'Glass97.jpg', 'Glass999.JPG', 'Glass980.JPG', 'Glass93.jpg', 'Glass962.JPG', 'Glass967.JPG', 'Glass933.JPG', 'Glass913.JPG', 'Glass914.JPG', 'Glass974.JPG', 'Glass94.jpg', 'Glass899.JPG', 'Glass904.JPG', 'Glass96.jpg', 'Glass90.jpg', 'Glass971.JPG', 'Glass949.JPG', 'Glass982.JPG', 'Glass916.JPG', 'Glass948.JPG', 'Glass957.JPG', 'Glass964.JPG', 'Glass903.JPG', 'Glass954.JPG', 'Glass950.JPG', 'Glass970.JPG', 'Glass991.JPG', 'Glass932.JPG', 'Glass935.JPG', 'Glass997.JPG', 'Glass972.JPG', 'Glass960.JPG', 'Glass920.JPG', 'Glass977.JPG', 'Glass978.JPG', 'Glass915.JPG', 'Glass925.JPG', 'Glass922.JPG', 'Glass966.JPG', 'Glass963.JPG', 'Glass958.JPG', 'Glass945.JPG', 'Glass992.JPG', 'Glass912.JPG', 'Glass930.JPG', 'Glass968.JPG', 'Glass921.JPG', 'Glass965.JPG', 'Glass953.JPG', 'Glass924.JPG', 'Glass987.JPG', 'Glass942.JPG', 'Glass928.JPG', 'Glass917.JPG', 'Glass919.JPG', 'Glass975.JPG', 'Glass91.jpg', 'Glass986.JPG', 'Glass952.JPG', 'Glass976.JPG', 'Glass907.JPG', 'Glass1,026.JPG', 'Glass1,057.JPG', 'Glass1,065.JPG', 'Glass1,023.JPG', 'Glass1,030.JPG', 'Glass1,004.JPG', 'Glass1,035.JPG', 'Glass1,048.JPG', 'Glass1,011.JPG', 'Glass1,021.JPG', 'Glass1,047.JPG', 'Glass1,000.JPG', 'Glass1,006.JPG', 'Glass1,067.JPG', 'Glass1,017.JPG', 'Glass1,005.JPG', 'Glass1,009.JPG', 'Glass1,038.JPG', 'Glass1,010.JPG', 'Glass1,037.JPG', 'Glass1,034.JPG', 'Glass1,024.JPG', 'Glass1,060.JPG', 'Glass1,025.JPG', 'Glass1,063.JPG', 'Glass1,039.JPG', 'Glass1,001.JPG', 'Glass1,040.JPG', 'Glass1,018.JPG', 'Glass1,022.JPG', 'Glass1,052.JPG', 'Glass1,055.JPG', 'Glass1,008.JPG', 'Glass1,016.JPG', 'Glass1,014.JPG', 'Glass1,056.JPG', 'Glass1,013.JPG', 'Glass1,012.JPG', 'Glass1,029.JPG', 'Glass1,046.JPG', 'Glass1,062.JPG', 'Glass1,041.JPG', 'Glass1,042.JPG', 'Glass1,051.JPG', 'Glass1,027.JPG', 'Glass1,015.JPG', 'Glass1,068.JPG', 'Glass1,033.JPG', 'Glass1,058.JPG', 'Glass1,049.JPG', 'Glass1,003.JPG', 'Glass1,020.JPG', 'Glass1,045.JPG', 'Glass1,061.JPG', 'Glass1,002.JPG', 'Glass1,044.JPG', 'Glass1,053.JPG', 'Glass1,007.JPG', 'Glass1,059.JPG', 'Glass1,032.JPG', 'Glass1,064.JPG', 'Glass1,019.JPG', 'Glass1,031.JPG', 'Glass1,028.JPG', 'Glass1,050.JPG', 'Glass1,066.JPG', 'Glass1,054.JPG', 'Glass1,036.JPG', 'Glass1,043.JPG', 'Glass1,073.JPG', 'Glass1,069.JPG', 'Glass1,091.JPG', 'Glass1,098.JPG', 'Glass1,094.JPG', 'Glass1,087.HEIC', 'Glass1,096.JPG', 'Glass1,086.HEIC', 'Glass1,080.JPG', 'Glass1,081.HEIC', 'Glass1,088.HEIC', 'Glass1,097.JPG', 'Glass1,075.JPG', 'Glass1,072.JPG', 'Glass1,092.JPG', 'Glass1,078.JPG', 'Glass1,085.HEIC', 'Glass1,077.JPG', 'Glass1,083.HEIC', 'Glass1,082.HEIC', 'Glass1,074.JPG', 'Glass1,089.JPG', 'Glass1,093.JPG', 'Glass1,090.JPG', 'Glass1,076.JPG', 'Glass1,084.HEIC', 'Glass1,071.JPG', 'Glass1,095.JPG', 'Glass1,070.JPG', 'Glass1,079.JPG', 'Glass1,189.JPG', 'Glass1,160.JPG', 'Glass1,207.JPG', 'Glass1,175.JPG', 'Glass1,199.JPG', 'Glass1,145.JPG', 'Glass1,143.JPG', 'Glass1,099.JPG', 'Glass1,141.JPG', 'Glass1,194.JPG', 'Glass1,152.JPG', 'Glass1,102.JPG', 'Glass1,122.JPG', 'Glass1,201.JPG', 'Glass1,133.JPG', 'Glass1,202.JPG', 'Glass1,104.JPG', 'Glass1,144.JPG', 'Glass1,120.JPG', 'Glass1,174.JPG', 'Glass1,171.JPG', 'Glass1,153.JPG', 'Glass1,184.JPG', 'Glass1,193.JPG', 'Glass1,159.JPG', 'Glass1,116.JPG', 'Glass1,115.JPG', 'Glass1,179.JPG', 'Glass1,198.JPG', 'Glass1,137.JPG', 'Glass1,113.JPG', 'Glass1,101.JPG', 'Glass1,151.JPG', 'Glass1,118.JPG', 'Glass1,205.JPG', 'Glass1,196.JPG', 'Glass1,105.JPG', 'Glass1,135.JPG', 'Glass1,111.JPG', 'Glass1,125.JPG', 'Glass1,200.JPG', 'Glass1,192.JPG', 'Glass1,124.JPG', 'Glass1,140.JPG', 'Glass1,156.JPG', 'Glass1,136.JPG', 'Glass1,181.JPG', 'Glass1,166.JPG', 'Glass1,180.JPG', 'Glass1,114.JPG', 'Glass1,138.JPG', 'Glass1,197.JPG', 'Glass1,157.JPG', 'Glass1,127.JPG', 'Glass1,187.JPG', 'Glass1,158.JPG', 'Glass1,178.JPG', 'Glass1,162.JPG', 'Glass1,130.JPG', 'Glass1,186.JPG', 'Glass1,206.JPG', 'Glass1,167.JPG', 'Glass1,154.JPG', 'Glass1,109.JPG', 'Glass1,139.JPG', 'Glass1,155.JPG', 'Glass1,112.JPG', 'Glass1,208.JPG', 'Glass1,204.JPG', 'Glass1,146.JPG', 'Glass1,129.JPG', 'Glass1,164.JPG', 'Glass1,173.JPG', 'Glass1,165.JPG', 'Glass1,132.JPG', 'Glass1,161.JPG', 'Glass1,176.JPG', 'Glass1,107.JPG', 'Glass1,148.JPG', 'Glass1,117.JPG', 'Glass1,106.JPG', 'Glass1,103.JPG', 'Glass1,183.JPG', 'Glass1,100.JPG', 'Glass1,188.JPG', 'Glass1,110.JPG', 'Glass1,131.JPG', 'Glass1,108.JPG', 'Glass1,147.JPG', 'Glass1,163.JPG', 'Glass1,177.JPG', 'Glass1,128.JPG', 'Glass1,142.JPG', 'Glass1,170.JPG', 'Glass1,191.JPG', 'Glass1,169.JPG', 'Glass1,150.JPG', 'Glass1,119.JPG', 'Glass1,149.JPG', 'Glass1,168.JPG', 'Glass1,209.JPG', 'Glass1,134.JPG', 'Glass1,126.JPG', 'Glass1,121.JPG', 'Glass1,172.JPG', 'Glass1,203.JPG', 'Glass1,195.JPG', 'Glass1,190.JPG', 'Glass1,185.JPG', 'Glass1,123.JPG', 'Glass1,182.JPG', 'Glass1,266.JPG', 'Glass1,305.JPG', 'Glass1,283.JPG', 'Glass1,223.JPG', 'Glass1,230.JPG', 'Glass1,296.JPG', 'Glass1,246.JPG', 'Glass1,289.JPG', 'Glass1,275.JPG', 'Glass1,249.JPG', 'Glass1,271.JPG', 'Glass1,282.JPG', 'Glass1,226.JPG', 'Glass1,301.JPG', 'Glass1,297.JPG', 'Glass1,258.JPG', 'Glass1,219.JPG', 'Glass1,213.JPG', 'Glass1,281.JPG', 'Glass1,292.JPG', 'Glass1,236.JPG', 'Glass1,254.JPG']\n",
            "folder_path = /content/drive/MyDrive/MIDS_Capstone/Datasets/rawimgs/HDPEM\n",
            "HDPEM\n",
            "files_in_folder = ['HDPEM1,025.JPG', 'HDPEM1,012.JPG', 'HDPEM101.jpg', 'HDPEM1,016.JPG', 'HDPEM1,027.JPG', 'HDPEM175.jpg', 'HDPEM105.jpg', 'HDPEM15.jpg', 'HDPEM204.jpg', 'HDPEM200.jpg', 'HDPEM12.jpg', 'HDPEM226.jpg', 'HDPEM139.jpg', 'HDPEM210.jpg', 'HDPEM179.jpg', 'HDPEM109.jpg', 'HDPEM225.jpg', 'HDPEM122.jpg', 'HDPEM177.jpg', 'HDPEM182.jpg', 'HDPEM205.jpg', 'HDPEM154.jpg', 'HDPEM161.jpg', 'HDPEM131.jpg', 'HDPEM181.jpg', 'HDPEM202.jpg', 'HDPEM149.jpg', 'HDPEM164.jpg', 'HDPEM133.jpg', 'HDPEM150.jpg', 'HDPEM209.jpg', 'HDPEM111.jpg', 'HDPEM155.jpg', 'HDPEM140.jpg', 'HDPEM214.jpg', 'HDPEM176.jpg', 'HDPEM153.jpg', 'HDPEM218.jpg', 'HDPEM108.jpg', 'HDPEM222.jpg', 'HDPEM228.jpg', 'HDPEM146.jpg', 'HDPEM119.jpg', 'HDPEM207.jpg', 'HDPEM184.jpg', 'HDPEM217.jpg', 'HDPEM159.jpg', 'HDPEM124.jpg', 'HDPEM106.jpg', 'HDPEM21.jpg', 'HDPEM224.jpg', 'HDPEM18.jpg', 'HDPEM188.jpg', 'HDPEM171.jpg', 'HDPEM136.jpg', 'HDPEM186.jpg', 'HDPEM14.jpg', 'HDPEM144.jpg', 'HDPEM172.jpg', 'HDPEM112.jpg', 'HDPEM137.jpg', 'HDPEM219.jpg', 'HDPEM115.jpg', 'HDPEM193.jpg', 'HDPEM183.jpg', 'HDPEM162.jpg', 'HDPEM104.jpg', 'HDPEM110.jpg', 'HDPEM187.jpg', 'HDPEM197.jpg', 'HDPEM160.jpg', 'HDPEM134.jpg', 'HDPEM201.jpg', 'HDPEM221.jpg', 'HDPEM173.jpg', 'HDPEM123.jpg', 'HDPEM135.jpg', 'HDPEM120.jpg', 'HDPEM220.jpg', 'HDPEM208.jpg', 'HDPEM212.jpg', 'HDPEM143.jpg', 'HDPEM152.jpg', 'HDPEM206.jpg', 'HDPEM169.jpg', 'HDPEM156.jpg', 'HDPEM223.jpg', 'HDPEM157.jpg', 'HDPEM103.jpg', 'HDPEM163.jpg', 'HDPEM114.jpg', 'HDPEM116.jpg', 'HDPEM203.jpg', 'HDPEM198.jpg', 'HDPEM17.jpg', 'HDPEM216.jpg', 'HDPEM215.jpg', 'HDPEM170.jpg', 'HDPEM230.jpg', 'HDPEM174.jpg', 'HDPEM148.jpg', 'HDPEM107.jpg', 'HDPEM229.jpg', 'HDPEM121.jpg', 'HDPEM178.jpg', 'HDPEM16.jpg', 'HDPEM180.jpg', 'HDPEM190.jpg', 'HDPEM11.jpg', 'HDPEM151.jpg', 'HDPEM195.jpg', 'HDPEM199.jpg', 'HDPEM23.jpg', 'HDPEM147.jpg', 'HDPEM191.jpg', 'HDPEM125.jpg', 'HDPEM196.jpg', 'HDPEM227.jpg', 'HDPEM19.jpg', 'HDPEM211.jpg', 'HDPEM192.jpg', 'HDPEM22.jpg', 'HDPEM166.jpg', 'HDPEM102.jpg', 'HDPEM127.jpg', 'HDPEM126.jpg', 'HDPEM2.jpg', 'HDPEM113.jpg', 'HDPEM128.jpg', 'HDPEM130.jpg', 'HDPEM117.jpg', 'HDPEM189.jpg', 'HDPEM138.jpg', 'HDPEM168.jpg', 'HDPEM231.jpg', 'HDPEM165.jpg', 'HDPEM158.jpg', 'HDPEM13.jpg', 'HDPEM145.jpg', 'HDPEM185.jpg', 'HDPEM141.jpg', 'HDPEM213.jpg', 'HDPEM132.jpg', 'HDPEM194.jpg', 'HDPEM167.jpg', 'HDPEM142.jpg', 'HDPEM129.jpg', 'HDPEM118.jpg', 'HDPEM20.jpg', 'HDPEM279.jpg', 'HDPEM32.jpg', 'HDPEM297.jpg', 'HDPEM263.jpg', 'HDPEM325.jpg', 'HDPEM303.jpg', 'HDPEM274.jpg', 'HDPEM255.jpg', 'HDPEM33.jpg', 'HDPEM254.jpg', 'HDPEM292.jpg', 'HDPEM264.jpg', 'HDPEM290.jpg', 'HDPEM305.jpg', 'HDPEM322.jpg', 'HDPEM251.jpg', 'HDPEM280.jpg', 'HDPEM244.jpg', 'HDPEM235.jpg', 'HDPEM236.jpg', 'HDPEM293.jpg', 'HDPEM316.jpg', 'HDPEM260.jpg', 'HDPEM232.jpg', 'HDPEM289.jpg', 'HDPEM314.jpg', 'HDPEM269.jpg', 'HDPEM288.jpg', 'HDPEM307.jpg', 'HDPEM329.jpg', 'HDPEM28.jpg', 'HDPEM285.jpg', 'HDPEM262.jpg', 'HDPEM234.jpg', 'HDPEM261.jpg', 'HDPEM25.jpg', 'HDPEM31.jpg', 'HDPEM298.jpg', 'HDPEM311.jpg', 'HDPEM331.jpg', 'HDPEM328.jpg', 'HDPEM309.jpg', 'HDPEM323.jpg', 'HDPEM286.jpg', 'HDPEM249.jpg', 'HDPEM304.jpg', 'HDPEM306.jpg', 'HDPEM326.jpg', 'HDPEM27.jpg', 'HDPEM312.jpg', 'HDPEM238.jpg', 'HDPEM240.jpg', 'HDPEM265.jpg', 'HDPEM275.jpg', 'HDPEM277.jpg', 'HDPEM276.jpg', 'HDPEM302.jpg', 'HDPEM287.jpg', 'HDPEM257.jpg', 'HDPEM266.jpg', 'HDPEM295.jpg', 'HDPEM272.jpg', 'HDPEM268.jpg', 'HDPEM300.jpg', 'HDPEM26.jpg', 'HDPEM270.jpg', 'HDPEM324.jpg', 'HDPEM233.jpg', 'HDPEM248.jpg', 'HDPEM242.jpg', 'HDPEM273.jpg', 'HDPEM3.jpg', 'HDPEM253.jpg', 'HDPEM243.jpg', 'HDPEM310.jpg', 'HDPEM271.jpg', 'HDPEM317.jpg', 'HDPEM281.jpg', 'HDPEM296.jpg', 'HDPEM30.jpg', 'HDPEM313.jpg', 'HDPEM267.jpg', 'HDPEM315.jpg', 'HDPEM320.jpg', 'HDPEM327.jpg', 'HDPEM278.jpg', 'HDPEM291.jpg', 'HDPEM299.jpg', 'HDPEM256.jpg', 'HDPEM259.jpg', 'HDPEM332.jpg', 'HDPEM318.jpg', 'HDPEM319.jpg', 'HDPEM241.jpg', 'HDPEM282.jpg', 'HDPEM283.jpg', 'HDPEM24.jpg', 'HDPEM246.jpg', 'HDPEM237.jpg', 'HDPEM321.jpg', 'HDPEM250.jpg', 'HDPEM308.jpg', 'HDPEM239.jpg', 'HDPEM330.jpg', 'HDPEM245.jpg', 'HDPEM258.jpg', 'HDPEM294.jpg', 'HDPEM284.jpg', 'HDPEM252.jpg', 'HDPEM247.jpg', 'HDPEM301.jpg', 'HDPEM29.jpg', 'HDPEM341.jpg', 'HDPEM390.jpg', 'HDPEM365.jpg', 'HDPEM378.jpg', 'HDPEM35.jpg', 'HDPEM353.jpg', 'HDPEM356.jpg', 'HDPEM361.jpg', 'HDPEM417.jpg', 'HDPEM385.jpg', 'HDPEM399.jpg', 'HDPEM421.jpg', 'HDPEM402.jpg', 'HDPEM364.jpg', 'HDPEM437.jpg', 'HDPEM351.jpg', 'HDPEM412.jpg', 'HDPEM407.jpg', 'HDPEM37.jpg', 'HDPEM42.jpg', 'HDPEM344.jpg', 'HDPEM43.jpg', 'HDPEM340.jpg', 'HDPEM36.jpg', 'HDPEM443.jpg', 'HDPEM432.jpg', 'HDPEM441.jpg', 'HDPEM408.jpg', 'HDPEM333.jpg', 'HDPEM425.jpg', 'HDPEM381.jpg', 'HDPEM347.jpg', 'HDPEM41.jpg', 'HDPEM397.jpg', 'HDPEM436.jpg', 'HDPEM44.jpg', 'HDPEM336.jpg', 'HDPEM377.jpg', 'HDPEM416.jpg', 'HDPEM394.jpg', 'HDPEM34.jpg', 'HDPEM393.jpg', 'HDPEM358.jpg', 'HDPEM431.jpg', 'HDPEM376.jpg', 'HDPEM355.jpg', 'HDPEM398.jpg', 'HDPEM442.jpg', 'HDPEM389.jpg', 'HDPEM403.jpg', 'HDPEM366.jpg', 'HDPEM374.jpg', 'HDPEM387.jpg', 'HDPEM388.jpg', 'HDPEM413.jpg', 'HDPEM348.jpg', 'HDPEM383.jpg', 'HDPEM379.jpg', 'HDPEM373.jpg', 'HDPEM342.jpg', 'HDPEM434.jpg', 'HDPEM392.jpg', 'HDPEM368.jpg', 'HDPEM418.jpg', 'HDPEM384.jpg', 'HDPEM427.jpg', 'HDPEM414.jpg', 'HDPEM38.jpg', 'HDPEM433.jpg', 'HDPEM395.jpg', 'HDPEM359.jpg', 'HDPEM406.jpg', 'HDPEM382.jpg', 'HDPEM39.jpg', 'HDPEM362.jpg', 'HDPEM409.jpg', 'HDPEM405.jpg', 'HDPEM423.jpg', 'HDPEM419.jpg', 'HDPEM440.jpg', 'HDPEM350.jpg', 'HDPEM339.jpg', 'HDPEM420.jpg', 'HDPEM345.jpg', 'HDPEM372.jpg', 'HDPEM435.jpg', 'HDPEM363.jpg', 'HDPEM370.jpg', 'HDPEM380.jpg', 'HDPEM424.jpg', 'HDPEM438.jpg', 'HDPEM360.jpg', 'HDPEM439.jpg', 'HDPEM396.jpg', 'HDPEM367.jpg', 'HDPEM411.jpg', 'HDPEM391.jpg', 'HDPEM337.jpg', 'HDPEM410.jpg', 'HDPEM334.jpg', 'HDPEM426.jpg', 'HDPEM430.jpg', 'HDPEM422.jpg', 'HDPEM346.jpg', 'HDPEM415.jpg', 'HDPEM429.jpg', 'HDPEM400.jpg', 'HDPEM369.jpg', 'HDPEM386.jpg', 'HDPEM375.jpg', 'HDPEM404.jpg', 'HDPEM40.jpg', 'HDPEM343.jpg', 'HDPEM338.jpg', 'HDPEM428.jpg', 'HDPEM349.jpg', 'HDPEM357.jpg', 'HDPEM4.jpg', 'HDPEM335.jpg', 'HDPEM371.jpg', 'HDPEM401.jpg', 'HDPEM352.jpg', 'HDPEM354.jpg', 'HDPEM481.jpg', 'HDPEM459.jpg', 'HDPEM544.jpg', 'HDPEM543.jpg', 'HDPEM555.JPG', 'HDPEM453.jpg', 'HDPEM454.jpg', 'HDPEM518.jpg', 'HDPEM533.jpg', 'HDPEM493.jpg', 'HDPEM505.jpg', 'HDPEM450.jpg', 'HDPEM510.jpg', 'HDPEM53.jpg', 'HDPEM508.jpg', 'HDPEM50.jpg', 'HDPEM546.jpg', 'HDPEM550.jpg', 'HDPEM496.jpg', 'HDPEM446.jpg', 'HDPEM486.jpg', 'HDPEM5.jpg', 'HDPEM52.jpg', 'HDPEM483.jpg', 'HDPEM461.jpg', 'HDPEM47.jpg', 'HDPEM469.jpg', 'HDPEM476.jpg', 'HDPEM444.jpg', 'HDPEM522.jpg', 'HDPEM480.jpg', 'HDPEM536.jpg', 'HDPEM55.jpg', 'HDPEM468.jpg', 'HDPEM530.jpg', 'HDPEM474.jpg', 'HDPEM489.jpg', 'HDPEM531.jpg', 'HDPEM520.jpg', 'HDPEM482.jpg', 'HDPEM524.jpg', 'HDPEM455.jpg', 'HDPEM511.jpg', 'HDPEM549.jpg', 'HDPEM51.jpg', 'HDPEM552.JPG', 'HDPEM484.jpg', 'HDPEM554.JPG', 'HDPEM458.jpg', 'HDPEM448.jpg', 'HDPEM472.jpg', 'HDPEM541.jpg', 'HDPEM466.jpg', 'HDPEM556.JPG', 'HDPEM445.jpg', 'HDPEM497.jpg', 'HDPEM545.jpg', 'HDPEM528.jpg', 'HDPEM523.jpg', 'HDPEM502.jpg', 'HDPEM501.jpg', 'HDPEM537.jpg', 'HDPEM521.jpg', 'HDPEM504.jpg', 'HDPEM514.jpg', 'HDPEM452.jpg', 'HDPEM462.jpg', 'HDPEM516.jpg', 'HDPEM527.jpg', 'HDPEM539.jpg', 'HDPEM479.jpg', 'HDPEM500.jpg', 'HDPEM487.jpg', 'HDPEM517.jpg', 'HDPEM457.jpg', 'HDPEM548.jpg', 'HDPEM470.jpg', 'HDPEM478.jpg', 'HDPEM46.jpg', 'HDPEM465.jpg', 'HDPEM456.jpg', 'HDPEM512.jpg', 'HDPEM542.jpg', 'HDPEM49.jpg', 'HDPEM495.jpg', 'HDPEM494.jpg', 'HDPEM451.jpg', 'HDPEM485.jpg', 'HDPEM525.jpg', 'HDPEM490.jpg', 'HDPEM463.jpg', 'HDPEM503.jpg', 'HDPEM519.jpg', 'HDPEM540.jpg', 'HDPEM475.jpg', 'HDPEM449.jpg', 'HDPEM515.jpg', 'HDPEM557.JPG', 'HDPEM473.jpg', 'HDPEM498.jpg', 'HDPEM513.jpg', 'HDPEM488.jpg', 'HDPEM507.jpg', 'HDPEM499.jpg', 'HDPEM509.jpg', 'HDPEM526.jpg', 'HDPEM551.JPG', 'HDPEM547.jpg', 'HDPEM532.jpg', 'HDPEM467.jpg', 'HDPEM447.jpg', 'HDPEM534.jpg', 'HDPEM529.jpg', 'HDPEM538.jpg', 'HDPEM491.jpg', 'HDPEM492.jpg', 'HDPEM553.JPG', 'HDPEM477.jpg', 'HDPEM54.jpg', 'HDPEM48.jpg', 'HDPEM464.jpg', 'HDPEM535.jpg', 'HDPEM471.jpg', 'HDPEM506.jpg', 'HDPEM460.jpg', 'HDPEM45.jpg', 'HDPEM580.JPG', 'HDPEM568.JPG', 'HDPEM572.JPG', 'HDPEM642.JPG', 'HDPEM621.JPG', 'HDPEM629.JPG', 'HDPEM57.jpg', 'HDPEM664.JPG', 'HDPEM559.JPG', 'HDPEM631.JPG', 'HDPEM648.JPG', 'HDPEM653.JPG', 'HDPEM616.JPG', 'HDPEM636.JPG', 'HDPEM665.JPG', 'HDPEM64.jpg', 'HDPEM63.jpg', 'HDPEM651.JPG', 'HDPEM608.JPG', 'HDPEM565.JPG', 'HDPEM610.JPG', 'HDPEM624.JPG', 'HDPEM589.JPG', 'HDPEM560.JPG', 'HDPEM660.JPG', 'HDPEM66.jpg', 'HDPEM650.JPG', 'HDPEM596.JPG', 'HDPEM613.JPG', 'HDPEM573.JPG', 'HDPEM566.JPG', 'HDPEM652.JPG', 'HDPEM587.JPG', 'HDPEM558.JPG', 'HDPEM634.JPG', 'HDPEM622.JPG', 'HDPEM578.JPG', 'HDPEM591.JPG', 'HDPEM623.JPG', 'HDPEM577.JPG', 'HDPEM638.JPG', 'HDPEM633.JPG', 'HDPEM581.JPG', 'HDPEM659.JPG', 'HDPEM562.JPG', 'HDPEM611.JPG', 'HDPEM643.JPG', 'HDPEM567.JPG', 'HDPEM65.jpg', 'HDPEM620.JPG', 'HDPEM663.JPG', 'HDPEM570.JPG', 'HDPEM658.JPG', 'HDPEM598.JPG', 'HDPEM625.JPG', 'HDPEM632.JPG', 'HDPEM607.JPG', 'HDPEM6.jpg', 'HDPEM630.JPG', 'HDPEM655.JPG', 'HDPEM619.JPG', 'HDPEM637.JPG', 'HDPEM604.JPG', 'HDPEM646.JPG', 'HDPEM614.JPG', 'HDPEM606.JPG', 'HDPEM656.JPG', 'HDPEM654.JPG', 'HDPEM645.JPG', 'HDPEM599.JPG', 'HDPEM571.JPG', 'HDPEM600.JPG', 'HDPEM627.JPG', 'HDPEM662.JPG', 'HDPEM626.JPG', 'HDPEM575.JPG', 'HDPEM601.JPG', 'HDPEM609.JPG', 'HDPEM574.JPG', 'HDPEM628.JPG', 'HDPEM647.JPG', 'HDPEM564.JPG', 'HDPEM582.JPG', 'HDPEM612.JPG', 'HDPEM641.JPG', 'HDPEM644.JPG', 'HDPEM588.JPG', 'HDPEM60.jpg', 'HDPEM58.jpg', 'HDPEM615.JPG', 'HDPEM590.JPG', 'HDPEM62.jpg', 'HDPEM597.JPG', 'HDPEM592.JPG', 'HDPEM594.JPG', 'HDPEM61.jpg', 'HDPEM640.JPG', 'HDPEM635.JPG', 'HDPEM661.JPG', 'HDPEM583.JPG', 'HDPEM639.JPG', 'HDPEM617.JPG', 'HDPEM576.JPG', 'HDPEM584.JPG', 'HDPEM595.JPG', 'HDPEM579.JPG', 'HDPEM59.jpg', 'HDPEM586.JPG', 'HDPEM569.JPG', 'HDPEM657.JPG', 'HDPEM605.JPG', 'HDPEM563.JPG', 'HDPEM56.jpg', 'HDPEM603.JPG', 'HDPEM561.JPG', 'HDPEM593.JPG', 'HDPEM602.JPG', 'HDPEM618.JPG', 'HDPEM649.JPG', 'HDPEM585.JPG', 'HDPEM706.JPG', 'HDPEM689.JPG', 'HDPEM707.JPG', 'HDPEM69.jpg', 'HDPEM73.jpg', 'HDPEM705.JPG', 'HDPEM672.JPG', 'HDPEM682.JPG', 'HDPEM719.JPG', 'HDPEM715.JPG', 'HDPEM690.JPG', 'HDPEM725.JPG', 'HDPEM695.JPG', 'HDPEM679.JPG', 'HDPEM751.JPG', 'HDPEM685.JPG', 'HDPEM736.JPG', 'HDPEM716.JPG', 'HDPEM71.jpg', 'HDPEM711.JPG', 'HDPEM696.JPG', 'HDPEM714.JPG', 'HDPEM703.JPG', 'HDPEM699.JPG', 'HDPEM713.JPG', 'HDPEM686.JPG', 'HDPEM752.JPG', 'HDPEM697.JPG', 'HDPEM671.JPG', 'HDPEM72.jpg', 'HDPEM687.JPG', 'HDPEM702.JPG', 'HDPEM677.JPG', 'HDPEM684.JPG', 'HDPEM720.JPG', 'HDPEM746.JPG', 'HDPEM676.JPG', 'HDPEM680.JPG', 'HDPEM709.JPG', 'HDPEM734.JPG', 'HDPEM673.JPG', 'HDPEM721.JPG', 'HDPEM745.JPG', 'HDPEM744.JPG', 'HDPEM723.JPG', 'HDPEM743.JPG', 'HDPEM718.JPG', 'HDPEM678.JPG', 'HDPEM727.JPG', 'HDPEM7.jpg', 'HDPEM728.JPG', 'HDPEM669.JPG', 'HDPEM755.JPG', 'HDPEM667.JPG', 'HDPEM683.JPG', 'HDPEM688.JPG', 'HDPEM750.JPG', 'HDPEM668.JPG', 'HDPEM747.JPG', 'HDPEM675.JPG', 'HDPEM704.JPG', 'HDPEM700.JPG', 'HDPEM701.JPG', 'HDPEM698.JPG', 'HDPEM68.jpg', 'HDPEM735.JPG', 'HDPEM737.JPG', 'HDPEM753.JPG', 'HDPEM756.JPG', 'HDPEM67.jpg', 'HDPEM729.JPG', 'HDPEM742.JPG', 'HDPEM681.JPG', 'HDPEM748.JPG', 'HDPEM74.jpg', 'HDPEM731.JPG', 'HDPEM75.jpg', 'HDPEM717.JPG', 'HDPEM722.JPG', 'HDPEM732.JPG', 'HDPEM670.JPG', 'HDPEM666.JPG', 'HDPEM724.JPG', 'HDPEM712.JPG', 'HDPEM754.JPG', 'HDPEM691.JPG', 'HDPEM726.JPG', 'HDPEM741.JPG', 'HDPEM749.JPG', 'HDPEM70.jpg', 'HDPEM738.JPG', 'HDPEM692.JPG', 'HDPEM708.JPG', 'HDPEM739.JPG', 'HDPEM693.JPG', 'HDPEM710.JPG', 'HDPEM730.JPG', 'HDPEM740.JPG', 'HDPEM694.JPG', 'HDPEM674.JPG', 'HDPEM733.JPG', 'HDPEM774.JPG', 'HDPEM780.JPG', 'HDPEM766.JPG', 'HDPEM788.JPG', 'HDPEM791.JPG', 'HDPEM836.JPG', 'HDPEM810.JPG', 'HDPEM812.JPG', 'HDPEM823.JPG', 'HDPEM805.JPG', 'HDPEM792.JPG', 'HDPEM760.JPG', 'HDPEM828.JPG', 'HDPEM830.JPG', 'HDPEM841.JPG', 'HDPEM818.JPG', 'HDPEM843.JPG', 'HDPEM825.JPG', 'HDPEM76.jpg', 'HDPEM790.JPG', 'HDPEM78.jpg', 'HDPEM842.JPG', 'HDPEM789.JPG', 'HDPEM829.JPG', 'HDPEM826.JPG', 'HDPEM808.JPG', 'HDPEM764.JPG', 'HDPEM804.JPG', 'HDPEM8.jpg', 'HDPEM793.JPG', 'HDPEM838.JPG', 'HDPEM831.JPG', 'HDPEM833.JPG', 'HDPEM768.JPG', 'HDPEM767.JPG', 'HDPEM834.JPG', 'HDPEM820.JPG', 'HDPEM797.JPG', 'HDPEM758.JPG', 'HDPEM784.JPG', 'HDPEM763.JPG', 'HDPEM809.JPG', 'HDPEM800.JPG', 'HDPEM83.jpg', 'HDPEM803.JPG', 'HDPEM796.JPG', 'HDPEM785.JPG', 'HDPEM795.JPG', 'HDPEM835.JPG', 'HDPEM817.JPG', 'HDPEM786.JPG', 'HDPEM814.JPG', 'HDPEM837.JPG', 'HDPEM827.JPG', 'HDPEM80.jpg', 'HDPEM816.JPG', 'HDPEM832.JPG', 'HDPEM819.JPG', 'HDPEM769.JPG', 'HDPEM782.JPG', 'HDPEM765.JPG', 'HDPEM759.JPG', 'HDPEM822.JPG', 'HDPEM802.JPG', 'HDPEM806.JPG', 'HDPEM821.JPG', 'HDPEM775.JPG', 'HDPEM79.jpg', 'HDPEM81.jpg', 'HDPEM794.JPG', 'HDPEM781.JPG', 'HDPEM771.JPG', 'HDPEM824.JPG', 'HDPEM77.jpg', 'HDPEM777.JPG', 'HDPEM770.JPG', 'HDPEM839.JPG', 'HDPEM811.JPG', 'HDPEM779.JPG', 'HDPEM84.jpg', 'HDPEM798.JPG', 'HDPEM776.JPG', 'HDPEM807.JPG', 'HDPEM813.JPG', 'HDPEM801.JPG', 'HDPEM787.JPG', 'HDPEM757.JPG', 'HDPEM799.JPG', 'HDPEM783.JPG', 'HDPEM772.JPG', 'HDPEM773.JPG', 'HDPEM82.jpg', 'HDPEM761.JPG', 'HDPEM840.JPG', 'HDPEM762.JPG', 'HDPEM815.JPG', 'HDPEM844.JPG', 'HDPEM778.JPG', 'HDPEM862.JPG', 'HDPEM904.JPG', 'HDPEM857.JPG', 'HDPEM848.JPG', 'HDPEM931.JPG', 'HDPEM863.JPG', 'HDPEM906.JPG', 'HDPEM916.JPG', 'HDPEM864.JPG', 'HDPEM880.JPG', 'HDPEM878.JPG', 'HDPEM938.JPG', 'HDPEM88.jpg', 'HDPEM95.jpg', 'HDPEM919.JPG', 'HDPEM918.JPG', 'HDPEM934.JPG', 'HDPEM945.JPG', 'HDPEM926.JPG', 'HDPEM888.JPG', 'HDPEM924.JPG', 'HDPEM914.JPG', 'HDPEM948.JPG', 'HDPEM902.JPG', 'HDPEM939.JPG', 'HDPEM871.JPG', 'HDPEM875.JPG', 'HDPEM942.JPG', 'HDPEM922.JPG', 'HDPEM893.JPG', 'HDPEM935.JPG', 'HDPEM907.JPG', 'HDPEM898.JPG', 'HDPEM876.JPG', 'HDPEM9.jpg', 'HDPEM865.JPG', 'HDPEM855.JPG', 'HDPEM851.JPG', 'HDPEM882.JPG', 'HDPEM846.JPG', 'HDPEM890.JPG', 'HDPEM91.jpg', 'HDPEM892.JPG', 'HDPEM943.JPG', 'HDPEM937.JPG', 'HDPEM872.JPG', 'HDPEM874.JPG', 'HDPEM913.JPG', 'HDPEM877.JPG', 'HDPEM910.JPG', 'HDPEM879.JPG', 'HDPEM867.JPG', 'HDPEM860.JPG', 'HDPEM856.JPG', 'HDPEM930.JPG', 'HDPEM941.JPG', 'HDPEM859.JPG', 'HDPEM912.JPG', 'HDPEM908.JPG', 'HDPEM920.JPG', 'HDPEM899.JPG', 'HDPEM92.jpg', 'HDPEM858.JPG', 'HDPEM850.JPG', 'HDPEM89.jpg', 'HDPEM861.JPG', 'HDPEM925.JPG', 'HDPEM868.JPG', 'HDPEM884.JPG', 'HDPEM915.JPG', 'HDPEM87.jpg', 'HDPEM940.JPG', 'HDPEM873.JPG', 'HDPEM950.JPG', 'HDPEM921.JPG', 'HDPEM869.JPG', 'HDPEM881.JPG', 'HDPEM891.JPG', 'HDPEM923.JPG', 'HDPEM944.JPG', 'HDPEM86.jpg', 'HDPEM929.JPG', 'HDPEM905.JPG', 'HDPEM85.jpg', 'HDPEM889.JPG', 'HDPEM933.JPG', 'HDPEM936.JPG', 'HDPEM854.JPG', 'HDPEM896.JPG', 'HDPEM853.JPG', 'HDPEM845.JPG', 'HDPEM909.JPG', 'HDPEM927.JPG', 'HDPEM849.JPG', 'HDPEM887.JPG', 'HDPEM897.JPG', 'HDPEM946.JPG', 'HDPEM911.JPG', 'HDPEM932.JPG', 'HDPEM951.JPG', 'HDPEM885.JPG', 'HDPEM847.JPG', 'HDPEM917.JPG', 'HDPEM901.JPG', 'HDPEM866.JPG', 'HDPEM894.JPG', 'HDPEM903.JPG', 'HDPEM947.JPG', 'HDPEM90.jpg', 'HDPEM93.jpg', 'HDPEM928.JPG', 'HDPEM870.JPG', 'HDPEM895.JPG', 'HDPEM852.JPG', 'HDPEM94.jpg', 'HDPEM900.JPG', 'HDPEM883.JPG', 'HDPEM949.JPG', 'HDPEM886.JPG', 'HDPEM974.JPG', 'HDPEM993.JPG', 'HDPEM984.JPG', 'HDPEM965.JPG', 'HDPEM963.JPG', 'HDPEM985.JPG', 'HDPEM962.JPG', 'HDPEM995.JPG', 'HDPEM964.JPG', 'HDPEM981.JPG', 'HDPEM987.JPG', 'HDPEM953.JPG', 'HDPEM990.JPG', 'HDPEM99.jpg', 'HDPEM994.JPG', 'HDPEM956.JPG', 'HDPEM970.JPG', 'HDPEM96.jpg', 'HDPEM966.JPG', 'HDPEM980.JPG', 'HDPEM989.JPG', 'HDPEM960.JPG', 'HDPEM992.JPG', 'HDPEM973.JPG', 'HDPEM972.JPG', 'HDPEM979.JPG', 'HDPEM991.JPG', 'HDPEM982.JPG', 'HDPEM988.JPG', 'HDPEM969.JPG', 'HDPEM955.JPG', 'HDPEM986.JPG', 'HDPEM959.JPG', 'HDPEM952.JPG', 'HDPEM997.JPG', 'HDPEM996.JPG', 'HDPEM961.JPG', 'HDPEM957.JPG', 'HDPEM975.JPG', 'HDPEM999.JPG', 'HDPEM97.jpg', 'HDPEM958.JPG', 'HDPEM968.JPG', 'HDPEM971.JPG', 'HDPEM978.JPG', 'HDPEM98.jpg', 'HDPEM967.JPG', 'HDPEM983.JPG', 'HDPEM977.JPG', 'HDPEM976.JPG', 'HDPEM998.JPG', 'HDPEM954.JPG', 'HDPEM1.jpg', 'HDPEM1,022.JPG', 'HDPEM1,026.JPG', 'HDPEM1,002.JPG', 'HDPEM1,024.JPG', 'HDPEM1,006.JPG', 'HDPEM1,003.JPG', 'HDPEM1,000.JPG', 'HDPEM1,005.JPG', 'HDPEM1,014.JPG', 'HDPEM1,001.JPG', 'HDPEM1,018.JPG', 'HDPEM1,015.JPG', 'HDPEM1,019.JPG', 'HDPEM1,008.JPG', 'HDPEM10.jpg', 'HDPEM1,004.JPG', 'HDPEM1,023.JPG', 'HDPEM1,020.JPG', 'HDPEM1,021.JPG', 'HDPEM1,009.JPG', 'HDPEM1,028.JPG', 'HDPEM1,007.JPG', 'HDPEM1,010.JPG', 'HDPEM1,017.JPG', 'HDPEM1,013.JPG', 'HDPEM100.jpg', 'HDPEM1,011.JPG']\n",
            "folder_path = /content/drive/MyDrive/MIDS_Capstone/Datasets/rawimgs/AluCan\n",
            "AluCan\n",
            "files_in_folder = ['AluCan1,020.jpg', 'AluCan1,018.jpg', 'AluCan1,007.jpg', 'AluCan1,048.jpg', 'AluCan1,031.jpg', 'AluCan108.jpg', 'AluCan1,009.jpg', 'AluCan1,003.jpg', 'AluCan112.jpg', 'AluCan1,056.jpg', 'AluCan115.jpg', 'AluCan1,029.jpg', 'AluCan1,025.jpg', 'AluCan1,046.jpg', 'AluCan1,037.jpg', 'AluCan1,040.jpg', 'AluCan1,010.jpg', 'AluCan1,054.jpg', 'AluCan1,033.jpg', 'AluCan1,052.jpg', 'AluCan14.jpg', 'AluCan12.jpg', 'AluCan120.jpg', 'AluCan136.jpg', 'AluCan148.jpg', 'AluCan145.jpg', 'AluCan146.jpg', 'AluCan140.jpg', 'AluCan161.jpg', 'AluCan147.jpg', 'AluCan143.jpg', 'AluCan126.jpg', 'AluCan119.jpg', 'AluCan13.jpg', 'AluCan142.jpg', 'AluCan160.jpg', 'AluCan117.jpg', 'AluCan153.jpg', 'AluCan131.jpg', 'AluCan121.jpg', 'AluCan163.jpg', 'AluCan127.jpg', 'AluCan155.jpg', 'AluCan157.jpg', 'AluCan158.jpg', 'AluCan138.jpg', 'AluCan156.jpg', 'AluCan128.jpg', 'AluCan132.jpg', 'AluCan154.jpg', 'AluCan124.jpg', 'AluCan122.jpg', 'AluCan139.jpg', 'AluCan162.jpg', 'AluCan159.jpg', 'AluCan123.jpg', 'AluCan151.jpg', 'AluCan137.jpg', 'AluCan134.jpg', 'AluCan16.jpg', 'AluCan116.jpg', 'AluCan152.jpg', 'AluCan133.jpg', 'AluCan125.jpg', 'AluCan15.jpg', 'AluCan118.jpg', 'AluCan129.jpg', 'AluCan130.jpg', 'AluCan135.jpg', 'AluCan150.jpg', 'AluCan141.jpg', 'AluCan149.jpg', 'AluCan144.jpg', 'AluCan230.jpg', 'AluCan19.jpg', 'AluCan196.jpg', 'AluCan248.jpg', 'AluCan172.jpg', 'AluCan250.jpg', 'AluCan204.jpg', 'AluCan224.jpg', 'AluCan164.jpg', 'AluCan218.jpg', 'AluCan238.jpg', 'AluCan226.jpg', 'AluCan247.jpg', 'AluCan199.jpg', 'AluCan178.jpg', 'AluCan171.jpg', 'AluCan18.jpg', 'AluCan222.jpg', 'AluCan174.jpg', 'AluCan242.jpg', 'AluCan243.jpg', 'AluCan179.jpg', 'AluCan219.jpg', 'AluCan205.jpg', 'AluCan237.jpg', 'AluCan215.jpg', 'AluCan193.jpg', 'AluCan195.jpg', 'AluCan181.jpg', 'AluCan21.jpg', 'AluCan209.jpg', 'AluCan197.jpg', 'AluCan227.jpg', 'AluCan175.jpg', 'AluCan232.jpg', 'AluCan208.jpg', 'AluCan214.jpg', 'AluCan244.jpg', 'AluCan206.jpg', 'AluCan207.jpg', 'AluCan216.jpg', 'AluCan233.jpg', 'AluCan17.jpg', 'AluCan170.jpg', 'AluCan165.jpg', 'AluCan20.jpg', 'AluCan194.jpg', 'AluCan212.jpg', 'AluCan231.jpg', 'AluCan189.jpg', 'AluCan234.jpg', 'AluCan2.jpg', 'AluCan188.jpg', 'AluCan229.jpg', 'AluCan203.jpg', 'AluCan213.jpg', 'AluCan187.jpg', 'AluCan190.jpg', 'AluCan239.jpg', 'AluCan246.jpg', 'AluCan251.jpg', 'AluCan228.jpg', 'AluCan22.jpg', 'AluCan173.jpg', 'AluCan223.jpg', 'AluCan25.jpg', 'AluCan176.jpg', 'AluCan202.jpg', 'AluCan217.jpg', 'AluCan211.jpg', 'AluCan168.jpg', 'AluCan249.jpg', 'AluCan169.jpg', 'AluCan220.jpg', 'AluCan235.jpg', 'AluCan240.jpg', 'AluCan245.jpg', 'AluCan192.jpg', 'AluCan23.jpg', 'AluCan177.jpg', 'AluCan167.jpg', 'AluCan198.jpg', 'AluCan210.jpg', 'AluCan221.jpg', 'AluCan241.jpg', 'AluCan225.jpg', 'AluCan180.jpg', 'AluCan191.jpg', 'AluCan182.jpg', 'AluCan183.jpg', 'AluCan24.jpg', 'AluCan166.jpg', 'AluCan236.jpg', 'AluCan200.jpg', 'AluCan184.jpg', 'AluCan186.jpg', 'AluCan185.jpg', 'AluCan201.jpg', 'AluCan367.jpg', 'AluCan28.jpg', 'AluCan276.jpg', 'AluCan274.jpg', 'AluCan310.jpg', 'AluCan317.jpg', 'AluCan295.jpg', 'AluCan280.jpg', 'AluCan32.jpg', 'AluCan311.jpg', 'AluCan330.jpg', 'AluCan273.jpg', 'AluCan308.jpg', 'AluCan320.jpg', 'AluCan325.jpg', 'AluCan284.jpg', 'AluCan344.jpg', 'AluCan256.jpg', 'AluCan294.jpg', 'AluCan354.jpg', 'AluCan316.jpg', 'AluCan27.jpg', 'AluCan33.jpg', 'AluCan279.jpg', 'AluCan350.jpg', 'AluCan346.jpg', 'AluCan331.jpg', 'AluCan313.jpg', 'AluCan366.jpg', 'AluCan318.jpg', 'AluCan299.jpg', 'AluCan355.jpg', 'AluCan260.jpg', 'AluCan291.jpg', 'AluCan30.jpg', 'AluCan306.jpg', 'AluCan342.jpg', 'AluCan352.jpg', 'AluCan323.jpg', 'AluCan263.jpg', 'AluCan351.jpg', 'AluCan332.jpg', 'AluCan297.jpg', 'AluCan307.jpg', 'AluCan257.jpg', 'AluCan298.jpg', 'AluCan300.jpg', 'AluCan301.jpg', 'AluCan321.jpg', 'AluCan315.jpg', 'AluCan368.jpg', 'AluCan365.jpg', 'AluCan275.jpg', 'AluCan322.jpg', 'AluCan272.jpg', 'AluCan26.jpg', 'AluCan348.jpg', 'AluCan277.jpg', 'AluCan309.jpg', 'AluCan261.jpg', 'AluCan334.jpg', 'AluCan31.jpg', 'AluCan36.jpg', 'AluCan253.jpg', 'AluCan264.jpg', 'AluCan358.jpg', 'AluCan283.jpg', 'AluCan286.jpg', 'AluCan304.jpg', 'AluCan337.jpg', 'AluCan305.jpg', 'AluCan326.jpg', 'AluCan254.jpg', 'AluCan353.jpg', 'AluCan356.jpg', 'AluCan270.jpg', 'AluCan255.jpg', 'AluCan285.jpg', 'AluCan362.jpg', 'AluCan271.jpg', 'AluCan324.jpg', 'AluCan360.jpg', 'AluCan292.jpg', 'AluCan314.jpg', 'AluCan357.jpg', 'AluCan361.jpg', 'AluCan3.jpg', 'AluCan364.jpg', 'AluCan347.jpg', 'AluCan359.jpg', 'AluCan327.jpg', 'AluCan319.jpg', 'AluCan336.jpg', 'AluCan339.jpg', 'AluCan281.jpg', 'AluCan293.jpg', 'AluCan343.jpg', 'AluCan258.jpg', 'AluCan262.jpg', 'AluCan282.jpg', 'AluCan328.jpg', 'AluCan290.jpg', 'AluCan265.jpg', 'AluCan289.jpg', 'AluCan269.jpg', 'AluCan266.jpg', 'AluCan287.jpg', 'AluCan333.jpg', 'AluCan259.jpg', 'AluCan329.jpg', 'AluCan345.jpg', 'AluCan338.jpg', 'AluCan35.jpg', 'AluCan288.jpg', 'AluCan29.jpg', 'AluCan349.jpg', 'AluCan335.jpg', 'AluCan341.jpg', 'AluCan312.jpg', 'AluCan303.jpg', 'AluCan268.jpg', 'AluCan363.jpg', 'AluCan340.jpg', 'AluCan34.jpg', 'AluCan296.jpg', 'AluCan302.jpg', 'AluCan278.jpg', 'AluCan267.jpg', 'AluCan252.jpg', 'AluCan431.jpg', 'AluCan410.jpg', 'AluCan39.jpg', 'AluCan424.jpg', 'AluCan370.jpg', 'AluCan430.jpg', 'AluCan427.jpg', 'AluCan387.jpg', 'AluCan426.jpg', 'AluCan411.jpg', 'AluCan441.jpg', 'AluCan376.jpg', 'AluCan390.jpg', 'AluCan389.jpg', 'AluCan438.jpg', 'AluCan394.jpg', 'AluCan440.jpg', 'AluCan409.jpg', 'AluCan437.jpg', 'AluCan423.jpg', 'AluCan436.jpg', 'AluCan43.jpg', 'AluCan386.jpg', 'AluCan454.jpg', 'AluCan41.jpg', 'AluCan453.jpg', 'AluCan38.jpg', 'AluCan399.jpg', 'AluCan375.jpg', 'AluCan425.jpg', 'AluCan391.jpg', 'AluCan385.jpg', 'AluCan400.jpg', 'AluCan418.jpg', 'AluCan448.jpg', 'AluCan421.jpg', 'AluCan406.jpg', 'AluCan371.jpg', 'AluCan380.jpg', 'AluCan419.jpg', 'AluCan435.jpg', 'AluCan408.jpg', 'AluCan379.jpg', 'AluCan388.jpg', 'AluCan449.jpg', 'AluCan432.jpg', 'AluCan397.jpg', 'AluCan37.jpg', 'AluCan433.jpg', 'AluCan456.jpg', 'AluCan447.jpg', 'AluCan369.jpg', 'AluCan414.jpg', 'AluCan439.jpg', 'AluCan45.jpg', 'AluCan42.jpg', 'AluCan429.jpg', 'AluCan420.jpg', 'AluCan415.jpg', 'AluCan442.jpg', 'AluCan446.jpg', 'AluCan413.jpg', 'AluCan40.jpg', 'AluCan396.jpg', 'AluCan455.jpg', 'AluCan4.jpg', 'AluCan384.jpg', 'AluCan398.jpg', 'AluCan381.jpg', 'AluCan422.jpg', 'AluCan372.jpg', 'AluCan373.jpg', 'AluCan393.jpg', 'AluCan402.jpg', 'AluCan383.jpg', 'AluCan445.jpg', 'AluCan428.jpg', 'AluCan444.jpg', 'AluCan405.jpg', 'AluCan443.jpg', 'AluCan434.jpg', 'AluCan401.jpg', 'AluCan450.jpg', 'AluCan416.jpg', 'AluCan403.jpg', 'AluCan452.jpg', 'AluCan404.jpg', 'AluCan44.jpg', 'AluCan382.jpg', 'AluCan377.jpg', 'AluCan417.jpg', 'AluCan407.jpg', 'AluCan374.jpg', 'AluCan451.jpg', 'AluCan395.jpg', 'AluCan412.jpg', 'AluCan392.jpg', 'AluCan378.jpg', 'AluCan479.jpg', 'AluCan518.jpg', 'AluCan509.jpg', 'AluCan526.jpg', 'AluCan507.jpg', 'AluCan480.jpg', 'AluCan527.jpg', 'AluCan505.jpg', 'AluCan462.jpg', 'AluCan517.jpg', 'AluCan51.jpg', 'AluCan525.jpg', 'AluCan497.jpg', 'AluCan501.jpg', 'AluCan48.jpg', 'AluCan530.jpg', 'AluCan47.jpg', 'AluCan508.jpg', 'AluCan554.jpg', 'AluCan546.jpg', 'AluCan471.jpg', 'AluCan491.jpg', 'AluCan519.jpg', 'AluCan553.jpg', 'AluCan537.jpg', 'AluCan470.jpg', 'AluCan552.jpg', 'AluCan468.jpg', 'AluCan53.jpg', 'AluCan529.jpg', 'AluCan544.jpg', 'AluCan504.jpg', 'AluCan514.jpg', 'AluCan548.jpg', 'AluCan459.jpg', 'AluCan520.jpg', 'AluCan531.jpg', 'AluCan549.jpg', 'AluCan472.jpg', 'AluCan556.jpg', 'AluCan457.jpg', 'AluCan498.jpg', 'AluCan533.jpg', 'AluCan460.jpg', 'AluCan538.jpg', 'AluCan49.jpg', 'AluCan465.jpg', 'AluCan512.jpg', 'AluCan5.jpg', 'AluCan496.jpg', 'AluCan551.jpg', 'AluCan540.jpg', 'AluCan500.jpg', 'AluCan485.jpg', 'AluCan550.jpg', 'AluCan50.jpg', 'AluCan545.jpg', 'AluCan543.jpg', 'AluCan473.jpg', 'AluCan494.jpg', 'AluCan463.jpg', 'AluCan466.jpg', 'AluCan493.jpg', 'AluCan511.jpg', 'AluCan510.jpg', 'AluCan506.jpg', 'AluCan475.jpg', 'AluCan528.jpg', 'AluCan476.jpg', 'AluCan488.jpg', 'AluCan467.jpg', 'AluCan539.jpg', 'AluCan536.jpg', 'AluCan499.jpg', 'AluCan521.jpg', 'AluCan534.jpg', 'AluCan478.jpg', 'AluCan474.jpg', 'AluCan516.jpg', 'AluCan458.jpg', 'AluCan464.jpg', 'AluCan555.jpg', 'AluCan535.jpg', 'AluCan483.jpg', 'AluCan484.jpg', 'AluCan477.jpg', 'AluCan481.jpg', 'AluCan524.jpg', 'AluCan469.jpg', 'AluCan541.jpg', 'AluCan46.jpg', 'AluCan486.jpg', 'AluCan492.jpg', 'AluCan502.jpg', 'AluCan55.jpg', 'AluCan515.jpg', 'AluCan461.jpg', 'AluCan489.jpg', 'AluCan513.jpg', 'AluCan547.jpg', 'AluCan523.jpg', 'AluCan503.jpg', 'AluCan490.jpg', 'AluCan542.jpg', 'AluCan487.jpg', 'AluCan522.jpg', 'AluCan495.jpg', 'AluCan482.jpg', 'AluCan52.jpg', 'AluCan54.jpg', 'AluCan532.jpg', 'AluCan645.jpg', 'AluCan665.jpg', 'AluCan642.jpg', 'AluCan623.jpg', 'AluCan639.jpg', 'AluCan640.jpg', 'AluCan561.jpg', 'AluCan584.jpg', 'AluCan608.jpg', 'AluCan596.jpg', 'AluCan581.jpg', 'AluCan614.jpg', 'AluCan603.jpg', 'AluCan660.jpg', 'AluCan643.jpg', 'AluCan597.jpg', 'AluCan593.jpg', 'AluCan571.jpg', 'AluCan661.jpg', 'AluCan588.jpg', 'AluCan633.jpg', 'AluCan60.jpg', 'AluCan635.jpg', 'AluCan605.jpg', 'AluCan652.jpg', 'AluCan616.jpg', 'AluCan626.jpg', 'AluCan606.jpg', 'AluCan657.jpg', 'AluCan668.jpg', 'AluCan64.jpg', 'AluCan563.jpg', 'AluCan671.jpg', 'AluCan572.jpg', 'AluCan562.jpg', 'AluCan618.jpg', 'AluCan66.jpg', 'AluCan621.jpg', 'AluCan56.jpg', 'AluCan587.jpg', 'AluCan628.jpg', 'AluCan6.jpg', 'AluCan601.jpg', 'AluCan658.jpg', 'AluCan61.jpg', 'AluCan625.jpg', 'AluCan650.jpg', 'AluCan590.jpg', 'AluCan589.jpg', 'AluCan611.jpg', 'AluCan655.jpg', 'AluCan617.jpg', 'AluCan604.jpg', 'AluCan58.jpg', 'AluCan591.jpg', 'AluCan67.jpg', 'AluCan627.jpg', 'AluCan637.jpg', 'AluCan586.jpg', 'AluCan630.jpg', 'AluCan624.jpg', 'AluCan638.jpg', 'AluCan574.jpg', 'AluCan619.jpg', 'AluCan557.jpg', 'AluCan653.jpg', 'AluCan620.jpg', 'AluCan560.jpg', 'AluCan669.jpg', 'AluCan631.jpg', 'AluCan632.jpg', 'AluCan566.jpg', 'AluCan651.jpg', 'AluCan613.jpg', 'AluCan641.jpg', 'AluCan65.jpg', 'AluCan667.jpg', 'AluCan610.jpg', 'AluCan565.jpg', 'AluCan666.jpg', 'AluCan568.jpg', 'AluCan600.jpg', 'AluCan578.jpg', 'AluCan59.jpg', 'AluCan663.jpg', 'AluCan659.jpg', 'AluCan670.jpg', 'AluCan612.jpg', 'AluCan629.jpg', 'AluCan646.jpg', 'AluCan559.jpg', 'AluCan656.jpg', 'AluCan583.jpg', 'AluCan577.jpg', 'AluCan649.jpg', 'AluCan595.jpg', 'AluCan673.jpg', 'AluCan594.jpg', 'AluCan564.jpg', 'AluCan579.jpg', 'AluCan57.jpg', 'AluCan599.jpg', 'AluCan609.jpg', 'AluCan607.jpg', 'AluCan576.jpg', 'AluCan648.jpg', 'AluCan664.jpg', 'AluCan580.jpg', 'AluCan585.jpg', 'AluCan592.jpg', 'AluCan647.jpg', 'AluCan602.jpg', 'AluCan569.jpg', 'AluCan654.jpg', 'AluCan615.jpg', 'AluCan558.jpg', 'AluCan644.jpg', 'AluCan575.jpg', 'AluCan622.jpg', 'AluCan567.jpg', 'AluCan582.jpg', 'AluCan636.jpg', 'AluCan598.jpg', 'AluCan63.jpg', 'AluCan662.jpg', 'AluCan573.jpg', 'AluCan62.jpg', 'AluCan634.jpg', 'AluCan570.jpg', 'AluCan672.jpg', 'AluCan754.jpg', 'AluCan696.jpg', 'AluCan734.jpg', 'AluCan695.jpg', 'AluCan727.jpg', 'AluCan782.jpg', 'AluCan760.jpg', 'AluCan731.jpg', 'AluCan723.jpg', 'AluCan730.jpg', 'AluCan682.jpg', 'AluCan752.jpg', 'AluCan692.jpg', 'AluCan749.jpg', 'AluCan78.jpg', 'AluCan764.jpg', 'AluCan72.jpg', 'AluCan736.jpg', 'AluCan769.jpg', 'AluCan717.jpg', 'AluCan74.jpg', 'AluCan744.jpg', 'AluCan776.jpg', 'AluCan677.jpg', 'AluCan711.jpg', 'AluCan780.jpg', 'AluCan712.jpg', 'AluCan683.jpg', 'AluCan765.jpg', 'AluCan725.jpg', 'AluCan71.jpg', 'AluCan684.jpg', 'AluCan715.jpg', 'AluCan733.jpg', 'AluCan756.jpg', 'AluCan688.jpg', 'AluCan679.jpg', 'AluCan772.jpg', 'AluCan728.jpg', 'AluCan786.jpg', 'AluCan773.jpg', 'AluCan781.jpg', 'AluCan788.jpg', 'AluCan740.jpg', 'AluCan757.jpg', 'AluCan720.jpg', 'AluCan742.jpg', 'AluCan775.jpg', 'AluCan691.jpg', 'AluCan779.jpg', 'AluCan698.jpg', 'AluCan705.jpg', 'AluCan706.jpg', 'AluCan73.jpg', 'AluCan746.jpg', 'AluCan737.jpg', 'AluCan777.jpg', 'AluCan678.jpg', 'AluCan704.jpg', 'AluCan675.jpg', 'AluCan703.jpg', 'AluCan726.jpg', 'AluCan766.jpg', 'AluCan694.jpg', 'AluCan680.jpg', 'AluCan770.jpg', 'AluCan762.jpg', 'AluCan681.jpg', 'AluCan753.jpg', 'AluCan741.jpg', 'AluCan7.jpg', 'AluCan755.jpg', 'AluCan718.jpg', 'AluCan690.jpg', 'AluCan787.jpg', 'AluCan700.jpg', 'AluCan687.jpg', 'AluCan75.jpg', 'AluCan724.jpg', 'AluCan784.jpg', 'AluCan745.jpg', 'AluCan701.jpg', 'AluCan774.jpg', 'AluCan735.jpg', 'AluCan708.jpg', 'AluCan739.jpg', 'AluCan721.jpg', 'AluCan747.jpg', 'AluCan68.jpg', 'AluCan719.jpg', 'AluCan685.jpg', 'AluCan716.jpg', 'AluCan709.jpg', 'AluCan732.jpg', 'AluCan76.jpg', 'AluCan771.jpg', 'AluCan750.jpg', 'AluCan702.jpg', 'AluCan713.jpg', 'AluCan697.jpg', 'AluCan785.jpg', 'AluCan767.jpg', 'AluCan743.jpg', 'AluCan686.jpg', 'AluCan751.jpg', 'AluCan761.jpg', 'AluCan763.jpg', 'AluCan674.jpg', 'AluCan699.jpg', 'AluCan783.jpg', 'AluCan768.jpg', 'AluCan707.jpg', 'AluCan710.jpg', 'AluCan69.jpg', 'AluCan759.jpg', 'AluCan738.jpg', 'AluCan722.jpg', 'AluCan693.jpg', 'AluCan689.jpg', 'AluCan70.jpg', 'AluCan714.jpg', 'AluCan729.jpg', 'AluCan758.jpg', 'AluCan676.jpg', 'AluCan748.jpg', 'AluCan778.jpg', 'AluCan77.jpg', 'AluCan864.jpg', 'AluCan849.jpg', 'AluCan86.jpg', 'AluCan841.jpg', 'AluCan854.jpg', 'AluCan801.jpg', 'AluCan859.jpg', 'AluCan80.jpg', 'AluCan831.jpg', 'AluCan848.jpg', 'AluCan797.jpg', 'AluCan798.jpg', 'AluCan822.jpg', 'AluCan809.jpg', 'AluCan826.jpg', 'AluCan814.jpg', 'AluCan799.jpg', 'AluCan83.jpg', 'AluCan863.jpg', 'AluCan846.jpg', 'AluCan875.jpg', 'AluCan830.jpg', 'AluCan866.jpg', 'AluCan790.jpg', 'AluCan852.jpg', 'AluCan845.jpg', 'AluCan789.jpg', 'AluCan79.jpg', 'AluCan808.jpg', 'AluCan817.jpg', 'AluCan834.jpg', 'AluCan855.jpg', 'AluCan804.jpg', 'AluCan844.jpg', 'AluCan792.jpg', 'AluCan810.jpg', 'AluCan840.jpg', 'AluCan857.jpg', 'AluCan793.jpg', 'AluCan800.jpg', 'AluCan872.jpg', 'AluCan867.jpg', 'AluCan82.jpg', 'AluCan827.jpg', 'AluCan820.jpg', 'AluCan869.jpg', 'AluCan851.jpg', 'AluCan87.jpg', 'AluCan795.jpg', 'AluCan870.jpg', 'AluCan824.jpg', 'AluCan843.jpg', 'AluCan812.jpg', 'AluCan850.jpg', 'AluCan813.jpg', 'AluCan853.jpg', 'AluCan805.jpg', 'AluCan837.jpg', 'AluCan791.jpg', 'AluCan819.jpg', 'AluCan860.jpg', 'AluCan806.jpg', 'AluCan821.jpg', 'AluCan815.jpg', 'AluCan874.jpg', 'AluCan873.jpg', 'AluCan807.jpg', 'AluCan84.jpg', 'AluCan847.jpg', 'AluCan835.jpg', 'AluCan836.jpg', 'AluCan856.jpg', 'AluCan861.jpg', 'AluCan825.jpg', 'AluCan803.jpg', 'AluCan858.jpg', 'AluCan828.jpg', 'AluCan796.jpg', 'AluCan829.jpg', 'AluCan862.jpg', 'AluCan865.jpg', 'AluCan794.jpg', 'AluCan871.jpg', 'AluCan802.jpg', 'AluCan823.jpg', 'AluCan85.jpg', 'AluCan868.jpg', 'AluCan8.jpg', 'AluCan816.jpg', 'AluCan833.jpg', 'AluCan842.jpg', 'AluCan81.jpg', 'AluCan818.jpg', 'AluCan838.jpg', 'AluCan839.jpg', 'AluCan811.jpg', 'AluCan832.jpg', 'AluCan935.jpg', 'AluCan937.jpg', 'AluCan911.jpg', 'AluCan95.jpg', 'AluCan918.jpg', 'AluCan880.jpg', 'AluCan887.jpg', 'AluCan889.jpg', 'AluCan951.jpg', 'AluCan897.jpg', 'AluCan926.jpg', 'AluCan909.jpg', 'AluCan922.jpg', 'AluCan955.jpg', 'AluCan942.jpg', 'AluCan914.jpg', 'AluCan932.jpg', 'AluCan885.jpg', 'AluCan895.jpg', 'AluCan88.jpg', 'AluCan881.jpg', 'AluCan946.jpg', 'AluCan898.jpg', 'AluCan917.jpg', 'AluCan927.jpg', 'AluCan906.jpg', 'AluCan956.jpg', 'AluCan953.jpg', 'AluCan901.jpg', 'AluCan93.jpg', 'AluCan891.jpg', 'AluCan952.jpg', 'AluCan913.jpg', 'AluCan92.jpg', 'AluCan920.jpg', 'AluCan938.jpg', 'AluCan903.jpg', 'AluCan923.jpg', 'AluCan941.jpg', 'AluCan89.jpg', 'AluCan949.jpg', 'AluCan896.jpg', 'AluCan931.jpg', 'AluCan900.jpg', 'AluCan890.jpg', 'AluCan919.jpg', 'AluCan915.jpg', 'AluCan948.jpg', 'AluCan884.jpg', 'AluCan9.jpg', 'AluCan944.jpg', 'AluCan879.jpg', 'AluCan916.jpg', 'AluCan925.jpg', 'AluCan930.jpg', 'AluCan90.jpg', 'AluCan894.jpg', 'AluCan947.jpg', 'AluCan934.jpg', 'AluCan877.jpg', 'AluCan940.jpg', 'AluCan924.jpg', 'AluCan936.jpg', 'AluCan876.jpg', 'AluCan907.jpg', 'AluCan91.jpg', 'AluCan893.jpg', 'AluCan882.jpg', 'AluCan954.jpg', 'AluCan888.jpg', 'AluCan892.jpg', 'AluCan899.jpg', 'AluCan933.jpg', 'AluCan905.jpg', 'AluCan928.jpg', 'AluCan945.jpg', 'AluCan939.jpg', 'AluCan910.jpg', 'AluCan904.jpg', 'AluCan943.jpg', 'AluCan950.jpg', 'AluCan883.jpg', 'AluCan921.jpg', 'AluCan886.jpg', 'AluCan929.jpg', 'AluCan908.jpg', 'AluCan902.jpg', 'AluCan878.jpg', 'AluCan94.jpg', 'AluCan912.jpg', 'AluCan976.jpg', 'AluCan981.jpg', 'AluCan964.jpg', 'AluCan974.jpg', 'AluCan982.jpg', 'AluCan980.jpg', 'AluCan961.jpg', 'AluCan962.jpg', 'AluCan996.jpg', 'AluCan958.jpg', 'AluCan957.jpg', 'AluCan979.jpg', 'AluCan977.jpg', 'AluCan98.jpg', 'AluCan967.jpg', 'AluCan966.jpg', 'AluCan983.jpg', 'AluCan989.jpg', 'AluCan992.jpg', 'AluCan975.jpg', 'AluCan998.jpg', 'AluCan997.jpg', 'AluCan970.jpg', 'AluCan97.jpg', 'AluCan972.jpg', 'AluCan990.jpg', 'AluCan987.jpg', 'AluCan99.jpg', 'AluCan988.jpg', 'AluCan999.jpg', 'AluCan965.jpg', 'AluCan995.jpg', 'AluCan986.jpg', 'AluCan991.jpg', 'AluCan968.jpg', 'AluCan994.jpg', 'AluCan984.jpg', 'AluCan985.jpg', 'AluCan971.jpg', 'AluCan963.jpg', 'AluCan969.jpg', 'AluCan993.jpg', 'AluCan973.jpg', 'AluCan960.jpg', 'AluCan959.jpg', 'AluCan96.jpg', 'AluCan978.jpg', 'AluCan1,000.jpg', 'AluCan107.jpg', 'AluCan1,036.jpg', 'AluCan1,014.jpg', 'AluCan1,004.jpg', 'AluCan1,047.jpg', 'AluCan105.jpg', 'AluCan1,057.jpg', 'AluCan114.jpg', 'AluCan104.jpg', 'AluCan1,035.jpg', 'AluCan1,062.jpg', 'AluCan109.jpg', 'AluCan1,015.jpg', 'AluCan111.jpg', 'AluCan103.jpg', 'AluCan1,051.jpg', 'AluCan1,043.jpg', 'AluCan1,041.jpg', 'AluCan1,017.jpg', 'AluCan1,028.jpg', 'AluCan1,016.jpg', 'AluCan1,008.jpg', 'AluCan1,024.jpg', 'AluCan1,030.jpg', 'AluCan1,019.jpg', 'AluCan1,005.jpg', 'AluCan1,050.jpg', 'AluCan102.jpg', 'AluCan1,021.jpg', 'AluCan1,013.jpg', 'AluCan1,045.jpg', 'AluCan110.jpg', 'AluCan1,059.jpg', 'AluCan1,002.jpg', 'AluCan1,027.jpg', 'AluCan1,063.jpg', 'AluCan1,039.jpg', 'AluCan1,061.jpg', 'AluCan1,032.jpg', 'AluCan1,012.jpg', 'AluCan1,034.jpg', 'AluCan106.jpg', 'AluCan1,006.jpg', 'AluCan1,011.jpg', 'AluCan11.jpg', 'AluCan1,022.jpg', 'AluCan1,049.jpg', 'AluCan1,023.jpg', 'AluCan1,055.jpg', 'AluCan1,038.jpg', 'AluCan1,060.jpg', 'AluCan1,053.jpg', 'AluCan1,042.jpg', 'AluCan1,026.jpg', 'AluCan101.jpg', 'AluCan1,058.jpg', 'AluCan1,001.jpg', 'AluCan1,044.jpg', 'AluCan113.jpg']\n",
            "    PET Glass HDPEM AluCan\n",
            "0  1508  1232  1028   1060\n"
          ]
        }
      ]
    },
    {
      "cell_type": "code",
      "source": [
        "# plot # of files\n",
        "\n",
        "plt.figure(figsize=(10, 6))\n",
        "df_dw.sum().plot(kind='bar', color='orange')\n",
        "plt.title('Number of Files in Each Folder')\n",
        "plt.xlabel('Folder')\n",
        "plt.ylabel('Number of Files')\n",
        "plt.xticks(rotation=0, ha='center')\n",
        "plt.tight_layout()\n",
        "\n",
        "for i, (folder, value) in enumerate(df_dw.sum().iteritems()):\n",
        "    print(i, value)\n",
        "    plt.text(i, value + 0.1, str(value), ha='center')\n",
        "\n",
        "plt.show()"
      ],
      "metadata": {
        "colab": {
          "base_uri": "https://localhost:8080/",
          "height": 714
        },
        "id": "MqDxp2L3P8Y1",
        "outputId": "0132cd43-7abb-4914-b6e3-8e019ae2b4f1"
      },
      "execution_count": null,
      "outputs": [
        {
          "output_type": "stream",
          "name": "stdout",
          "text": [
            "0 1508\n",
            "1 1232\n",
            "2 1028\n",
            "3 1060\n"
          ]
        },
        {
          "output_type": "stream",
          "name": "stderr",
          "text": [
            "<ipython-input-113-9a031258b264>:11: FutureWarning: iteritems is deprecated and will be removed in a future version. Use .items instead.\n",
            "  for i, (folder, value) in enumerate(df_dw.sum().iteritems()):\n"
          ]
        },
        {
          "output_type": "display_data",
          "data": {
            "text/plain": [
              "<Figure size 1000x600 with 1 Axes>"
            ],
            "image/png": "[encoded data removed]"
          },
          "metadata": {}
        }
      ]
    },
    {
      "cell_type": "code",
      "source": [
        "# find format of images\n",
        "\n",
        "ff_list = []\n",
        "\n",
        "for f in drinkingwaste_folders:\n",
        "  folder_path = os.path.join(drinkingwaste_path, f)\n",
        "\n",
        "  if os.path.isdir(folder_path):\n",
        "    files_in_folder = os.listdir(folder_path)\n",
        "\n",
        "    for file in files_in_folder:\n",
        "        full_path = os.path.join(folder_path, file)\n",
        "\n",
        "        root, extension = os.path.splitext(full_path)\n",
        "\n",
        "        # Extract the file format (extension)\n",
        "        file_format = extension[1:]  # Remove the leading dot\n",
        "\n",
        "        ff_list.append(file_format)\n",
        "\n",
        "ff_list = [s.upper() for s in ff_list]\n",
        "\n",
        "counter = Counter(ff_list)\n",
        "\n",
        "ff_sum = [(item, count) for item, count in counter.items()]\n",
        "df_ff_sum = pd.DataFrame(ff_sum, columns=['Value', 'Frequency'])\n",
        "\n",
        "\n",
        "print(df_ff_sum)"
      ],
      "metadata": {
        "colab": {
          "base_uri": "https://localhost:8080/"
        },
        "id": "5M0Qta6eL9uc",
        "outputId": "ff0b038e-2fc8-4da8-cfb3-32630d434bce"
      },
      "execution_count": null,
      "outputs": [
        {
          "output_type": "stream",
          "name": "stdout",
          "text": [
            "  Value  Frequency\n",
            "0   JPG       4820\n",
            "1  HEIC          8\n"
          ]
        }
      ]
    },
    {
      "cell_type": "code",
      "source": [
        "# Plotting the bar chart\n",
        "plt.figure(figsize=(10, 6))\n",
        "df_ff_sum.plot(x='Value', y='Frequency', kind='bar', color='skyblue')\n",
        "plt.title('Histogram of File Format')\n",
        "plt.xlabel('format')\n",
        "plt.ylabel('Frequency')\n",
        "\n",
        "for i, value in enumerate(df_ff_sum['Frequency']):\n",
        "    print(i, value)\n",
        "    plt.text(i, value + 0.1, str(value), ha='center')\n",
        "\n",
        "plt.show()"
      ],
      "metadata": {
        "colab": {
          "base_uri": "https://localhost:8080/",
          "height": 545
        },
        "id": "Z3EK6cZ5Ms34",
        "outputId": "6ec8f80b-d418-4b3c-80b0-22d20051d2fa"
      },
      "execution_count": null,
      "outputs": [
        {
          "output_type": "stream",
          "name": "stdout",
          "text": [
            "0 4820\n",
            "1 8\n"
          ]
        },
        {
          "output_type": "display_data",
          "data": {
            "text/plain": [
              "<Figure size 1000x600 with 0 Axes>"
            ]
          },
          "metadata": {}
        },
        {
          "output_type": "display_data",
          "data": {
            "text/plain": [
              "<Figure size 640x480 with 1 Axes>"
            ],
            "image/png": "[encoded data removed]"
          },
          "metadata": {}
        }
      ]
    },
    {
      "cell_type": "code",
      "source": [
        "# find shape of images\n",
        "\n",
        "imgshape_list = []\n",
        "\n",
        "for f in drinkingwaste_folders:\n",
        "  folder_path = os.path.join(drinkingwaste_path, f)\n",
        "\n",
        "  if os.path.isdir(folder_path):\n",
        "    files_in_folder = os.listdir(folder_path)\n",
        "\n",
        "    for file in files_in_folder:\n",
        "        full_path = os.path.join(folder_path, file)\n",
        "        im = Image.open(full_path, 'r')\n",
        "\n",
        "        image_size = str(im.size[0])+ 'x' + str(im.size[1])\n",
        "        imgshape_list.append(image_size)\n",
        "        #print(image_size)\n",
        "\n",
        "counter = Counter(imgshape_list)\n",
        "is_sum = [(item, count) for item, count in counter.items()]\n",
        "\n",
        "df_is_sum = pd.DataFrame(is_sum, columns=['Value', 'Frequency'])"
      ],
      "metadata": {
        "id": "ajNnHZA5IWrD"
      },
      "execution_count": null,
      "outputs": []
    },
    {
      "cell_type": "code",
      "source": [
        "# plot shape of images\n",
        "\n",
        "print(df_is_sum)\n",
        "\n",
        "plt.figure(figsize=(10, 6))\n",
        "df_is_sum.plot(x='Value', y='Frequency', kind='bar', color='lightgreen')\n",
        "plt.title('Histogram of Image Resolution')\n",
        "plt.xlabel('Resolution')\n",
        "plt.ylabel('Frequency')\n",
        "plt.xticks(rotation=45, ha='right')\n",
        "\n",
        "for i, value in enumerate(df_is_sum['Frequency']):\n",
        "    plt.text(i, value + 0.1, str(value), ha='center')\n",
        "\n",
        "plt.show()"
      ],
      "metadata": {
        "colab": {
          "base_uri": "https://localhost:8080/",
          "height": 666
        },
        "id": "RzsHGWkeSzFX",
        "outputId": "8e84a7f7-d2df-4237-96ed-629ad2ea0272"
      },
      "execution_count": null,
      "outputs": [
        {
          "output_type": "stream",
          "name": "stdout",
          "text": [
            "       Value  Frequency\n",
            "0    384x512        389\n",
            "1    512x683       3665\n",
            "2    512x384        764\n",
            "3  4032x3024          1\n",
            "4  3024x4032          8\n",
            "5    505x634          1\n"
          ]
        },
        {
          "output_type": "display_data",
          "data": {
            "text/plain": [
              "<Figure size 1000x600 with 0 Axes>"
            ]
          },
          "metadata": {}
        },
        {
          "output_type": "display_data",
          "data": {
            "text/plain": [
              "<Figure size 640x480 with 1 Axes>"
            ],
            "image/png": "[encoded data removed]"
          },
          "metadata": {}
        }
      ]
    },
    {
      "cell_type": "code",
      "source": [
        "## trash box\n",
        "\n",
        "trashbox_path = '/content/drive/MyDrive/MIDS Capstone/Datasets/TrashBox_train_set/'\n",
        "\n",
        "trashbox_folders = os.listdir(trashbox_path)\n",
        "if '.DS_Store' in trashbox_folders:\n",
        "    trashbox_folders.remove('.DS_Store')\n",
        "\n",
        "df_tb = pd.DataFrame(columns = trashbox_folders)\n",
        "\n",
        "for f in trashbox_folders:\n",
        "  folder_path = os.path.join(trashbox_path, f)\n",
        "\n",
        "  if os.path.isdir(folder_path):\n",
        "    print(f)\n",
        "    files_in_folder = os.listdir(folder_path)\n",
        "    num_files = len(files_in_folder)\n",
        "\n",
        "    df_tb.loc[0, f] = num_files\n",
        "\n",
        "\n",
        "print(df_tb)"
      ],
      "metadata": {
        "colab": {
          "base_uri": "https://localhost:8080/"
        },
        "id": "DfHdvTyJh92P",
        "outputId": "534cb1e4-2f21-4872-bb55-f855352aacd7"
      },
      "execution_count": null,
      "outputs": [
        {
          "output_type": "stream",
          "name": "stdout",
          "text": [
            "e-waste\n",
            "paper\n",
            "plastic\n",
            "cardboard\n",
            "glass\n",
            "metal\n",
            "medical\n",
            "  e-waste paper plastic cardboard glass metal medical\n",
            "0    2406  2156    2135      1930  2022  2068    1585\n"
          ]
        }
      ]
    },
    {
      "cell_type": "code",
      "source": [
        "plt.figure(figsize=(10, 6))\n",
        "df_tb.sum().plot(kind='bar', color='orange')\n",
        "plt.title('Number of Files in Each Folder')\n",
        "plt.xlabel('Folder')\n",
        "plt.ylabel('Number of Files')\n",
        "plt.xticks(rotation=0, ha='center')\n",
        "plt.tight_layout()\n",
        "\n",
        "for i, (folder, value) in enumerate(df_tb.sum().iteritems()):\n",
        "    print(i, value)\n",
        "    plt.text(i, value + 0.1, str(value), ha='center')\n",
        "\n",
        "plt.show()"
      ],
      "metadata": {
        "colab": {
          "base_uri": "https://localhost:8080/",
          "height": 768
        },
        "id": "YVAEXyYMicBm",
        "outputId": "d2f2545c-c6f1-4df1-ff5d-ff541f194512"
      },
      "execution_count": null,
      "outputs": [
        {
          "output_type": "stream",
          "name": "stderr",
          "text": [
            "<ipython-input-143-c749abba988c>:9: FutureWarning: iteritems is deprecated and will be removed in a future version. Use .items instead.\n",
            "  for i, (folder, value) in enumerate(df_tb.sum().iteritems()):\n"
          ]
        },
        {
          "output_type": "stream",
          "name": "stdout",
          "text": [
            "0 2406\n",
            "1 2156\n",
            "2 2135\n",
            "3 1930\n",
            "4 2022\n",
            "5 2068\n",
            "6 1585\n"
          ]
        },
        {
          "output_type": "display_data",
          "data": {
            "text/plain": [
              "<Figure size 1000x600 with 1 Axes>"
            ],
            "image/png": "[encoded data removed]"
          },
          "metadata": {}
        }
      ]
    },
    {
      "cell_type": "code",
      "source": [
        "# find format of images\n",
        "\n",
        "ff_list = []\n",
        "\n",
        "for f in trashbox_folders:\n",
        "  folder_path = os.path.join(trashbox_path, f)\n",
        "\n",
        "  if os.path.isdir(folder_path):\n",
        "    files_in_folder = os.listdir(folder_path)\n",
        "\n",
        "    for file in files_in_folder:\n",
        "        full_path = os.path.join(folder_path, file)\n",
        "\n",
        "        root, extension = os.path.splitext(full_path)\n",
        "\n",
        "        # Extract the file format (extension)\n",
        "        file_format = extension[1:]  # Remove the leading dot\n",
        "\n",
        "        ff_list.append(file_format)\n",
        "\n",
        "ff_list = [s.upper() for s in ff_list]\n",
        "\n",
        "counter = Counter(ff_list)\n",
        "\n",
        "ff_sum = [(item, count) for item, count in counter.items()]\n",
        "df_ff_sum = pd.DataFrame(ff_sum, columns=['Value', 'Frequency'])\n",
        "\n",
        "\n",
        "print(df_ff_sum)"
      ],
      "metadata": {
        "colab": {
          "base_uri": "https://localhost:8080/"
        },
        "id": "rQsVcxGXjmLR",
        "outputId": "1feb382a-edaf-4e20-c7c4-5649e819df28"
      },
      "execution_count": null,
      "outputs": [
        {
          "output_type": "stream",
          "name": "stdout",
          "text": [
            "  Value  Frequency\n",
            "0   JPG      14302\n"
          ]
        }
      ]
    },
    {
      "cell_type": "code",
      "source": [
        "# Plotting the bar chart\n",
        "plt.figure(figsize=(10, 6))\n",
        "df_ff_sum.plot(x='Value', y='Frequency', kind='bar', color='skyblue')\n",
        "plt.title('Histogram of File Format')\n",
        "plt.xlabel('format')\n",
        "plt.ylabel('Frequency')\n",
        "\n",
        "for i, value in enumerate(df_ff_sum['Frequency']):\n",
        "    print(i, value)\n",
        "    plt.text(i, value + 0.1, str(value), ha='center')\n",
        "\n",
        "plt.show()"
      ],
      "metadata": {
        "colab": {
          "base_uri": "https://localhost:8080/",
          "height": 517
        },
        "id": "rKImE1mJjywf",
        "outputId": "25eb0f9c-0acc-4ed7-bf86-394434ff5d71"
      },
      "execution_count": null,
      "outputs": [
        {
          "output_type": "stream",
          "name": "stdout",
          "text": [
            "0 14302\n"
          ]
        },
        {
          "output_type": "display_data",
          "data": {
            "text/plain": [
              "<Figure size 1000x600 with 0 Axes>"
            ]
          },
          "metadata": {}
        },
        {
          "output_type": "display_data",
          "data": {
            "text/plain": [
              "<Figure size 640x480 with 1 Axes>"
            ],
            "image/png": "[encoded data removed]"
          },
          "metadata": {}
        }
      ]
    },
    {
      "cell_type": "code",
      "source": [
        "# find shape of images\n",
        "\n",
        "imgshape_list = []\n",
        "\n",
        "for f in trashbox_folders:\n",
        "  folder_path = os.path.join(trashbox_path, f)\n",
        "\n",
        "  if os.path.isdir(folder_path):\n",
        "    files_in_folder = os.listdir(folder_path)\n",
        "\n",
        "    for file in files_in_folder:\n",
        "        full_path = os.path.join(folder_path, file)\n",
        "        im = Image.open(full_path, 'r')\n",
        "\n",
        "        image_size = str(im.size[0])+ 'x' + str(im.size[1])\n",
        "        imgshape_list.append(image_size)\n",
        "        #print(image_size)\n",
        "\n",
        "counter = Counter(imgshape_list)\n",
        "is_sum = [(item, count) for item, count in counter.items()]\n",
        "\n",
        "df_is_sum = pd.DataFrame(is_sum, columns=['Value', 'Frequency'])"
      ],
      "metadata": {
        "colab": {
          "base_uri": "https://localhost:8080/",
          "height": 375
        },
        "id": "FOfIOsJVj26I",
        "outputId": "a1d68709-4222-40ac-aec4-2fa90031a411"
      },
      "execution_count": null,
      "outputs": [
        {
          "output_type": "error",
          "ename": "UnidentifiedImageError",
          "evalue": "cannot identify image file '/content/drive/MyDrive/MIDS Capstone/Datasets/TrashBox_train_set/paper/paper 2273.jpg'",
          "traceback": [
            "\u001b[0;31m---------------------------------------------------------------------------\u001b[0m",
            "\u001b[0;31mUnidentifiedImageError\u001b[0m                    Traceback (most recent call last)",
            "\u001b[0;32m<ipython-input-155-70331c2ea6e2>\u001b[0m in \u001b[0;36m<cell line: 5>\u001b[0;34m()\u001b[0m\n\u001b[1;32m     11\u001b[0m     \u001b[0;32mfor\u001b[0m \u001b[0mfile\u001b[0m \u001b[0;32min\u001b[0m \u001b[0mfiles_in_folder\u001b[0m\u001b[0;34m:\u001b[0m\u001b[0;34m\u001b[0m\u001b[0;34m\u001b[0m\u001b[0m\n\u001b[1;32m     12\u001b[0m         \u001b[0mfull_path\u001b[0m \u001b[0;34m=\u001b[0m \u001b[0mos\u001b[0m\u001b[0;34m.\u001b[0m\u001b[0mpath\u001b[0m\u001b[0;34m.\u001b[0m\u001b[0mjoin\u001b[0m\u001b[0;34m(\u001b[0m\u001b[0mfolder_path\u001b[0m\u001b[0;34m,\u001b[0m \u001b[0mfile\u001b[0m\u001b[0;34m)\u001b[0m\u001b[0;34m\u001b[0m\u001b[0;34m\u001b[0m\u001b[0m\n\u001b[0;32m---> 13\u001b[0;31m         \u001b[0mim\u001b[0m \u001b[0;34m=\u001b[0m \u001b[0mImage\u001b[0m\u001b[0;34m.\u001b[0m\u001b[0mopen\u001b[0m\u001b[0;34m(\u001b[0m\u001b[0mfull_path\u001b[0m\u001b[0;34m,\u001b[0m \u001b[0;34m'r'\u001b[0m\u001b[0;34m)\u001b[0m\u001b[0;34m\u001b[0m\u001b[0;34m\u001b[0m\u001b[0m\n\u001b[0m\u001b[1;32m     14\u001b[0m \u001b[0;34m\u001b[0m\u001b[0m\n\u001b[1;32m     15\u001b[0m         \u001b[0mimage_size\u001b[0m \u001b[0;34m=\u001b[0m \u001b[0mstr\u001b[0m\u001b[0;34m(\u001b[0m\u001b[0mim\u001b[0m\u001b[0;34m.\u001b[0m\u001b[0msize\u001b[0m\u001b[0;34m[\u001b[0m\u001b[0;36m0\u001b[0m\u001b[0;34m]\u001b[0m\u001b[0;34m)\u001b[0m\u001b[0;34m+\u001b[0m \u001b[0;34m'x'\u001b[0m \u001b[0;34m+\u001b[0m \u001b[0mstr\u001b[0m\u001b[0;34m(\u001b[0m\u001b[0mim\u001b[0m\u001b[0;34m.\u001b[0m\u001b[0msize\u001b[0m\u001b[0;34m[\u001b[0m\u001b[0;36m1\u001b[0m\u001b[0;34m]\u001b[0m\u001b[0;34m)\u001b[0m\u001b[0;34m\u001b[0m\u001b[0;34m\u001b[0m\u001b[0m\n",
            "\u001b[0;32m/usr/local/lib/python3.10/dist-packages/PIL/Image.py\u001b[0m in \u001b[0;36mopen\u001b[0;34m(fp, mode, formats)\u001b[0m\n\u001b[1;32m   3281\u001b[0m         \u001b[0mwarnings\u001b[0m\u001b[0;34m.\u001b[0m\u001b[0mwarn\u001b[0m\u001b[0;34m(\u001b[0m\u001b[0mmessage\u001b[0m\u001b[0;34m)\u001b[0m\u001b[0;34m\u001b[0m\u001b[0;34m\u001b[0m\u001b[0m\n\u001b[1;32m   3282\u001b[0m     \u001b[0mmsg\u001b[0m \u001b[0;34m=\u001b[0m \u001b[0;34m\"cannot identify image file %r\"\u001b[0m \u001b[0;34m%\u001b[0m \u001b[0;34m(\u001b[0m\u001b[0mfilename\u001b[0m \u001b[0;32mif\u001b[0m \u001b[0mfilename\u001b[0m \u001b[0;32melse\u001b[0m \u001b[0mfp\u001b[0m\u001b[0;34m)\u001b[0m\u001b[0;34m\u001b[0m\u001b[0;34m\u001b[0m\u001b[0m\n\u001b[0;32m-> 3283\u001b[0;31m     \u001b[0;32mraise\u001b[0m \u001b[0mUnidentifiedImageError\u001b[0m\u001b[0;34m(\u001b[0m\u001b[0mmsg\u001b[0m\u001b[0;34m)\u001b[0m\u001b[0;34m\u001b[0m\u001b[0;34m\u001b[0m\u001b[0m\n\u001b[0m\u001b[1;32m   3284\u001b[0m \u001b[0;34m\u001b[0m\u001b[0m\n\u001b[1;32m   3285\u001b[0m \u001b[0;34m\u001b[0m\u001b[0m\n",
            "\u001b[0;31mUnidentifiedImageError\u001b[0m: cannot identify image file '/content/drive/MyDrive/MIDS Capstone/Datasets/TrashBox_train_set/paper/paper 2273.jpg'"
          ]
        }
      ]
    },
    {
      "cell_type": "code",
      "source": [
        "fp = '/content/drive/MyDrive/MIDS Capstone/Datasets/TrashBox_train_set/paper/paper 2273.jpg'\n",
        "\n",
        "img = Image.open(fp)\n",
        "img.show()\n"
      ],
      "metadata": {
        "id": "eQ9v_0NeoXJf"
      },
      "execution_count": null,
      "outputs": []
    },
    {
      "cell_type": "code",
      "source": [
        "# plot shape of images\n",
        "\n",
        "print(df_is_sum)\n",
        "\n",
        "plt.figure(figsize=(10, 6))\n",
        "df_is_sum.plot(x='Value', y='Frequency', kind='bar', color='lightgreen')\n",
        "plt.title('Histogram of Image Resolution')\n",
        "plt.xlabel('Resolution')\n",
        "plt.ylabel('Frequency')\n",
        "plt.xticks(rotation=45, ha='right')\n",
        "\n",
        "for i, value in enumerate(df_is_sum['Frequency']):\n",
        "    plt.text(i, value + 0.1, str(value), ha='center')\n",
        "\n",
        "plt.show()"
      ],
      "metadata": {
        "id": "_s2QXJMukBBf"
      },
      "execution_count": null,
      "outputs": []
    }
  ]
}